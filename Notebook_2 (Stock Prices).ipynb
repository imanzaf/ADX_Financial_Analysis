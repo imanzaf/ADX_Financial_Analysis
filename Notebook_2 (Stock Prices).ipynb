{
 "cells": [
  {
   "cell_type": "markdown",
   "id": "fc87888c",
   "metadata": {},
   "source": [
    "## Stock Price (Time Series) Visualisations"
   ]
  },
  {
   "cell_type": "code",
   "execution_count": 2,
   "id": "da4685dd",
   "metadata": {},
   "outputs": [],
   "source": [
    "import pandas as pd\n",
    "import numpy as np\n",
    "import matplotlib.pyplot as plt\n",
    "import seaborn as sns\n",
    "import chart_studio.plotly as py\n",
    "import cufflinks as cf\n",
    "%matplotlib inline"
   ]
  },
  {
   "cell_type": "code",
   "execution_count": 3,
   "id": "e837f027",
   "metadata": {},
   "outputs": [
    {
     "data": {
      "text/html": [
       "        <script type=\"text/javascript\">\n",
       "        window.PlotlyConfig = {MathJaxConfig: 'local'};\n",
       "        if (window.MathJax) {MathJax.Hub.Config({SVG: {font: \"STIX-Web\"}});}\n",
       "        if (typeof require !== 'undefined') {\n",
       "        require.undef(\"plotly\");\n",
       "        requirejs.config({\n",
       "            paths: {\n",
       "                'plotly': ['https://cdn.plot.ly/plotly-2.2.0.min']\n",
       "            }\n",
       "        });\n",
       "        require(['plotly'], function(Plotly) {\n",
       "            window._Plotly = Plotly;\n",
       "        });\n",
       "        }\n",
       "        </script>\n",
       "        "
      ]
     },
     "metadata": {},
     "output_type": "display_data"
    },
    {
     "data": {
      "text/html": [
       "        <script type=\"text/javascript\">\n",
       "        window.PlotlyConfig = {MathJaxConfig: 'local'};\n",
       "        if (window.MathJax) {MathJax.Hub.Config({SVG: {font: \"STIX-Web\"}});}\n",
       "        if (typeof require !== 'undefined') {\n",
       "        require.undef(\"plotly\");\n",
       "        requirejs.config({\n",
       "            paths: {\n",
       "                'plotly': ['https://cdn.plot.ly/plotly-2.2.0.min']\n",
       "            }\n",
       "        });\n",
       "        require(['plotly'], function(Plotly) {\n",
       "            window._Plotly = Plotly;\n",
       "        });\n",
       "        }\n",
       "        </script>\n",
       "        "
      ]
     },
     "metadata": {},
     "output_type": "display_data"
    }
   ],
   "source": [
    "from plotly.offline import download_plotlyjs, init_notebook_mode, plot, iplot\n",
    "\n",
    "init_notebook_mode(connected=True)\n",
    "\n",
    "cf.go_offline()"
   ]
  },
  {
   "cell_type": "code",
   "execution_count": 1,
   "id": "7ffc76cb",
   "metadata": {},
   "outputs": [],
   "source": [
    "#keep plotly figures persistent between sessions\n",
    "import plotly.io as pio\n",
    "pio.renderers.default='notebook'"
   ]
  },
  {
   "cell_type": "code",
   "execution_count": 4,
   "id": "57901954",
   "metadata": {},
   "outputs": [],
   "source": [
    "IHC = pd.read_excel('data/IHC 6 Month.xls', sheet_name='Sheet1')"
   ]
  },
  {
   "cell_type": "code",
   "execution_count": 5,
   "id": "8ebfd5aa",
   "metadata": {},
   "outputs": [],
   "source": [
    "ADH = pd.read_excel('data/ADH Latest.xls', sheet_name='Sheet2')"
   ]
  },
  {
   "cell_type": "code",
   "execution_count": 6,
   "id": "e12dcd83",
   "metadata": {},
   "outputs": [],
   "source": [
    "ET = pd.read_excel('data/Etisalat 6 Month.xls', sheet_name='Sheet1')"
   ]
  },
  {
   "cell_type": "code",
   "execution_count": 7,
   "id": "a9f93e61",
   "metadata": {},
   "outputs": [],
   "source": [
    "FAB = pd.read_excel('data/FAB 6 Month.xls', sheet_name='Sheet1')"
   ]
  },
  {
   "cell_type": "code",
   "execution_count": 8,
   "id": "139038e7",
   "metadata": {},
   "outputs": [],
   "source": [
    "TAQA = pd.read_excel('data/TAQA 6 Month.xlsx', sheet_name='Sheet1')"
   ]
  },
  {
   "cell_type": "code",
   "execution_count": 9,
   "id": "98399b31",
   "metadata": {},
   "outputs": [],
   "source": [
    "IHC.rename({'Volume':'Volume_IHC'}, axis=1, inplace=True)\n",
    "ADH.rename({'Volume':'Volume_ADH'}, axis=1, inplace=True)\n",
    "ET.rename({'Volume':'Volume_ET'}, axis=1, inplace=True)\n",
    "FAB.rename({'Volume':'Volume_FAB'}, axis=1, inplace=True)"
   ]
  },
  {
   "cell_type": "code",
   "execution_count": 12,
   "id": "716a3397",
   "metadata": {},
   "outputs": [],
   "source": [
    "ADH.rename({'Close':'ADH'}, axis=1, inplace=True)\n",
    "IHC.rename({'Close':'IHC'}, axis=1, inplace=True)\n",
    "ET.rename({'Close':'ETISALAT'}, axis=1, inplace=True)\n",
    "FAB.rename({'Close':'FAB'}, axis=1, inplace=True)\n",
    "TAQA.rename({'Close': 'TAQA'}, axis=1, inplace=True)"
   ]
  },
  {
   "cell_type": "code",
   "execution_count": 16,
   "id": "97fb4b5c",
   "metadata": {},
   "outputs": [
    {
     "data": {
      "text/html": [
       "<div>\n",
       "<style scoped>\n",
       "    .dataframe tbody tr th:only-of-type {\n",
       "        vertical-align: middle;\n",
       "    }\n",
       "\n",
       "    .dataframe tbody tr th {\n",
       "        vertical-align: top;\n",
       "    }\n",
       "\n",
       "    .dataframe thead th {\n",
       "        text-align: right;\n",
       "    }\n",
       "</style>\n",
       "<table border=\"1\" class=\"dataframe\">\n",
       "  <thead>\n",
       "    <tr style=\"text-align: right;\">\n",
       "      <th></th>\n",
       "      <th>Date</th>\n",
       "      <th>IHC</th>\n",
       "    </tr>\n",
       "  </thead>\n",
       "  <tbody>\n",
       "    <tr>\n",
       "      <th>0</th>\n",
       "      <td>2021-02-01</td>\n",
       "      <td>46.00</td>\n",
       "    </tr>\n",
       "    <tr>\n",
       "      <th>1</th>\n",
       "      <td>2021-02-02</td>\n",
       "      <td>46.04</td>\n",
       "    </tr>\n",
       "    <tr>\n",
       "      <th>2</th>\n",
       "      <td>2021-02-03</td>\n",
       "      <td>46.06</td>\n",
       "    </tr>\n",
       "    <tr>\n",
       "      <th>3</th>\n",
       "      <td>2021-02-04</td>\n",
       "      <td>46.08</td>\n",
       "    </tr>\n",
       "    <tr>\n",
       "      <th>4</th>\n",
       "      <td>2021-02-07</td>\n",
       "      <td>46.10</td>\n",
       "    </tr>\n",
       "  </tbody>\n",
       "</table>\n",
       "</div>"
      ],
      "text/plain": [
       "        Date    IHC\n",
       "0 2021-02-01  46.00\n",
       "1 2021-02-02  46.04\n",
       "2 2021-02-03  46.06\n",
       "3 2021-02-04  46.08\n",
       "4 2021-02-07  46.10"
      ]
     },
     "execution_count": 16,
     "metadata": {},
     "output_type": "execute_result"
    }
   ],
   "source": [
    "IHC.head()"
   ]
  },
  {
   "cell_type": "code",
   "execution_count": 15,
   "id": "13094792",
   "metadata": {},
   "outputs": [
    {
     "data": {
      "application/vnd.plotly.v1+json": {
       "config": {
        "linkText": "Export to plot.ly",
        "plotlyServerURL": "https://plot.ly",
        "showLink": true
       },
       "data": [
        {
         "line": {
          "color": "rgba(255, 153, 51, 1.0)",
          "dash": "solid",
          "shape": "linear",
          "width": 1.3
         },
         "mode": "lines",
         "name": "IHC",
         "text": "",
         "type": "scatter",
         "x": [
          "2021-02-01",
          "2021-02-02",
          "2021-02-03",
          "2021-02-04",
          "2021-02-07",
          "2021-02-08",
          "2021-02-09",
          "2021-02-10",
          "2021-02-11",
          "2021-02-14",
          "2021-02-15",
          "2021-02-16",
          "2021-02-17",
          "2021-02-18",
          "2021-02-21",
          "2021-02-22",
          "2021-02-23",
          "2021-02-24",
          "2021-02-25",
          "2021-02-28",
          "2021-03-01",
          "2021-03-02",
          "2021-03-03",
          "2021-03-04",
          "2021-03-07",
          "2021-03-08",
          "2021-03-09",
          "2021-03-10",
          "2021-03-11",
          "2021-03-14",
          "2021-03-15",
          "2021-03-16",
          "2021-03-17",
          "2021-03-18",
          "2021-03-21",
          "2021-03-22",
          "2021-03-23",
          "2021-03-24",
          "2021-03-25",
          "2021-03-28",
          "2021-03-29",
          "2021-03-30",
          "2021-03-31",
          "2021-04-01",
          "2021-04-04",
          "2021-04-05",
          "2021-04-06",
          "2021-04-07",
          "2021-04-08",
          "2021-04-11",
          "2021-04-12",
          "2021-04-13",
          "2021-04-14",
          "2021-04-15",
          "2021-04-18",
          "2021-04-19",
          "2021-04-20",
          "2021-04-21",
          "2021-04-22",
          "2021-04-25",
          "2021-04-26",
          "2021-04-27",
          "2021-04-28",
          "2021-04-29",
          "2021-05-02",
          "2021-05-03",
          "2021-05-04",
          "2021-05-05",
          "2021-05-06",
          "2021-05-09",
          "2021-05-10",
          "2021-05-16",
          "2021-05-17",
          "2021-05-18",
          "2021-05-19",
          "2021-05-20",
          "2021-05-23",
          "2021-05-24",
          "2021-05-25",
          "2021-05-26",
          "2021-05-27",
          "2021-05-30",
          "2021-05-31",
          "2021-06-01",
          "2021-06-02",
          "2021-06-03",
          "2021-06-06",
          "2021-06-07",
          "2021-06-08",
          "2021-06-09",
          "2021-06-10",
          "2021-06-13",
          "2021-06-14",
          "2021-06-15",
          "2021-06-16",
          "2021-06-17",
          "2021-06-20",
          "2021-06-21",
          "2021-06-22",
          "2021-06-23",
          "2021-06-24",
          "2021-06-27",
          "2021-06-28",
          "2021-06-29",
          "2021-06-30",
          "2021-07-01",
          "2021-07-04",
          "2021-07-05",
          "2021-07-06",
          "2021-07-07",
          "2021-07-08",
          "2021-07-11",
          "2021-07-12",
          "2021-07-13",
          "2021-07-14",
          "2021-07-15",
          "2021-07-18",
          "2021-07-25",
          "2021-07-26",
          "2021-07-27",
          "2021-07-28",
          "2021-07-29",
          "2021-08-01"
         ],
         "y": [
          46,
          46.04,
          46.06,
          46.08,
          46.1,
          46.5,
          46.5,
          46.5,
          46.5,
          46.5,
          46.5,
          46.5,
          46.5,
          46.8,
          46.8,
          46.8,
          46.8,
          46.8,
          46.9,
          46.9,
          46.9,
          47.5,
          48,
          48,
          48,
          48,
          48,
          49,
          49,
          49,
          49,
          49.5,
          49.5,
          50.05,
          50,
          50,
          50.6,
          50.75,
          52,
          59.55,
          61.5,
          63.1,
          63.8,
          64.8,
          66.4,
          74.9,
          84.5,
          86.15,
          87.5,
          87.2,
          86.85,
          86.5,
          86.5,
          90,
          90.2,
          89.5,
          92.9,
          91.5,
          91.5,
          91,
          91,
          91,
          91,
          90.7,
          90.9,
          91,
          91,
          91,
          94,
          97.4,
          97.5,
          95,
          95.5,
          95.4,
          94,
          94,
          94.2,
          94,
          94,
          94.5,
          94.2,
          95,
          95,
          95.1,
          95.5,
          95.95,
          96.2,
          96.75,
          96.25,
          97,
          97.4,
          96.6,
          97,
          97.2,
          96.6,
          96.3,
          96.4,
          96.35,
          97.1,
          97.15,
          96.35,
          110.8,
          114.6,
          115,
          119,
          123,
          124.5,
          125,
          126,
          126.3,
          126.3,
          126.3,
          126.3,
          126.5,
          128.9,
          128,
          128.1,
          128.1,
          131.8,
          131,
          132,
          132.6,
          131.9
         ]
        }
       ],
       "layout": {
        "legend": {
         "bgcolor": "#F5F6F9",
         "font": {
          "color": "#4D5663"
         }
        },
        "paper_bgcolor": "#F5F6F9",
        "plot_bgcolor": "#F5F6F9",
        "template": {
         "data": {
          "bar": [
           {
            "error_x": {
             "color": "#2a3f5f"
            },
            "error_y": {
             "color": "#2a3f5f"
            },
            "marker": {
             "line": {
              "color": "#E5ECF6",
              "width": 0.5
             },
             "pattern": {
              "fillmode": "overlay",
              "size": 10,
              "solidity": 0.2
             }
            },
            "type": "bar"
           }
          ],
          "barpolar": [
           {
            "marker": {
             "line": {
              "color": "#E5ECF6",
              "width": 0.5
             },
             "pattern": {
              "fillmode": "overlay",
              "size": 10,
              "solidity": 0.2
             }
            },
            "type": "barpolar"
           }
          ],
          "carpet": [
           {
            "aaxis": {
             "endlinecolor": "#2a3f5f",
             "gridcolor": "white",
             "linecolor": "white",
             "minorgridcolor": "white",
             "startlinecolor": "#2a3f5f"
            },
            "baxis": {
             "endlinecolor": "#2a3f5f",
             "gridcolor": "white",
             "linecolor": "white",
             "minorgridcolor": "white",
             "startlinecolor": "#2a3f5f"
            },
            "type": "carpet"
           }
          ],
          "choropleth": [
           {
            "colorbar": {
             "outlinewidth": 0,
             "ticks": ""
            },
            "type": "choropleth"
           }
          ],
          "contour": [
           {
            "colorbar": {
             "outlinewidth": 0,
             "ticks": ""
            },
            "colorscale": [
             [
              0,
              "#0d0887"
             ],
             [
              0.1111111111111111,
              "#46039f"
             ],
             [
              0.2222222222222222,
              "#7201a8"
             ],
             [
              0.3333333333333333,
              "#9c179e"
             ],
             [
              0.4444444444444444,
              "#bd3786"
             ],
             [
              0.5555555555555556,
              "#d8576b"
             ],
             [
              0.6666666666666666,
              "#ed7953"
             ],
             [
              0.7777777777777778,
              "#fb9f3a"
             ],
             [
              0.8888888888888888,
              "#fdca26"
             ],
             [
              1,
              "#f0f921"
             ]
            ],
            "type": "contour"
           }
          ],
          "contourcarpet": [
           {
            "colorbar": {
             "outlinewidth": 0,
             "ticks": ""
            },
            "type": "contourcarpet"
           }
          ],
          "heatmap": [
           {
            "colorbar": {
             "outlinewidth": 0,
             "ticks": ""
            },
            "colorscale": [
             [
              0,
              "#0d0887"
             ],
             [
              0.1111111111111111,
              "#46039f"
             ],
             [
              0.2222222222222222,
              "#7201a8"
             ],
             [
              0.3333333333333333,
              "#9c179e"
             ],
             [
              0.4444444444444444,
              "#bd3786"
             ],
             [
              0.5555555555555556,
              "#d8576b"
             ],
             [
              0.6666666666666666,
              "#ed7953"
             ],
             [
              0.7777777777777778,
              "#fb9f3a"
             ],
             [
              0.8888888888888888,
              "#fdca26"
             ],
             [
              1,
              "#f0f921"
             ]
            ],
            "type": "heatmap"
           }
          ],
          "heatmapgl": [
           {
            "colorbar": {
             "outlinewidth": 0,
             "ticks": ""
            },
            "colorscale": [
             [
              0,
              "#0d0887"
             ],
             [
              0.1111111111111111,
              "#46039f"
             ],
             [
              0.2222222222222222,
              "#7201a8"
             ],
             [
              0.3333333333333333,
              "#9c179e"
             ],
             [
              0.4444444444444444,
              "#bd3786"
             ],
             [
              0.5555555555555556,
              "#d8576b"
             ],
             [
              0.6666666666666666,
              "#ed7953"
             ],
             [
              0.7777777777777778,
              "#fb9f3a"
             ],
             [
              0.8888888888888888,
              "#fdca26"
             ],
             [
              1,
              "#f0f921"
             ]
            ],
            "type": "heatmapgl"
           }
          ],
          "histogram": [
           {
            "marker": {
             "pattern": {
              "fillmode": "overlay",
              "size": 10,
              "solidity": 0.2
             }
            },
            "type": "histogram"
           }
          ],
          "histogram2d": [
           {
            "colorbar": {
             "outlinewidth": 0,
             "ticks": ""
            },
            "colorscale": [
             [
              0,
              "#0d0887"
             ],
             [
              0.1111111111111111,
              "#46039f"
             ],
             [
              0.2222222222222222,
              "#7201a8"
             ],
             [
              0.3333333333333333,
              "#9c179e"
             ],
             [
              0.4444444444444444,
              "#bd3786"
             ],
             [
              0.5555555555555556,
              "#d8576b"
             ],
             [
              0.6666666666666666,
              "#ed7953"
             ],
             [
              0.7777777777777778,
              "#fb9f3a"
             ],
             [
              0.8888888888888888,
              "#fdca26"
             ],
             [
              1,
              "#f0f921"
             ]
            ],
            "type": "histogram2d"
           }
          ],
          "histogram2dcontour": [
           {
            "colorbar": {
             "outlinewidth": 0,
             "ticks": ""
            },
            "colorscale": [
             [
              0,
              "#0d0887"
             ],
             [
              0.1111111111111111,
              "#46039f"
             ],
             [
              0.2222222222222222,
              "#7201a8"
             ],
             [
              0.3333333333333333,
              "#9c179e"
             ],
             [
              0.4444444444444444,
              "#bd3786"
             ],
             [
              0.5555555555555556,
              "#d8576b"
             ],
             [
              0.6666666666666666,
              "#ed7953"
             ],
             [
              0.7777777777777778,
              "#fb9f3a"
             ],
             [
              0.8888888888888888,
              "#fdca26"
             ],
             [
              1,
              "#f0f921"
             ]
            ],
            "type": "histogram2dcontour"
           }
          ],
          "mesh3d": [
           {
            "colorbar": {
             "outlinewidth": 0,
             "ticks": ""
            },
            "type": "mesh3d"
           }
          ],
          "parcoords": [
           {
            "line": {
             "colorbar": {
              "outlinewidth": 0,
              "ticks": ""
             }
            },
            "type": "parcoords"
           }
          ],
          "pie": [
           {
            "automargin": true,
            "type": "pie"
           }
          ],
          "scatter": [
           {
            "marker": {
             "colorbar": {
              "outlinewidth": 0,
              "ticks": ""
             }
            },
            "type": "scatter"
           }
          ],
          "scatter3d": [
           {
            "line": {
             "colorbar": {
              "outlinewidth": 0,
              "ticks": ""
             }
            },
            "marker": {
             "colorbar": {
              "outlinewidth": 0,
              "ticks": ""
             }
            },
            "type": "scatter3d"
           }
          ],
          "scattercarpet": [
           {
            "marker": {
             "colorbar": {
              "outlinewidth": 0,
              "ticks": ""
             }
            },
            "type": "scattercarpet"
           }
          ],
          "scattergeo": [
           {
            "marker": {
             "colorbar": {
              "outlinewidth": 0,
              "ticks": ""
             }
            },
            "type": "scattergeo"
           }
          ],
          "scattergl": [
           {
            "marker": {
             "colorbar": {
              "outlinewidth": 0,
              "ticks": ""
             }
            },
            "type": "scattergl"
           }
          ],
          "scattermapbox": [
           {
            "marker": {
             "colorbar": {
              "outlinewidth": 0,
              "ticks": ""
             }
            },
            "type": "scattermapbox"
           }
          ],
          "scatterpolar": [
           {
            "marker": {
             "colorbar": {
              "outlinewidth": 0,
              "ticks": ""
             }
            },
            "type": "scatterpolar"
           }
          ],
          "scatterpolargl": [
           {
            "marker": {
             "colorbar": {
              "outlinewidth": 0,
              "ticks": ""
             }
            },
            "type": "scatterpolargl"
           }
          ],
          "scatterternary": [
           {
            "marker": {
             "colorbar": {
              "outlinewidth": 0,
              "ticks": ""
             }
            },
            "type": "scatterternary"
           }
          ],
          "surface": [
           {
            "colorbar": {
             "outlinewidth": 0,
             "ticks": ""
            },
            "colorscale": [
             [
              0,
              "#0d0887"
             ],
             [
              0.1111111111111111,
              "#46039f"
             ],
             [
              0.2222222222222222,
              "#7201a8"
             ],
             [
              0.3333333333333333,
              "#9c179e"
             ],
             [
              0.4444444444444444,
              "#bd3786"
             ],
             [
              0.5555555555555556,
              "#d8576b"
             ],
             [
              0.6666666666666666,
              "#ed7953"
             ],
             [
              0.7777777777777778,
              "#fb9f3a"
             ],
             [
              0.8888888888888888,
              "#fdca26"
             ],
             [
              1,
              "#f0f921"
             ]
            ],
            "type": "surface"
           }
          ],
          "table": [
           {
            "cells": {
             "fill": {
              "color": "#EBF0F8"
             },
             "line": {
              "color": "white"
             }
            },
            "header": {
             "fill": {
              "color": "#C8D4E3"
             },
             "line": {
              "color": "white"
             }
            },
            "type": "table"
           }
          ]
         },
         "layout": {
          "annotationdefaults": {
           "arrowcolor": "#2a3f5f",
           "arrowhead": 0,
           "arrowwidth": 1
          },
          "autotypenumbers": "strict",
          "coloraxis": {
           "colorbar": {
            "outlinewidth": 0,
            "ticks": ""
           }
          },
          "colorscale": {
           "diverging": [
            [
             0,
             "#8e0152"
            ],
            [
             0.1,
             "#c51b7d"
            ],
            [
             0.2,
             "#de77ae"
            ],
            [
             0.3,
             "#f1b6da"
            ],
            [
             0.4,
             "#fde0ef"
            ],
            [
             0.5,
             "#f7f7f7"
            ],
            [
             0.6,
             "#e6f5d0"
            ],
            [
             0.7,
             "#b8e186"
            ],
            [
             0.8,
             "#7fbc41"
            ],
            [
             0.9,
             "#4d9221"
            ],
            [
             1,
             "#276419"
            ]
           ],
           "sequential": [
            [
             0,
             "#0d0887"
            ],
            [
             0.1111111111111111,
             "#46039f"
            ],
            [
             0.2222222222222222,
             "#7201a8"
            ],
            [
             0.3333333333333333,
             "#9c179e"
            ],
            [
             0.4444444444444444,
             "#bd3786"
            ],
            [
             0.5555555555555556,
             "#d8576b"
            ],
            [
             0.6666666666666666,
             "#ed7953"
            ],
            [
             0.7777777777777778,
             "#fb9f3a"
            ],
            [
             0.8888888888888888,
             "#fdca26"
            ],
            [
             1,
             "#f0f921"
            ]
           ],
           "sequentialminus": [
            [
             0,
             "#0d0887"
            ],
            [
             0.1111111111111111,
             "#46039f"
            ],
            [
             0.2222222222222222,
             "#7201a8"
            ],
            [
             0.3333333333333333,
             "#9c179e"
            ],
            [
             0.4444444444444444,
             "#bd3786"
            ],
            [
             0.5555555555555556,
             "#d8576b"
            ],
            [
             0.6666666666666666,
             "#ed7953"
            ],
            [
             0.7777777777777778,
             "#fb9f3a"
            ],
            [
             0.8888888888888888,
             "#fdca26"
            ],
            [
             1,
             "#f0f921"
            ]
           ]
          },
          "colorway": [
           "#636efa",
           "#EF553B",
           "#00cc96",
           "#ab63fa",
           "#FFA15A",
           "#19d3f3",
           "#FF6692",
           "#B6E880",
           "#FF97FF",
           "#FECB52"
          ],
          "font": {
           "color": "#2a3f5f"
          },
          "geo": {
           "bgcolor": "white",
           "lakecolor": "white",
           "landcolor": "#E5ECF6",
           "showlakes": true,
           "showland": true,
           "subunitcolor": "white"
          },
          "hoverlabel": {
           "align": "left"
          },
          "hovermode": "closest",
          "mapbox": {
           "style": "light"
          },
          "paper_bgcolor": "white",
          "plot_bgcolor": "#E5ECF6",
          "polar": {
           "angularaxis": {
            "gridcolor": "white",
            "linecolor": "white",
            "ticks": ""
           },
           "bgcolor": "#E5ECF6",
           "radialaxis": {
            "gridcolor": "white",
            "linecolor": "white",
            "ticks": ""
           }
          },
          "scene": {
           "xaxis": {
            "backgroundcolor": "#E5ECF6",
            "gridcolor": "white",
            "gridwidth": 2,
            "linecolor": "white",
            "showbackground": true,
            "ticks": "",
            "zerolinecolor": "white"
           },
           "yaxis": {
            "backgroundcolor": "#E5ECF6",
            "gridcolor": "white",
            "gridwidth": 2,
            "linecolor": "white",
            "showbackground": true,
            "ticks": "",
            "zerolinecolor": "white"
           },
           "zaxis": {
            "backgroundcolor": "#E5ECF6",
            "gridcolor": "white",
            "gridwidth": 2,
            "linecolor": "white",
            "showbackground": true,
            "ticks": "",
            "zerolinecolor": "white"
           }
          },
          "shapedefaults": {
           "line": {
            "color": "#2a3f5f"
           }
          },
          "ternary": {
           "aaxis": {
            "gridcolor": "white",
            "linecolor": "white",
            "ticks": ""
           },
           "baxis": {
            "gridcolor": "white",
            "linecolor": "white",
            "ticks": ""
           },
           "bgcolor": "#E5ECF6",
           "caxis": {
            "gridcolor": "white",
            "linecolor": "white",
            "ticks": ""
           }
          },
          "title": {
           "x": 0.05
          },
          "xaxis": {
           "automargin": true,
           "gridcolor": "white",
           "linecolor": "white",
           "ticks": "",
           "title": {
            "standoff": 15
           },
           "zerolinecolor": "white",
           "zerolinewidth": 2
          },
          "yaxis": {
           "automargin": true,
           "gridcolor": "white",
           "linecolor": "white",
           "ticks": "",
           "title": {
            "standoff": 15
           },
           "zerolinecolor": "white",
           "zerolinewidth": 2
          }
         }
        },
        "title": {
         "font": {
          "color": "#4D5663"
         }
        },
        "xaxis": {
         "gridcolor": "#E1E5ED",
         "showgrid": true,
         "tickfont": {
          "color": "#4D5663"
         },
         "title": {
          "font": {
           "color": "#4D5663"
          },
          "text": ""
         },
         "zerolinecolor": "#E1E5ED"
        },
        "yaxis": {
         "gridcolor": "#E1E5ED",
         "showgrid": true,
         "tickfont": {
          "color": "#4D5663"
         },
         "title": {
          "font": {
           "color": "#4D5663"
          },
          "text": ""
         },
         "zerolinecolor": "#E1E5ED"
        }
       }
      },
      "text/html": [
       "<div>                            <div id=\"6aca2866-9776-405c-999b-a5dae7d1aa90\" class=\"plotly-graph-div\" style=\"height:525px; width:100%;\"></div>            <script type=\"text/javascript\">                require([\"plotly\"], function(Plotly) {                    window.PLOTLYENV=window.PLOTLYENV || {};\n",
       "                    window.PLOTLYENV.BASE_URL='https://plot.ly';                                    if (document.getElementById(\"6aca2866-9776-405c-999b-a5dae7d1aa90\")) {                    Plotly.newPlot(                        \"6aca2866-9776-405c-999b-a5dae7d1aa90\",                        [{\"line\":{\"color\":\"rgba(255, 153, 51, 1.0)\",\"dash\":\"solid\",\"shape\":\"linear\",\"width\":1.3},\"mode\":\"lines\",\"name\":\"IHC\",\"text\":\"\",\"type\":\"scatter\",\"x\":[\"2021-02-01\",\"2021-02-02\",\"2021-02-03\",\"2021-02-04\",\"2021-02-07\",\"2021-02-08\",\"2021-02-09\",\"2021-02-10\",\"2021-02-11\",\"2021-02-14\",\"2021-02-15\",\"2021-02-16\",\"2021-02-17\",\"2021-02-18\",\"2021-02-21\",\"2021-02-22\",\"2021-02-23\",\"2021-02-24\",\"2021-02-25\",\"2021-02-28\",\"2021-03-01\",\"2021-03-02\",\"2021-03-03\",\"2021-03-04\",\"2021-03-07\",\"2021-03-08\",\"2021-03-09\",\"2021-03-10\",\"2021-03-11\",\"2021-03-14\",\"2021-03-15\",\"2021-03-16\",\"2021-03-17\",\"2021-03-18\",\"2021-03-21\",\"2021-03-22\",\"2021-03-23\",\"2021-03-24\",\"2021-03-25\",\"2021-03-28\",\"2021-03-29\",\"2021-03-30\",\"2021-03-31\",\"2021-04-01\",\"2021-04-04\",\"2021-04-05\",\"2021-04-06\",\"2021-04-07\",\"2021-04-08\",\"2021-04-11\",\"2021-04-12\",\"2021-04-13\",\"2021-04-14\",\"2021-04-15\",\"2021-04-18\",\"2021-04-19\",\"2021-04-20\",\"2021-04-21\",\"2021-04-22\",\"2021-04-25\",\"2021-04-26\",\"2021-04-27\",\"2021-04-28\",\"2021-04-29\",\"2021-05-02\",\"2021-05-03\",\"2021-05-04\",\"2021-05-05\",\"2021-05-06\",\"2021-05-09\",\"2021-05-10\",\"2021-05-16\",\"2021-05-17\",\"2021-05-18\",\"2021-05-19\",\"2021-05-20\",\"2021-05-23\",\"2021-05-24\",\"2021-05-25\",\"2021-05-26\",\"2021-05-27\",\"2021-05-30\",\"2021-05-31\",\"2021-06-01\",\"2021-06-02\",\"2021-06-03\",\"2021-06-06\",\"2021-06-07\",\"2021-06-08\",\"2021-06-09\",\"2021-06-10\",\"2021-06-13\",\"2021-06-14\",\"2021-06-15\",\"2021-06-16\",\"2021-06-17\",\"2021-06-20\",\"2021-06-21\",\"2021-06-22\",\"2021-06-23\",\"2021-06-24\",\"2021-06-27\",\"2021-06-28\",\"2021-06-29\",\"2021-06-30\",\"2021-07-01\",\"2021-07-04\",\"2021-07-05\",\"2021-07-06\",\"2021-07-07\",\"2021-07-08\",\"2021-07-11\",\"2021-07-12\",\"2021-07-13\",\"2021-07-14\",\"2021-07-15\",\"2021-07-18\",\"2021-07-25\",\"2021-07-26\",\"2021-07-27\",\"2021-07-28\",\"2021-07-29\",\"2021-08-01\"],\"y\":[46.0,46.04,46.06,46.08,46.1,46.5,46.5,46.5,46.5,46.5,46.5,46.5,46.5,46.8,46.8,46.8,46.8,46.8,46.9,46.9,46.9,47.5,48.0,48.0,48.0,48.0,48.0,49.0,49.0,49.0,49.0,49.5,49.5,50.05,50.0,50.0,50.6,50.75,52.0,59.55,61.5,63.1,63.8,64.8,66.4,74.9,84.5,86.15,87.5,87.2,86.85,86.5,86.5,90.0,90.2,89.5,92.9,91.5,91.5,91.0,91.0,91.0,91.0,90.7,90.9,91.0,91.0,91.0,94.0,97.4,97.5,95.0,95.5,95.4,94.0,94.0,94.2,94.0,94.0,94.5,94.2,95.0,95.0,95.1,95.5,95.95,96.2,96.75,96.25,97.0,97.4,96.6,97.0,97.2,96.6,96.3,96.4,96.35,97.1,97.15,96.35,110.8,114.6,115.0,119.0,123.0,124.5,125.0,126.0,126.3,126.3,126.3,126.3,126.5,128.9,128.0,128.1,128.1,131.8,131.0,132.0,132.6,131.9]}],                        {\"legend\":{\"bgcolor\":\"#F5F6F9\",\"font\":{\"color\":\"#4D5663\"}},\"paper_bgcolor\":\"#F5F6F9\",\"plot_bgcolor\":\"#F5F6F9\",\"template\":{\"data\":{\"bar\":[{\"error_x\":{\"color\":\"#2a3f5f\"},\"error_y\":{\"color\":\"#2a3f5f\"},\"marker\":{\"line\":{\"color\":\"#E5ECF6\",\"width\":0.5},\"pattern\":{\"fillmode\":\"overlay\",\"size\":10,\"solidity\":0.2}},\"type\":\"bar\"}],\"barpolar\":[{\"marker\":{\"line\":{\"color\":\"#E5ECF6\",\"width\":0.5},\"pattern\":{\"fillmode\":\"overlay\",\"size\":10,\"solidity\":0.2}},\"type\":\"barpolar\"}],\"carpet\":[{\"aaxis\":{\"endlinecolor\":\"#2a3f5f\",\"gridcolor\":\"white\",\"linecolor\":\"white\",\"minorgridcolor\":\"white\",\"startlinecolor\":\"#2a3f5f\"},\"baxis\":{\"endlinecolor\":\"#2a3f5f\",\"gridcolor\":\"white\",\"linecolor\":\"white\",\"minorgridcolor\":\"white\",\"startlinecolor\":\"#2a3f5f\"},\"type\":\"carpet\"}],\"choropleth\":[{\"colorbar\":{\"outlinewidth\":0,\"ticks\":\"\"},\"type\":\"choropleth\"}],\"contour\":[{\"colorbar\":{\"outlinewidth\":0,\"ticks\":\"\"},\"colorscale\":[[0.0,\"#0d0887\"],[0.1111111111111111,\"#46039f\"],[0.2222222222222222,\"#7201a8\"],[0.3333333333333333,\"#9c179e\"],[0.4444444444444444,\"#bd3786\"],[0.5555555555555556,\"#d8576b\"],[0.6666666666666666,\"#ed7953\"],[0.7777777777777778,\"#fb9f3a\"],[0.8888888888888888,\"#fdca26\"],[1.0,\"#f0f921\"]],\"type\":\"contour\"}],\"contourcarpet\":[{\"colorbar\":{\"outlinewidth\":0,\"ticks\":\"\"},\"type\":\"contourcarpet\"}],\"heatmap\":[{\"colorbar\":{\"outlinewidth\":0,\"ticks\":\"\"},\"colorscale\":[[0.0,\"#0d0887\"],[0.1111111111111111,\"#46039f\"],[0.2222222222222222,\"#7201a8\"],[0.3333333333333333,\"#9c179e\"],[0.4444444444444444,\"#bd3786\"],[0.5555555555555556,\"#d8576b\"],[0.6666666666666666,\"#ed7953\"],[0.7777777777777778,\"#fb9f3a\"],[0.8888888888888888,\"#fdca26\"],[1.0,\"#f0f921\"]],\"type\":\"heatmap\"}],\"heatmapgl\":[{\"colorbar\":{\"outlinewidth\":0,\"ticks\":\"\"},\"colorscale\":[[0.0,\"#0d0887\"],[0.1111111111111111,\"#46039f\"],[0.2222222222222222,\"#7201a8\"],[0.3333333333333333,\"#9c179e\"],[0.4444444444444444,\"#bd3786\"],[0.5555555555555556,\"#d8576b\"],[0.6666666666666666,\"#ed7953\"],[0.7777777777777778,\"#fb9f3a\"],[0.8888888888888888,\"#fdca26\"],[1.0,\"#f0f921\"]],\"type\":\"heatmapgl\"}],\"histogram\":[{\"marker\":{\"pattern\":{\"fillmode\":\"overlay\",\"size\":10,\"solidity\":0.2}},\"type\":\"histogram\"}],\"histogram2d\":[{\"colorbar\":{\"outlinewidth\":0,\"ticks\":\"\"},\"colorscale\":[[0.0,\"#0d0887\"],[0.1111111111111111,\"#46039f\"],[0.2222222222222222,\"#7201a8\"],[0.3333333333333333,\"#9c179e\"],[0.4444444444444444,\"#bd3786\"],[0.5555555555555556,\"#d8576b\"],[0.6666666666666666,\"#ed7953\"],[0.7777777777777778,\"#fb9f3a\"],[0.8888888888888888,\"#fdca26\"],[1.0,\"#f0f921\"]],\"type\":\"histogram2d\"}],\"histogram2dcontour\":[{\"colorbar\":{\"outlinewidth\":0,\"ticks\":\"\"},\"colorscale\":[[0.0,\"#0d0887\"],[0.1111111111111111,\"#46039f\"],[0.2222222222222222,\"#7201a8\"],[0.3333333333333333,\"#9c179e\"],[0.4444444444444444,\"#bd3786\"],[0.5555555555555556,\"#d8576b\"],[0.6666666666666666,\"#ed7953\"],[0.7777777777777778,\"#fb9f3a\"],[0.8888888888888888,\"#fdca26\"],[1.0,\"#f0f921\"]],\"type\":\"histogram2dcontour\"}],\"mesh3d\":[{\"colorbar\":{\"outlinewidth\":0,\"ticks\":\"\"},\"type\":\"mesh3d\"}],\"parcoords\":[{\"line\":{\"colorbar\":{\"outlinewidth\":0,\"ticks\":\"\"}},\"type\":\"parcoords\"}],\"pie\":[{\"automargin\":true,\"type\":\"pie\"}],\"scatter\":[{\"marker\":{\"colorbar\":{\"outlinewidth\":0,\"ticks\":\"\"}},\"type\":\"scatter\"}],\"scatter3d\":[{\"line\":{\"colorbar\":{\"outlinewidth\":0,\"ticks\":\"\"}},\"marker\":{\"colorbar\":{\"outlinewidth\":0,\"ticks\":\"\"}},\"type\":\"scatter3d\"}],\"scattercarpet\":[{\"marker\":{\"colorbar\":{\"outlinewidth\":0,\"ticks\":\"\"}},\"type\":\"scattercarpet\"}],\"scattergeo\":[{\"marker\":{\"colorbar\":{\"outlinewidth\":0,\"ticks\":\"\"}},\"type\":\"scattergeo\"}],\"scattergl\":[{\"marker\":{\"colorbar\":{\"outlinewidth\":0,\"ticks\":\"\"}},\"type\":\"scattergl\"}],\"scattermapbox\":[{\"marker\":{\"colorbar\":{\"outlinewidth\":0,\"ticks\":\"\"}},\"type\":\"scattermapbox\"}],\"scatterpolar\":[{\"marker\":{\"colorbar\":{\"outlinewidth\":0,\"ticks\":\"\"}},\"type\":\"scatterpolar\"}],\"scatterpolargl\":[{\"marker\":{\"colorbar\":{\"outlinewidth\":0,\"ticks\":\"\"}},\"type\":\"scatterpolargl\"}],\"scatterternary\":[{\"marker\":{\"colorbar\":{\"outlinewidth\":0,\"ticks\":\"\"}},\"type\":\"scatterternary\"}],\"surface\":[{\"colorbar\":{\"outlinewidth\":0,\"ticks\":\"\"},\"colorscale\":[[0.0,\"#0d0887\"],[0.1111111111111111,\"#46039f\"],[0.2222222222222222,\"#7201a8\"],[0.3333333333333333,\"#9c179e\"],[0.4444444444444444,\"#bd3786\"],[0.5555555555555556,\"#d8576b\"],[0.6666666666666666,\"#ed7953\"],[0.7777777777777778,\"#fb9f3a\"],[0.8888888888888888,\"#fdca26\"],[1.0,\"#f0f921\"]],\"type\":\"surface\"}],\"table\":[{\"cells\":{\"fill\":{\"color\":\"#EBF0F8\"},\"line\":{\"color\":\"white\"}},\"header\":{\"fill\":{\"color\":\"#C8D4E3\"},\"line\":{\"color\":\"white\"}},\"type\":\"table\"}]},\"layout\":{\"annotationdefaults\":{\"arrowcolor\":\"#2a3f5f\",\"arrowhead\":0,\"arrowwidth\":1},\"autotypenumbers\":\"strict\",\"coloraxis\":{\"colorbar\":{\"outlinewidth\":0,\"ticks\":\"\"}},\"colorscale\":{\"diverging\":[[0,\"#8e0152\"],[0.1,\"#c51b7d\"],[0.2,\"#de77ae\"],[0.3,\"#f1b6da\"],[0.4,\"#fde0ef\"],[0.5,\"#f7f7f7\"],[0.6,\"#e6f5d0\"],[0.7,\"#b8e186\"],[0.8,\"#7fbc41\"],[0.9,\"#4d9221\"],[1,\"#276419\"]],\"sequential\":[[0.0,\"#0d0887\"],[0.1111111111111111,\"#46039f\"],[0.2222222222222222,\"#7201a8\"],[0.3333333333333333,\"#9c179e\"],[0.4444444444444444,\"#bd3786\"],[0.5555555555555556,\"#d8576b\"],[0.6666666666666666,\"#ed7953\"],[0.7777777777777778,\"#fb9f3a\"],[0.8888888888888888,\"#fdca26\"],[1.0,\"#f0f921\"]],\"sequentialminus\":[[0.0,\"#0d0887\"],[0.1111111111111111,\"#46039f\"],[0.2222222222222222,\"#7201a8\"],[0.3333333333333333,\"#9c179e\"],[0.4444444444444444,\"#bd3786\"],[0.5555555555555556,\"#d8576b\"],[0.6666666666666666,\"#ed7953\"],[0.7777777777777778,\"#fb9f3a\"],[0.8888888888888888,\"#fdca26\"],[1.0,\"#f0f921\"]]},\"colorway\":[\"#636efa\",\"#EF553B\",\"#00cc96\",\"#ab63fa\",\"#FFA15A\",\"#19d3f3\",\"#FF6692\",\"#B6E880\",\"#FF97FF\",\"#FECB52\"],\"font\":{\"color\":\"#2a3f5f\"},\"geo\":{\"bgcolor\":\"white\",\"lakecolor\":\"white\",\"landcolor\":\"#E5ECF6\",\"showlakes\":true,\"showland\":true,\"subunitcolor\":\"white\"},\"hoverlabel\":{\"align\":\"left\"},\"hovermode\":\"closest\",\"mapbox\":{\"style\":\"light\"},\"paper_bgcolor\":\"white\",\"plot_bgcolor\":\"#E5ECF6\",\"polar\":{\"angularaxis\":{\"gridcolor\":\"white\",\"linecolor\":\"white\",\"ticks\":\"\"},\"bgcolor\":\"#E5ECF6\",\"radialaxis\":{\"gridcolor\":\"white\",\"linecolor\":\"white\",\"ticks\":\"\"}},\"scene\":{\"xaxis\":{\"backgroundcolor\":\"#E5ECF6\",\"gridcolor\":\"white\",\"gridwidth\":2,\"linecolor\":\"white\",\"showbackground\":true,\"ticks\":\"\",\"zerolinecolor\":\"white\"},\"yaxis\":{\"backgroundcolor\":\"#E5ECF6\",\"gridcolor\":\"white\",\"gridwidth\":2,\"linecolor\":\"white\",\"showbackground\":true,\"ticks\":\"\",\"zerolinecolor\":\"white\"},\"zaxis\":{\"backgroundcolor\":\"#E5ECF6\",\"gridcolor\":\"white\",\"gridwidth\":2,\"linecolor\":\"white\",\"showbackground\":true,\"ticks\":\"\",\"zerolinecolor\":\"white\"}},\"shapedefaults\":{\"line\":{\"color\":\"#2a3f5f\"}},\"ternary\":{\"aaxis\":{\"gridcolor\":\"white\",\"linecolor\":\"white\",\"ticks\":\"\"},\"baxis\":{\"gridcolor\":\"white\",\"linecolor\":\"white\",\"ticks\":\"\"},\"bgcolor\":\"#E5ECF6\",\"caxis\":{\"gridcolor\":\"white\",\"linecolor\":\"white\",\"ticks\":\"\"}},\"title\":{\"x\":0.05},\"xaxis\":{\"automargin\":true,\"gridcolor\":\"white\",\"linecolor\":\"white\",\"ticks\":\"\",\"title\":{\"standoff\":15},\"zerolinecolor\":\"white\",\"zerolinewidth\":2},\"yaxis\":{\"automargin\":true,\"gridcolor\":\"white\",\"linecolor\":\"white\",\"ticks\":\"\",\"title\":{\"standoff\":15},\"zerolinecolor\":\"white\",\"zerolinewidth\":2}}},\"title\":{\"font\":{\"color\":\"#4D5663\"}},\"xaxis\":{\"gridcolor\":\"#E1E5ED\",\"showgrid\":true,\"tickfont\":{\"color\":\"#4D5663\"},\"title\":{\"font\":{\"color\":\"#4D5663\"},\"text\":\"\"},\"zerolinecolor\":\"#E1E5ED\"},\"yaxis\":{\"gridcolor\":\"#E1E5ED\",\"showgrid\":true,\"tickfont\":{\"color\":\"#4D5663\"},\"title\":{\"font\":{\"color\":\"#4D5663\"},\"text\":\"\"},\"zerolinecolor\":\"#E1E5ED\"}},                        {\"showLink\": true, \"linkText\": \"Export to plot.ly\", \"plotlyServerURL\": \"https://plot.ly\", \"responsive\": true}                    ).then(function(){\n",
       "                            \n",
       "var gd = document.getElementById('6aca2866-9776-405c-999b-a5dae7d1aa90');\n",
       "var x = new MutationObserver(function (mutations, observer) {{\n",
       "        var display = window.getComputedStyle(gd).display;\n",
       "        if (!display || display === 'none') {{\n",
       "            console.log([gd, 'removed!']);\n",
       "            Plotly.purge(gd);\n",
       "            observer.disconnect();\n",
       "        }}\n",
       "}});\n",
       "\n",
       "// Listen for the removal of the full notebook cells\n",
       "var notebookContainer = gd.closest('#notebook-container');\n",
       "if (notebookContainer) {{\n",
       "    x.observe(notebookContainer, {childList: true});\n",
       "}}\n",
       "\n",
       "// Listen for the clearing of the current output cell\n",
       "var outputEl = gd.closest('.output');\n",
       "if (outputEl) {{\n",
       "    x.observe(outputEl, {childList: true});\n",
       "}}\n",
       "\n",
       "                        })                };                });            </script>        </div>"
      ]
     },
     "metadata": {},
     "output_type": "display_data"
    }
   ],
   "source": [
    "IHC.iplot(x='Date', y='IHC')"
   ]
  },
  {
   "cell_type": "code",
   "execution_count": 16,
   "id": "da177e2f",
   "metadata": {},
   "outputs": [
    {
     "data": {
      "application/vnd.plotly.v1+json": {
       "config": {
        "linkText": "Export to plot.ly",
        "plotlyServerURL": "https://plot.ly",
        "showLink": true
       },
       "data": [
        {
         "line": {
          "color": "rgba(255, 0, 136, 1.0)",
          "dash": "solid",
          "shape": "linear",
          "width": 1.3
         },
         "mode": "lines",
         "name": "TAQA",
         "text": "",
         "type": "scatter",
         "x": [
          "2021-02-01",
          "2021-02-02",
          "2021-02-03",
          "2021-02-04",
          "2021-02-07",
          "2021-02-08",
          "2021-02-09",
          "2021-02-10",
          "2021-02-11",
          "2021-02-14",
          "2021-02-15",
          "2021-02-16",
          "2021-02-17",
          "2021-02-18",
          "2021-02-21",
          "2021-02-22",
          "2021-02-23",
          "2021-02-24",
          "2021-02-25",
          "2021-02-28",
          "2021-03-01",
          "2021-03-02",
          "2021-03-03",
          "2021-03-04",
          "2021-03-07",
          "2021-03-08",
          "2021-03-09",
          "2021-03-10",
          "2021-03-11",
          "2021-03-14",
          "2021-03-15",
          "2021-03-16",
          "2021-03-17",
          "2021-03-18",
          "2021-03-21",
          "2021-03-22",
          "2021-03-23",
          "2021-03-24",
          "2021-03-25",
          "2021-03-28",
          "2021-03-29",
          "2021-03-30",
          "2021-03-31",
          "2021-04-01",
          "2021-04-04",
          "2021-04-05",
          "2021-04-06",
          "2021-04-07",
          "2021-04-08",
          "2021-04-11",
          "2021-04-12",
          "2021-04-13",
          "2021-04-14",
          "2021-04-15",
          "2021-04-18",
          "2021-04-19",
          "2021-04-20",
          "2021-04-21",
          "2021-04-22",
          "2021-04-25",
          "2021-04-26",
          "2021-04-27",
          "2021-04-28",
          "2021-04-29",
          "2021-05-02",
          "2021-05-03",
          "2021-05-04",
          "2021-05-05",
          "2021-05-06",
          "2021-05-09",
          "2021-05-10",
          "2021-05-16",
          "2021-05-17",
          "2021-05-18",
          "2021-05-19",
          "2021-05-20",
          "2021-05-23",
          "2021-05-24",
          "2021-05-25",
          "2021-05-26",
          "2021-05-27",
          "2021-05-30",
          "2021-05-31",
          "2021-06-01",
          "2021-06-02",
          "2021-06-03",
          "2021-06-06",
          "2021-06-07",
          "2021-06-08",
          "2021-06-09",
          "2021-06-10",
          "2021-06-13",
          "2021-06-14",
          "2021-06-15",
          "2021-06-16",
          "2021-06-17",
          "2021-06-20",
          "2021-06-21",
          "2021-06-22",
          "2021-06-23",
          "2021-06-24",
          "2021-06-27",
          "2021-06-28",
          "2021-06-29",
          "2021-06-30",
          "2021-07-01",
          "2021-07-04",
          "2021-07-05",
          "2021-07-06",
          "2021-07-07",
          "2021-07-08",
          "2021-07-11",
          "2021-07-12",
          "2021-07-13",
          "2021-07-14",
          "2021-07-15",
          "2021-07-18",
          "2021-07-25",
          "2021-07-26",
          "2021-07-27",
          "2021-07-28",
          "2021-07-29",
          "2021-08-01"
         ],
         "y": [
          1.45,
          1.47,
          1.46,
          1.46,
          1.44,
          1.43,
          1.43,
          1.43,
          1.44,
          1.44,
          1.43,
          1.43,
          1.39,
          1.39,
          1.35,
          1.4,
          1.38,
          1.39,
          1.4,
          1.39,
          1.39,
          1.39,
          1.39,
          1.4,
          1.4,
          1.38,
          1.37,
          1.39,
          1.38,
          1.37,
          1.38,
          1.39,
          1.39,
          1.38,
          1.38,
          1.39,
          1.38,
          1.38,
          1.38,
          1.36,
          1.37,
          1.41,
          1.4,
          1.39,
          1.39,
          1.38,
          1.36,
          1.36,
          1.36,
          1.38,
          1.37,
          1.39,
          1.37,
          1.37,
          1.38,
          1.38,
          1.37,
          1.39,
          1.39,
          1.38,
          1.37,
          1.37,
          1.38,
          1.36,
          1.36,
          1.36,
          1.37,
          1.38,
          1.37,
          1.38,
          1.36,
          1.36,
          1.39,
          1.41,
          1.39,
          1.39,
          1.4,
          1.39,
          1.37,
          1.38,
          1.36,
          1.36,
          1.35,
          1.36,
          1.37,
          1.35,
          1.34,
          1.35,
          1.35,
          1.37,
          1.43,
          1.41,
          1.42,
          1.42,
          1.4,
          1.41,
          1.4,
          1.4,
          1.4,
          1.4,
          1.39,
          1.38,
          1.38,
          1.37,
          1.39,
          1.37,
          1.38,
          1.37,
          1.35,
          1.36,
          1.37,
          1.37,
          1.35,
          1.37,
          1.36,
          1.36,
          1.36,
          1.34,
          1.34,
          1.33,
          1.29,
          1.3,
          1.28
         ]
        }
       ],
       "layout": {
        "legend": {
         "bgcolor": "#F5F6F9",
         "font": {
          "color": "#4D5663"
         }
        },
        "paper_bgcolor": "#F5F6F9",
        "plot_bgcolor": "#F5F6F9",
        "template": {
         "data": {
          "bar": [
           {
            "error_x": {
             "color": "#2a3f5f"
            },
            "error_y": {
             "color": "#2a3f5f"
            },
            "marker": {
             "line": {
              "color": "#E5ECF6",
              "width": 0.5
             },
             "pattern": {
              "fillmode": "overlay",
              "size": 10,
              "solidity": 0.2
             }
            },
            "type": "bar"
           }
          ],
          "barpolar": [
           {
            "marker": {
             "line": {
              "color": "#E5ECF6",
              "width": 0.5
             },
             "pattern": {
              "fillmode": "overlay",
              "size": 10,
              "solidity": 0.2
             }
            },
            "type": "barpolar"
           }
          ],
          "carpet": [
           {
            "aaxis": {
             "endlinecolor": "#2a3f5f",
             "gridcolor": "white",
             "linecolor": "white",
             "minorgridcolor": "white",
             "startlinecolor": "#2a3f5f"
            },
            "baxis": {
             "endlinecolor": "#2a3f5f",
             "gridcolor": "white",
             "linecolor": "white",
             "minorgridcolor": "white",
             "startlinecolor": "#2a3f5f"
            },
            "type": "carpet"
           }
          ],
          "choropleth": [
           {
            "colorbar": {
             "outlinewidth": 0,
             "ticks": ""
            },
            "type": "choropleth"
           }
          ],
          "contour": [
           {
            "colorbar": {
             "outlinewidth": 0,
             "ticks": ""
            },
            "colorscale": [
             [
              0,
              "#0d0887"
             ],
             [
              0.1111111111111111,
              "#46039f"
             ],
             [
              0.2222222222222222,
              "#7201a8"
             ],
             [
              0.3333333333333333,
              "#9c179e"
             ],
             [
              0.4444444444444444,
              "#bd3786"
             ],
             [
              0.5555555555555556,
              "#d8576b"
             ],
             [
              0.6666666666666666,
              "#ed7953"
             ],
             [
              0.7777777777777778,
              "#fb9f3a"
             ],
             [
              0.8888888888888888,
              "#fdca26"
             ],
             [
              1,
              "#f0f921"
             ]
            ],
            "type": "contour"
           }
          ],
          "contourcarpet": [
           {
            "colorbar": {
             "outlinewidth": 0,
             "ticks": ""
            },
            "type": "contourcarpet"
           }
          ],
          "heatmap": [
           {
            "colorbar": {
             "outlinewidth": 0,
             "ticks": ""
            },
            "colorscale": [
             [
              0,
              "#0d0887"
             ],
             [
              0.1111111111111111,
              "#46039f"
             ],
             [
              0.2222222222222222,
              "#7201a8"
             ],
             [
              0.3333333333333333,
              "#9c179e"
             ],
             [
              0.4444444444444444,
              "#bd3786"
             ],
             [
              0.5555555555555556,
              "#d8576b"
             ],
             [
              0.6666666666666666,
              "#ed7953"
             ],
             [
              0.7777777777777778,
              "#fb9f3a"
             ],
             [
              0.8888888888888888,
              "#fdca26"
             ],
             [
              1,
              "#f0f921"
             ]
            ],
            "type": "heatmap"
           }
          ],
          "heatmapgl": [
           {
            "colorbar": {
             "outlinewidth": 0,
             "ticks": ""
            },
            "colorscale": [
             [
              0,
              "#0d0887"
             ],
             [
              0.1111111111111111,
              "#46039f"
             ],
             [
              0.2222222222222222,
              "#7201a8"
             ],
             [
              0.3333333333333333,
              "#9c179e"
             ],
             [
              0.4444444444444444,
              "#bd3786"
             ],
             [
              0.5555555555555556,
              "#d8576b"
             ],
             [
              0.6666666666666666,
              "#ed7953"
             ],
             [
              0.7777777777777778,
              "#fb9f3a"
             ],
             [
              0.8888888888888888,
              "#fdca26"
             ],
             [
              1,
              "#f0f921"
             ]
            ],
            "type": "heatmapgl"
           }
          ],
          "histogram": [
           {
            "marker": {
             "pattern": {
              "fillmode": "overlay",
              "size": 10,
              "solidity": 0.2
             }
            },
            "type": "histogram"
           }
          ],
          "histogram2d": [
           {
            "colorbar": {
             "outlinewidth": 0,
             "ticks": ""
            },
            "colorscale": [
             [
              0,
              "#0d0887"
             ],
             [
              0.1111111111111111,
              "#46039f"
             ],
             [
              0.2222222222222222,
              "#7201a8"
             ],
             [
              0.3333333333333333,
              "#9c179e"
             ],
             [
              0.4444444444444444,
              "#bd3786"
             ],
             [
              0.5555555555555556,
              "#d8576b"
             ],
             [
              0.6666666666666666,
              "#ed7953"
             ],
             [
              0.7777777777777778,
              "#fb9f3a"
             ],
             [
              0.8888888888888888,
              "#fdca26"
             ],
             [
              1,
              "#f0f921"
             ]
            ],
            "type": "histogram2d"
           }
          ],
          "histogram2dcontour": [
           {
            "colorbar": {
             "outlinewidth": 0,
             "ticks": ""
            },
            "colorscale": [
             [
              0,
              "#0d0887"
             ],
             [
              0.1111111111111111,
              "#46039f"
             ],
             [
              0.2222222222222222,
              "#7201a8"
             ],
             [
              0.3333333333333333,
              "#9c179e"
             ],
             [
              0.4444444444444444,
              "#bd3786"
             ],
             [
              0.5555555555555556,
              "#d8576b"
             ],
             [
              0.6666666666666666,
              "#ed7953"
             ],
             [
              0.7777777777777778,
              "#fb9f3a"
             ],
             [
              0.8888888888888888,
              "#fdca26"
             ],
             [
              1,
              "#f0f921"
             ]
            ],
            "type": "histogram2dcontour"
           }
          ],
          "mesh3d": [
           {
            "colorbar": {
             "outlinewidth": 0,
             "ticks": ""
            },
            "type": "mesh3d"
           }
          ],
          "parcoords": [
           {
            "line": {
             "colorbar": {
              "outlinewidth": 0,
              "ticks": ""
             }
            },
            "type": "parcoords"
           }
          ],
          "pie": [
           {
            "automargin": true,
            "type": "pie"
           }
          ],
          "scatter": [
           {
            "marker": {
             "colorbar": {
              "outlinewidth": 0,
              "ticks": ""
             }
            },
            "type": "scatter"
           }
          ],
          "scatter3d": [
           {
            "line": {
             "colorbar": {
              "outlinewidth": 0,
              "ticks": ""
             }
            },
            "marker": {
             "colorbar": {
              "outlinewidth": 0,
              "ticks": ""
             }
            },
            "type": "scatter3d"
           }
          ],
          "scattercarpet": [
           {
            "marker": {
             "colorbar": {
              "outlinewidth": 0,
              "ticks": ""
             }
            },
            "type": "scattercarpet"
           }
          ],
          "scattergeo": [
           {
            "marker": {
             "colorbar": {
              "outlinewidth": 0,
              "ticks": ""
             }
            },
            "type": "scattergeo"
           }
          ],
          "scattergl": [
           {
            "marker": {
             "colorbar": {
              "outlinewidth": 0,
              "ticks": ""
             }
            },
            "type": "scattergl"
           }
          ],
          "scattermapbox": [
           {
            "marker": {
             "colorbar": {
              "outlinewidth": 0,
              "ticks": ""
             }
            },
            "type": "scattermapbox"
           }
          ],
          "scatterpolar": [
           {
            "marker": {
             "colorbar": {
              "outlinewidth": 0,
              "ticks": ""
             }
            },
            "type": "scatterpolar"
           }
          ],
          "scatterpolargl": [
           {
            "marker": {
             "colorbar": {
              "outlinewidth": 0,
              "ticks": ""
             }
            },
            "type": "scatterpolargl"
           }
          ],
          "scatterternary": [
           {
            "marker": {
             "colorbar": {
              "outlinewidth": 0,
              "ticks": ""
             }
            },
            "type": "scatterternary"
           }
          ],
          "surface": [
           {
            "colorbar": {
             "outlinewidth": 0,
             "ticks": ""
            },
            "colorscale": [
             [
              0,
              "#0d0887"
             ],
             [
              0.1111111111111111,
              "#46039f"
             ],
             [
              0.2222222222222222,
              "#7201a8"
             ],
             [
              0.3333333333333333,
              "#9c179e"
             ],
             [
              0.4444444444444444,
              "#bd3786"
             ],
             [
              0.5555555555555556,
              "#d8576b"
             ],
             [
              0.6666666666666666,
              "#ed7953"
             ],
             [
              0.7777777777777778,
              "#fb9f3a"
             ],
             [
              0.8888888888888888,
              "#fdca26"
             ],
             [
              1,
              "#f0f921"
             ]
            ],
            "type": "surface"
           }
          ],
          "table": [
           {
            "cells": {
             "fill": {
              "color": "#EBF0F8"
             },
             "line": {
              "color": "white"
             }
            },
            "header": {
             "fill": {
              "color": "#C8D4E3"
             },
             "line": {
              "color": "white"
             }
            },
            "type": "table"
           }
          ]
         },
         "layout": {
          "annotationdefaults": {
           "arrowcolor": "#2a3f5f",
           "arrowhead": 0,
           "arrowwidth": 1
          },
          "autotypenumbers": "strict",
          "coloraxis": {
           "colorbar": {
            "outlinewidth": 0,
            "ticks": ""
           }
          },
          "colorscale": {
           "diverging": [
            [
             0,
             "#8e0152"
            ],
            [
             0.1,
             "#c51b7d"
            ],
            [
             0.2,
             "#de77ae"
            ],
            [
             0.3,
             "#f1b6da"
            ],
            [
             0.4,
             "#fde0ef"
            ],
            [
             0.5,
             "#f7f7f7"
            ],
            [
             0.6,
             "#e6f5d0"
            ],
            [
             0.7,
             "#b8e186"
            ],
            [
             0.8,
             "#7fbc41"
            ],
            [
             0.9,
             "#4d9221"
            ],
            [
             1,
             "#276419"
            ]
           ],
           "sequential": [
            [
             0,
             "#0d0887"
            ],
            [
             0.1111111111111111,
             "#46039f"
            ],
            [
             0.2222222222222222,
             "#7201a8"
            ],
            [
             0.3333333333333333,
             "#9c179e"
            ],
            [
             0.4444444444444444,
             "#bd3786"
            ],
            [
             0.5555555555555556,
             "#d8576b"
            ],
            [
             0.6666666666666666,
             "#ed7953"
            ],
            [
             0.7777777777777778,
             "#fb9f3a"
            ],
            [
             0.8888888888888888,
             "#fdca26"
            ],
            [
             1,
             "#f0f921"
            ]
           ],
           "sequentialminus": [
            [
             0,
             "#0d0887"
            ],
            [
             0.1111111111111111,
             "#46039f"
            ],
            [
             0.2222222222222222,
             "#7201a8"
            ],
            [
             0.3333333333333333,
             "#9c179e"
            ],
            [
             0.4444444444444444,
             "#bd3786"
            ],
            [
             0.5555555555555556,
             "#d8576b"
            ],
            [
             0.6666666666666666,
             "#ed7953"
            ],
            [
             0.7777777777777778,
             "#fb9f3a"
            ],
            [
             0.8888888888888888,
             "#fdca26"
            ],
            [
             1,
             "#f0f921"
            ]
           ]
          },
          "colorway": [
           "#636efa",
           "#EF553B",
           "#00cc96",
           "#ab63fa",
           "#FFA15A",
           "#19d3f3",
           "#FF6692",
           "#B6E880",
           "#FF97FF",
           "#FECB52"
          ],
          "font": {
           "color": "#2a3f5f"
          },
          "geo": {
           "bgcolor": "white",
           "lakecolor": "white",
           "landcolor": "#E5ECF6",
           "showlakes": true,
           "showland": true,
           "subunitcolor": "white"
          },
          "hoverlabel": {
           "align": "left"
          },
          "hovermode": "closest",
          "mapbox": {
           "style": "light"
          },
          "paper_bgcolor": "white",
          "plot_bgcolor": "#E5ECF6",
          "polar": {
           "angularaxis": {
            "gridcolor": "white",
            "linecolor": "white",
            "ticks": ""
           },
           "bgcolor": "#E5ECF6",
           "radialaxis": {
            "gridcolor": "white",
            "linecolor": "white",
            "ticks": ""
           }
          },
          "scene": {
           "xaxis": {
            "backgroundcolor": "#E5ECF6",
            "gridcolor": "white",
            "gridwidth": 2,
            "linecolor": "white",
            "showbackground": true,
            "ticks": "",
            "zerolinecolor": "white"
           },
           "yaxis": {
            "backgroundcolor": "#E5ECF6",
            "gridcolor": "white",
            "gridwidth": 2,
            "linecolor": "white",
            "showbackground": true,
            "ticks": "",
            "zerolinecolor": "white"
           },
           "zaxis": {
            "backgroundcolor": "#E5ECF6",
            "gridcolor": "white",
            "gridwidth": 2,
            "linecolor": "white",
            "showbackground": true,
            "ticks": "",
            "zerolinecolor": "white"
           }
          },
          "shapedefaults": {
           "line": {
            "color": "#2a3f5f"
           }
          },
          "ternary": {
           "aaxis": {
            "gridcolor": "white",
            "linecolor": "white",
            "ticks": ""
           },
           "baxis": {
            "gridcolor": "white",
            "linecolor": "white",
            "ticks": ""
           },
           "bgcolor": "#E5ECF6",
           "caxis": {
            "gridcolor": "white",
            "linecolor": "white",
            "ticks": ""
           }
          },
          "title": {
           "x": 0.05
          },
          "xaxis": {
           "automargin": true,
           "gridcolor": "white",
           "linecolor": "white",
           "ticks": "",
           "title": {
            "standoff": 15
           },
           "zerolinecolor": "white",
           "zerolinewidth": 2
          },
          "yaxis": {
           "automargin": true,
           "gridcolor": "white",
           "linecolor": "white",
           "ticks": "",
           "title": {
            "standoff": 15
           },
           "zerolinecolor": "white",
           "zerolinewidth": 2
          }
         }
        },
        "title": {
         "font": {
          "color": "#4D5663"
         }
        },
        "xaxis": {
         "gridcolor": "#E1E5ED",
         "showgrid": true,
         "tickfont": {
          "color": "#4D5663"
         },
         "title": {
          "font": {
           "color": "#4D5663"
          },
          "text": ""
         },
         "zerolinecolor": "#E1E5ED"
        },
        "yaxis": {
         "gridcolor": "#E1E5ED",
         "showgrid": true,
         "tickfont": {
          "color": "#4D5663"
         },
         "title": {
          "font": {
           "color": "#4D5663"
          },
          "text": ""
         },
         "zerolinecolor": "#E1E5ED"
        }
       }
      },
      "text/html": [
       "<div>                            <div id=\"0831c3e5-bf52-4ae4-b581-81e27da9d4ef\" class=\"plotly-graph-div\" style=\"height:525px; width:100%;\"></div>            <script type=\"text/javascript\">                require([\"plotly\"], function(Plotly) {                    window.PLOTLYENV=window.PLOTLYENV || {};\n",
       "                    window.PLOTLYENV.BASE_URL='https://plot.ly';                                    if (document.getElementById(\"0831c3e5-bf52-4ae4-b581-81e27da9d4ef\")) {                    Plotly.newPlot(                        \"0831c3e5-bf52-4ae4-b581-81e27da9d4ef\",                        [{\"line\":{\"color\":\"rgba(255, 0, 136, 1.0)\",\"dash\":\"solid\",\"shape\":\"linear\",\"width\":1.3},\"mode\":\"lines\",\"name\":\"TAQA\",\"text\":\"\",\"type\":\"scatter\",\"x\":[\"2021-02-01\",\"2021-02-02\",\"2021-02-03\",\"2021-02-04\",\"2021-02-07\",\"2021-02-08\",\"2021-02-09\",\"2021-02-10\",\"2021-02-11\",\"2021-02-14\",\"2021-02-15\",\"2021-02-16\",\"2021-02-17\",\"2021-02-18\",\"2021-02-21\",\"2021-02-22\",\"2021-02-23\",\"2021-02-24\",\"2021-02-25\",\"2021-02-28\",\"2021-03-01\",\"2021-03-02\",\"2021-03-03\",\"2021-03-04\",\"2021-03-07\",\"2021-03-08\",\"2021-03-09\",\"2021-03-10\",\"2021-03-11\",\"2021-03-14\",\"2021-03-15\",\"2021-03-16\",\"2021-03-17\",\"2021-03-18\",\"2021-03-21\",\"2021-03-22\",\"2021-03-23\",\"2021-03-24\",\"2021-03-25\",\"2021-03-28\",\"2021-03-29\",\"2021-03-30\",\"2021-03-31\",\"2021-04-01\",\"2021-04-04\",\"2021-04-05\",\"2021-04-06\",\"2021-04-07\",\"2021-04-08\",\"2021-04-11\",\"2021-04-12\",\"2021-04-13\",\"2021-04-14\",\"2021-04-15\",\"2021-04-18\",\"2021-04-19\",\"2021-04-20\",\"2021-04-21\",\"2021-04-22\",\"2021-04-25\",\"2021-04-26\",\"2021-04-27\",\"2021-04-28\",\"2021-04-29\",\"2021-05-02\",\"2021-05-03\",\"2021-05-04\",\"2021-05-05\",\"2021-05-06\",\"2021-05-09\",\"2021-05-10\",\"2021-05-16\",\"2021-05-17\",\"2021-05-18\",\"2021-05-19\",\"2021-05-20\",\"2021-05-23\",\"2021-05-24\",\"2021-05-25\",\"2021-05-26\",\"2021-05-27\",\"2021-05-30\",\"2021-05-31\",\"2021-06-01\",\"2021-06-02\",\"2021-06-03\",\"2021-06-06\",\"2021-06-07\",\"2021-06-08\",\"2021-06-09\",\"2021-06-10\",\"2021-06-13\",\"2021-06-14\",\"2021-06-15\",\"2021-06-16\",\"2021-06-17\",\"2021-06-20\",\"2021-06-21\",\"2021-06-22\",\"2021-06-23\",\"2021-06-24\",\"2021-06-27\",\"2021-06-28\",\"2021-06-29\",\"2021-06-30\",\"2021-07-01\",\"2021-07-04\",\"2021-07-05\",\"2021-07-06\",\"2021-07-07\",\"2021-07-08\",\"2021-07-11\",\"2021-07-12\",\"2021-07-13\",\"2021-07-14\",\"2021-07-15\",\"2021-07-18\",\"2021-07-25\",\"2021-07-26\",\"2021-07-27\",\"2021-07-28\",\"2021-07-29\",\"2021-08-01\"],\"y\":[1.45,1.47,1.46,1.46,1.44,1.43,1.43,1.43,1.44,1.44,1.43,1.43,1.39,1.39,1.35,1.4,1.38,1.39,1.4,1.39,1.39,1.39,1.39,1.4,1.4,1.38,1.37,1.39,1.38,1.37,1.38,1.39,1.39,1.38,1.38,1.39,1.38,1.38,1.38,1.36,1.37,1.41,1.4,1.39,1.39,1.38,1.36,1.36,1.36,1.38,1.37,1.39,1.37,1.37,1.38,1.38,1.37,1.39,1.39,1.38,1.37,1.37,1.38,1.36,1.36,1.36,1.37,1.38,1.37,1.38,1.36,1.36,1.39,1.41,1.39,1.39,1.4,1.39,1.37,1.38,1.36,1.36,1.35,1.36,1.37,1.35,1.34,1.35,1.35,1.37,1.43,1.41,1.42,1.42,1.4,1.41,1.4,1.4,1.4,1.4,1.39,1.38,1.38,1.37,1.39,1.37,1.38,1.37,1.35,1.36,1.37,1.37,1.35,1.37,1.36,1.36,1.36,1.34,1.34,1.33,1.29,1.3,1.28]}],                        {\"legend\":{\"bgcolor\":\"#F5F6F9\",\"font\":{\"color\":\"#4D5663\"}},\"paper_bgcolor\":\"#F5F6F9\",\"plot_bgcolor\":\"#F5F6F9\",\"template\":{\"data\":{\"bar\":[{\"error_x\":{\"color\":\"#2a3f5f\"},\"error_y\":{\"color\":\"#2a3f5f\"},\"marker\":{\"line\":{\"color\":\"#E5ECF6\",\"width\":0.5},\"pattern\":{\"fillmode\":\"overlay\",\"size\":10,\"solidity\":0.2}},\"type\":\"bar\"}],\"barpolar\":[{\"marker\":{\"line\":{\"color\":\"#E5ECF6\",\"width\":0.5},\"pattern\":{\"fillmode\":\"overlay\",\"size\":10,\"solidity\":0.2}},\"type\":\"barpolar\"}],\"carpet\":[{\"aaxis\":{\"endlinecolor\":\"#2a3f5f\",\"gridcolor\":\"white\",\"linecolor\":\"white\",\"minorgridcolor\":\"white\",\"startlinecolor\":\"#2a3f5f\"},\"baxis\":{\"endlinecolor\":\"#2a3f5f\",\"gridcolor\":\"white\",\"linecolor\":\"white\",\"minorgridcolor\":\"white\",\"startlinecolor\":\"#2a3f5f\"},\"type\":\"carpet\"}],\"choropleth\":[{\"colorbar\":{\"outlinewidth\":0,\"ticks\":\"\"},\"type\":\"choropleth\"}],\"contour\":[{\"colorbar\":{\"outlinewidth\":0,\"ticks\":\"\"},\"colorscale\":[[0.0,\"#0d0887\"],[0.1111111111111111,\"#46039f\"],[0.2222222222222222,\"#7201a8\"],[0.3333333333333333,\"#9c179e\"],[0.4444444444444444,\"#bd3786\"],[0.5555555555555556,\"#d8576b\"],[0.6666666666666666,\"#ed7953\"],[0.7777777777777778,\"#fb9f3a\"],[0.8888888888888888,\"#fdca26\"],[1.0,\"#f0f921\"]],\"type\":\"contour\"}],\"contourcarpet\":[{\"colorbar\":{\"outlinewidth\":0,\"ticks\":\"\"},\"type\":\"contourcarpet\"}],\"heatmap\":[{\"colorbar\":{\"outlinewidth\":0,\"ticks\":\"\"},\"colorscale\":[[0.0,\"#0d0887\"],[0.1111111111111111,\"#46039f\"],[0.2222222222222222,\"#7201a8\"],[0.3333333333333333,\"#9c179e\"],[0.4444444444444444,\"#bd3786\"],[0.5555555555555556,\"#d8576b\"],[0.6666666666666666,\"#ed7953\"],[0.7777777777777778,\"#fb9f3a\"],[0.8888888888888888,\"#fdca26\"],[1.0,\"#f0f921\"]],\"type\":\"heatmap\"}],\"heatmapgl\":[{\"colorbar\":{\"outlinewidth\":0,\"ticks\":\"\"},\"colorscale\":[[0.0,\"#0d0887\"],[0.1111111111111111,\"#46039f\"],[0.2222222222222222,\"#7201a8\"],[0.3333333333333333,\"#9c179e\"],[0.4444444444444444,\"#bd3786\"],[0.5555555555555556,\"#d8576b\"],[0.6666666666666666,\"#ed7953\"],[0.7777777777777778,\"#fb9f3a\"],[0.8888888888888888,\"#fdca26\"],[1.0,\"#f0f921\"]],\"type\":\"heatmapgl\"}],\"histogram\":[{\"marker\":{\"pattern\":{\"fillmode\":\"overlay\",\"size\":10,\"solidity\":0.2}},\"type\":\"histogram\"}],\"histogram2d\":[{\"colorbar\":{\"outlinewidth\":0,\"ticks\":\"\"},\"colorscale\":[[0.0,\"#0d0887\"],[0.1111111111111111,\"#46039f\"],[0.2222222222222222,\"#7201a8\"],[0.3333333333333333,\"#9c179e\"],[0.4444444444444444,\"#bd3786\"],[0.5555555555555556,\"#d8576b\"],[0.6666666666666666,\"#ed7953\"],[0.7777777777777778,\"#fb9f3a\"],[0.8888888888888888,\"#fdca26\"],[1.0,\"#f0f921\"]],\"type\":\"histogram2d\"}],\"histogram2dcontour\":[{\"colorbar\":{\"outlinewidth\":0,\"ticks\":\"\"},\"colorscale\":[[0.0,\"#0d0887\"],[0.1111111111111111,\"#46039f\"],[0.2222222222222222,\"#7201a8\"],[0.3333333333333333,\"#9c179e\"],[0.4444444444444444,\"#bd3786\"],[0.5555555555555556,\"#d8576b\"],[0.6666666666666666,\"#ed7953\"],[0.7777777777777778,\"#fb9f3a\"],[0.8888888888888888,\"#fdca26\"],[1.0,\"#f0f921\"]],\"type\":\"histogram2dcontour\"}],\"mesh3d\":[{\"colorbar\":{\"outlinewidth\":0,\"ticks\":\"\"},\"type\":\"mesh3d\"}],\"parcoords\":[{\"line\":{\"colorbar\":{\"outlinewidth\":0,\"ticks\":\"\"}},\"type\":\"parcoords\"}],\"pie\":[{\"automargin\":true,\"type\":\"pie\"}],\"scatter\":[{\"marker\":{\"colorbar\":{\"outlinewidth\":0,\"ticks\":\"\"}},\"type\":\"scatter\"}],\"scatter3d\":[{\"line\":{\"colorbar\":{\"outlinewidth\":0,\"ticks\":\"\"}},\"marker\":{\"colorbar\":{\"outlinewidth\":0,\"ticks\":\"\"}},\"type\":\"scatter3d\"}],\"scattercarpet\":[{\"marker\":{\"colorbar\":{\"outlinewidth\":0,\"ticks\":\"\"}},\"type\":\"scattercarpet\"}],\"scattergeo\":[{\"marker\":{\"colorbar\":{\"outlinewidth\":0,\"ticks\":\"\"}},\"type\":\"scattergeo\"}],\"scattergl\":[{\"marker\":{\"colorbar\":{\"outlinewidth\":0,\"ticks\":\"\"}},\"type\":\"scattergl\"}],\"scattermapbox\":[{\"marker\":{\"colorbar\":{\"outlinewidth\":0,\"ticks\":\"\"}},\"type\":\"scattermapbox\"}],\"scatterpolar\":[{\"marker\":{\"colorbar\":{\"outlinewidth\":0,\"ticks\":\"\"}},\"type\":\"scatterpolar\"}],\"scatterpolargl\":[{\"marker\":{\"colorbar\":{\"outlinewidth\":0,\"ticks\":\"\"}},\"type\":\"scatterpolargl\"}],\"scatterternary\":[{\"marker\":{\"colorbar\":{\"outlinewidth\":0,\"ticks\":\"\"}},\"type\":\"scatterternary\"}],\"surface\":[{\"colorbar\":{\"outlinewidth\":0,\"ticks\":\"\"},\"colorscale\":[[0.0,\"#0d0887\"],[0.1111111111111111,\"#46039f\"],[0.2222222222222222,\"#7201a8\"],[0.3333333333333333,\"#9c179e\"],[0.4444444444444444,\"#bd3786\"],[0.5555555555555556,\"#d8576b\"],[0.6666666666666666,\"#ed7953\"],[0.7777777777777778,\"#fb9f3a\"],[0.8888888888888888,\"#fdca26\"],[1.0,\"#f0f921\"]],\"type\":\"surface\"}],\"table\":[{\"cells\":{\"fill\":{\"color\":\"#EBF0F8\"},\"line\":{\"color\":\"white\"}},\"header\":{\"fill\":{\"color\":\"#C8D4E3\"},\"line\":{\"color\":\"white\"}},\"type\":\"table\"}]},\"layout\":{\"annotationdefaults\":{\"arrowcolor\":\"#2a3f5f\",\"arrowhead\":0,\"arrowwidth\":1},\"autotypenumbers\":\"strict\",\"coloraxis\":{\"colorbar\":{\"outlinewidth\":0,\"ticks\":\"\"}},\"colorscale\":{\"diverging\":[[0,\"#8e0152\"],[0.1,\"#c51b7d\"],[0.2,\"#de77ae\"],[0.3,\"#f1b6da\"],[0.4,\"#fde0ef\"],[0.5,\"#f7f7f7\"],[0.6,\"#e6f5d0\"],[0.7,\"#b8e186\"],[0.8,\"#7fbc41\"],[0.9,\"#4d9221\"],[1,\"#276419\"]],\"sequential\":[[0.0,\"#0d0887\"],[0.1111111111111111,\"#46039f\"],[0.2222222222222222,\"#7201a8\"],[0.3333333333333333,\"#9c179e\"],[0.4444444444444444,\"#bd3786\"],[0.5555555555555556,\"#d8576b\"],[0.6666666666666666,\"#ed7953\"],[0.7777777777777778,\"#fb9f3a\"],[0.8888888888888888,\"#fdca26\"],[1.0,\"#f0f921\"]],\"sequentialminus\":[[0.0,\"#0d0887\"],[0.1111111111111111,\"#46039f\"],[0.2222222222222222,\"#7201a8\"],[0.3333333333333333,\"#9c179e\"],[0.4444444444444444,\"#bd3786\"],[0.5555555555555556,\"#d8576b\"],[0.6666666666666666,\"#ed7953\"],[0.7777777777777778,\"#fb9f3a\"],[0.8888888888888888,\"#fdca26\"],[1.0,\"#f0f921\"]]},\"colorway\":[\"#636efa\",\"#EF553B\",\"#00cc96\",\"#ab63fa\",\"#FFA15A\",\"#19d3f3\",\"#FF6692\",\"#B6E880\",\"#FF97FF\",\"#FECB52\"],\"font\":{\"color\":\"#2a3f5f\"},\"geo\":{\"bgcolor\":\"white\",\"lakecolor\":\"white\",\"landcolor\":\"#E5ECF6\",\"showlakes\":true,\"showland\":true,\"subunitcolor\":\"white\"},\"hoverlabel\":{\"align\":\"left\"},\"hovermode\":\"closest\",\"mapbox\":{\"style\":\"light\"},\"paper_bgcolor\":\"white\",\"plot_bgcolor\":\"#E5ECF6\",\"polar\":{\"angularaxis\":{\"gridcolor\":\"white\",\"linecolor\":\"white\",\"ticks\":\"\"},\"bgcolor\":\"#E5ECF6\",\"radialaxis\":{\"gridcolor\":\"white\",\"linecolor\":\"white\",\"ticks\":\"\"}},\"scene\":{\"xaxis\":{\"backgroundcolor\":\"#E5ECF6\",\"gridcolor\":\"white\",\"gridwidth\":2,\"linecolor\":\"white\",\"showbackground\":true,\"ticks\":\"\",\"zerolinecolor\":\"white\"},\"yaxis\":{\"backgroundcolor\":\"#E5ECF6\",\"gridcolor\":\"white\",\"gridwidth\":2,\"linecolor\":\"white\",\"showbackground\":true,\"ticks\":\"\",\"zerolinecolor\":\"white\"},\"zaxis\":{\"backgroundcolor\":\"#E5ECF6\",\"gridcolor\":\"white\",\"gridwidth\":2,\"linecolor\":\"white\",\"showbackground\":true,\"ticks\":\"\",\"zerolinecolor\":\"white\"}},\"shapedefaults\":{\"line\":{\"color\":\"#2a3f5f\"}},\"ternary\":{\"aaxis\":{\"gridcolor\":\"white\",\"linecolor\":\"white\",\"ticks\":\"\"},\"baxis\":{\"gridcolor\":\"white\",\"linecolor\":\"white\",\"ticks\":\"\"},\"bgcolor\":\"#E5ECF6\",\"caxis\":{\"gridcolor\":\"white\",\"linecolor\":\"white\",\"ticks\":\"\"}},\"title\":{\"x\":0.05},\"xaxis\":{\"automargin\":true,\"gridcolor\":\"white\",\"linecolor\":\"white\",\"ticks\":\"\",\"title\":{\"standoff\":15},\"zerolinecolor\":\"white\",\"zerolinewidth\":2},\"yaxis\":{\"automargin\":true,\"gridcolor\":\"white\",\"linecolor\":\"white\",\"ticks\":\"\",\"title\":{\"standoff\":15},\"zerolinecolor\":\"white\",\"zerolinewidth\":2}}},\"title\":{\"font\":{\"color\":\"#4D5663\"}},\"xaxis\":{\"gridcolor\":\"#E1E5ED\",\"showgrid\":true,\"tickfont\":{\"color\":\"#4D5663\"},\"title\":{\"font\":{\"color\":\"#4D5663\"},\"text\":\"\"},\"zerolinecolor\":\"#E1E5ED\"},\"yaxis\":{\"gridcolor\":\"#E1E5ED\",\"showgrid\":true,\"tickfont\":{\"color\":\"#4D5663\"},\"title\":{\"font\":{\"color\":\"#4D5663\"},\"text\":\"\"},\"zerolinecolor\":\"#E1E5ED\"}},                        {\"showLink\": true, \"linkText\": \"Export to plot.ly\", \"plotlyServerURL\": \"https://plot.ly\", \"responsive\": true}                    ).then(function(){\n",
       "                            \n",
       "var gd = document.getElementById('0831c3e5-bf52-4ae4-b581-81e27da9d4ef');\n",
       "var x = new MutationObserver(function (mutations, observer) {{\n",
       "        var display = window.getComputedStyle(gd).display;\n",
       "        if (!display || display === 'none') {{\n",
       "            console.log([gd, 'removed!']);\n",
       "            Plotly.purge(gd);\n",
       "            observer.disconnect();\n",
       "        }}\n",
       "}});\n",
       "\n",
       "// Listen for the removal of the full notebook cells\n",
       "var notebookContainer = gd.closest('#notebook-container');\n",
       "if (notebookContainer) {{\n",
       "    x.observe(notebookContainer, {childList: true});\n",
       "}}\n",
       "\n",
       "// Listen for the clearing of the current output cell\n",
       "var outputEl = gd.closest('.output');\n",
       "if (outputEl) {{\n",
       "    x.observe(outputEl, {childList: true});\n",
       "}}\n",
       "\n",
       "                        })                };                });            </script>        </div>"
      ]
     },
     "metadata": {},
     "output_type": "display_data"
    }
   ],
   "source": [
    "TAQA.iplot(x='Date', y='TAQA', color='pink')"
   ]
  },
  {
   "cell_type": "code",
   "execution_count": 17,
   "id": "fe634b61",
   "metadata": {},
   "outputs": [],
   "source": [
    "ALL = pd.merge(IHC, ADH, on='Date')"
   ]
  },
  {
   "cell_type": "code",
   "execution_count": 18,
   "id": "5f0d7551",
   "metadata": {},
   "outputs": [],
   "source": [
    "ALL = pd.merge(ALL, ET, on='Date')"
   ]
  },
  {
   "cell_type": "code",
   "execution_count": 19,
   "id": "c97d5068",
   "metadata": {},
   "outputs": [],
   "source": [
    "ALL = pd.merge(ALL, FAB, on='Date')"
   ]
  },
  {
   "cell_type": "code",
   "execution_count": 20,
   "id": "66217f21",
   "metadata": {},
   "outputs": [],
   "source": [
    "ALL = pd.merge(ALL, TAQA, on='Date')"
   ]
  },
  {
   "cell_type": "code",
   "execution_count": 21,
   "id": "31f4c7ca",
   "metadata": {},
   "outputs": [
    {
     "data": {
      "text/html": [
       "<div>\n",
       "<style scoped>\n",
       "    .dataframe tbody tr th:only-of-type {\n",
       "        vertical-align: middle;\n",
       "    }\n",
       "\n",
       "    .dataframe tbody tr th {\n",
       "        vertical-align: top;\n",
       "    }\n",
       "\n",
       "    .dataframe thead th {\n",
       "        text-align: right;\n",
       "    }\n",
       "</style>\n",
       "<table border=\"1\" class=\"dataframe\">\n",
       "  <thead>\n",
       "    <tr style=\"text-align: right;\">\n",
       "      <th></th>\n",
       "      <th>Date</th>\n",
       "      <th>ADH</th>\n",
       "    </tr>\n",
       "  </thead>\n",
       "  <tbody>\n",
       "    <tr>\n",
       "      <th>0</th>\n",
       "      <td>2021-02-01</td>\n",
       "      <td>NaN</td>\n",
       "    </tr>\n",
       "    <tr>\n",
       "      <th>1</th>\n",
       "      <td>2021-02-02</td>\n",
       "      <td>NaN</td>\n",
       "    </tr>\n",
       "    <tr>\n",
       "      <th>2</th>\n",
       "      <td>2021-02-03</td>\n",
       "      <td>NaN</td>\n",
       "    </tr>\n",
       "    <tr>\n",
       "      <th>3</th>\n",
       "      <td>2021-02-04</td>\n",
       "      <td>NaN</td>\n",
       "    </tr>\n",
       "    <tr>\n",
       "      <th>4</th>\n",
       "      <td>2021-02-07</td>\n",
       "      <td>NaN</td>\n",
       "    </tr>\n",
       "  </tbody>\n",
       "</table>\n",
       "</div>"
      ],
      "text/plain": [
       "        Date  ADH\n",
       "0 2021-02-01  NaN\n",
       "1 2021-02-02  NaN\n",
       "2 2021-02-03  NaN\n",
       "3 2021-02-04  NaN\n",
       "4 2021-02-07  NaN"
      ]
     },
     "execution_count": 21,
     "metadata": {},
     "output_type": "execute_result"
    }
   ],
   "source": [
    "ADH.head()"
   ]
  },
  {
   "cell_type": "code",
   "execution_count": 22,
   "id": "fde3e9f8",
   "metadata": {},
   "outputs": [
    {
     "data": {
      "text/html": [
       "<div>\n",
       "<style scoped>\n",
       "    .dataframe tbody tr th:only-of-type {\n",
       "        vertical-align: middle;\n",
       "    }\n",
       "\n",
       "    .dataframe tbody tr th {\n",
       "        vertical-align: top;\n",
       "    }\n",
       "\n",
       "    .dataframe thead th {\n",
       "        text-align: right;\n",
       "    }\n",
       "</style>\n",
       "<table border=\"1\" class=\"dataframe\">\n",
       "  <thead>\n",
       "    <tr style=\"text-align: right;\">\n",
       "      <th></th>\n",
       "      <th>Date</th>\n",
       "      <th>IHC</th>\n",
       "      <th>ADH</th>\n",
       "      <th>ETISALAT</th>\n",
       "      <th>FAB</th>\n",
       "      <th>TAQA</th>\n",
       "    </tr>\n",
       "  </thead>\n",
       "  <tbody>\n",
       "    <tr>\n",
       "      <th>0</th>\n",
       "      <td>2021-02-01</td>\n",
       "      <td>46.00</td>\n",
       "      <td>NaN</td>\n",
       "      <td>19.88</td>\n",
       "      <td>14.88</td>\n",
       "      <td>1.45</td>\n",
       "    </tr>\n",
       "    <tr>\n",
       "      <th>1</th>\n",
       "      <td>2021-02-02</td>\n",
       "      <td>46.04</td>\n",
       "      <td>NaN</td>\n",
       "      <td>19.98</td>\n",
       "      <td>15.06</td>\n",
       "      <td>1.47</td>\n",
       "    </tr>\n",
       "    <tr>\n",
       "      <th>2</th>\n",
       "      <td>2021-02-03</td>\n",
       "      <td>46.06</td>\n",
       "      <td>NaN</td>\n",
       "      <td>19.80</td>\n",
       "      <td>14.92</td>\n",
       "      <td>1.46</td>\n",
       "    </tr>\n",
       "    <tr>\n",
       "      <th>3</th>\n",
       "      <td>2021-02-04</td>\n",
       "      <td>46.08</td>\n",
       "      <td>NaN</td>\n",
       "      <td>19.82</td>\n",
       "      <td>14.88</td>\n",
       "      <td>1.46</td>\n",
       "    </tr>\n",
       "    <tr>\n",
       "      <th>4</th>\n",
       "      <td>2021-02-07</td>\n",
       "      <td>46.10</td>\n",
       "      <td>NaN</td>\n",
       "      <td>19.88</td>\n",
       "      <td>14.90</td>\n",
       "      <td>1.44</td>\n",
       "    </tr>\n",
       "  </tbody>\n",
       "</table>\n",
       "</div>"
      ],
      "text/plain": [
       "        Date    IHC  ADH  ETISALAT    FAB  TAQA\n",
       "0 2021-02-01  46.00  NaN     19.88  14.88  1.45\n",
       "1 2021-02-02  46.04  NaN     19.98  15.06  1.47\n",
       "2 2021-02-03  46.06  NaN     19.80  14.92  1.46\n",
       "3 2021-02-04  46.08  NaN     19.82  14.88  1.46\n",
       "4 2021-02-07  46.10  NaN     19.88  14.90  1.44"
      ]
     },
     "execution_count": 22,
     "metadata": {},
     "output_type": "execute_result"
    }
   ],
   "source": [
    "ALL.head()"
   ]
  },
  {
   "cell_type": "code",
   "execution_count": 82,
   "id": "77f314b6",
   "metadata": {},
   "outputs": [
    {
     "data": {
      "text/html": [
       "<div style=\"display:inline-block;padding:10px;\"><div>accent</div><div style=\"background-color:rgb(127,201,127);height:20px;width:20px;margin-bottom:0px;display:inline-block;\"></div><div style=\"background-color:rgb(190,174,212);height:20px;width:20px;margin-bottom:0px;display:inline-block;\"></div><div style=\"background-color:rgb(253,192,134);height:20px;width:20px;margin-bottom:0px;display:inline-block;\"></div><div style=\"background-color:rgb(255,255,153);height:20px;width:20px;margin-bottom:0px;display:inline-block;\"></div><div style=\"background-color:rgb(56,108,176);height:20px;width:20px;margin-bottom:0px;display:inline-block;\"></div><div style=\"background-color:rgb(240,2,127);height:20px;width:20px;margin-bottom:0px;display:inline-block;\"></div><div style=\"background-color:rgb(191,91,23);height:20px;width:20px;margin-bottom:0px;display:inline-block;\"></div><div style=\"background-color:rgb(102,102,102);height:20px;width:20px;margin-bottom:0px;display:inline-block;\"></div></div><div style=\"display:inline-block;padding:10px;\"><div>blues</div><div style=\"background-color:rgb(247,251,255);height:20px;width:20px;margin-bottom:0px;display:inline-block;\"></div><div style=\"background-color:rgb(222,235,247);height:20px;width:20px;margin-bottom:0px;display:inline-block;\"></div><div style=\"background-color:rgb(198,219,239);height:20px;width:20px;margin-bottom:0px;display:inline-block;\"></div><div style=\"background-color:rgb(158,202,225);height:20px;width:20px;margin-bottom:0px;display:inline-block;\"></div><div style=\"background-color:rgb(107,174,214);height:20px;width:20px;margin-bottom:0px;display:inline-block;\"></div><div style=\"background-color:rgb(66,146,198);height:20px;width:20px;margin-bottom:0px;display:inline-block;\"></div><div style=\"background-color:rgb(33,113,181);height:20px;width:20px;margin-bottom:0px;display:inline-block;\"></div><div style=\"background-color:rgb(8,81,156);height:20px;width:20px;margin-bottom:0px;display:inline-block;\"></div><div style=\"background-color:rgb(8,48,107);height:20px;width:20px;margin-bottom:0px;display:inline-block;\"></div></div><div style=\"display:inline-block;padding:10px;\"><div>brbg</div><div style=\"background-color:rgb(84,48,5);height:20px;width:20px;margin-bottom:0px;display:inline-block;\"></div><div style=\"background-color:rgb(140,81,10);height:20px;width:20px;margin-bottom:0px;display:inline-block;\"></div><div style=\"background-color:rgb(191,129,45);height:20px;width:20px;margin-bottom:0px;display:inline-block;\"></div><div style=\"background-color:rgb(223,194,125);height:20px;width:20px;margin-bottom:0px;display:inline-block;\"></div><div style=\"background-color:rgb(246,232,195);height:20px;width:20px;margin-bottom:0px;display:inline-block;\"></div><div style=\"background-color:rgb(245,245,245);height:20px;width:20px;margin-bottom:0px;display:inline-block;\"></div><div style=\"background-color:rgb(199,234,229);height:20px;width:20px;margin-bottom:0px;display:inline-block;\"></div><div style=\"background-color:rgb(128,205,193);height:20px;width:20px;margin-bottom:0px;display:inline-block;\"></div><div style=\"background-color:rgb(53,151,143);height:20px;width:20px;margin-bottom:0px;display:inline-block;\"></div><div style=\"background-color:rgb(1,102,94);height:20px;width:20px;margin-bottom:0px;display:inline-block;\"></div><div style=\"background-color:rgb(0,60,48);height:20px;width:20px;margin-bottom:0px;display:inline-block;\"></div></div><div style=\"display:inline-block;padding:10px;\"><div>bugn</div><div style=\"background-color:rgb(247,252,253);height:20px;width:20px;margin-bottom:0px;display:inline-block;\"></div><div style=\"background-color:rgb(229,245,249);height:20px;width:20px;margin-bottom:0px;display:inline-block;\"></div><div style=\"background-color:rgb(204,236,230);height:20px;width:20px;margin-bottom:0px;display:inline-block;\"></div><div style=\"background-color:rgb(153,216,201);height:20px;width:20px;margin-bottom:0px;display:inline-block;\"></div><div style=\"background-color:rgb(102,194,164);height:20px;width:20px;margin-bottom:0px;display:inline-block;\"></div><div style=\"background-color:rgb(65,174,118);height:20px;width:20px;margin-bottom:0px;display:inline-block;\"></div><div style=\"background-color:rgb(35,139,69);height:20px;width:20px;margin-bottom:0px;display:inline-block;\"></div><div style=\"background-color:rgb(0,109,44);height:20px;width:20px;margin-bottom:0px;display:inline-block;\"></div><div style=\"background-color:rgb(0,68,27);height:20px;width:20px;margin-bottom:0px;display:inline-block;\"></div></div><div style=\"display:inline-block;padding:10px;\"><div>bupu</div><div style=\"background-color:rgb(247,252,253);height:20px;width:20px;margin-bottom:0px;display:inline-block;\"></div><div style=\"background-color:rgb(224,236,244);height:20px;width:20px;margin-bottom:0px;display:inline-block;\"></div><div style=\"background-color:rgb(191,211,230);height:20px;width:20px;margin-bottom:0px;display:inline-block;\"></div><div style=\"background-color:rgb(158,188,218);height:20px;width:20px;margin-bottom:0px;display:inline-block;\"></div><div style=\"background-color:rgb(140,150,198);height:20px;width:20px;margin-bottom:0px;display:inline-block;\"></div><div style=\"background-color:rgb(140,107,177);height:20px;width:20px;margin-bottom:0px;display:inline-block;\"></div><div style=\"background-color:rgb(136,65,157);height:20px;width:20px;margin-bottom:0px;display:inline-block;\"></div><div style=\"background-color:rgb(129,15,124);height:20px;width:20px;margin-bottom:0px;display:inline-block;\"></div><div style=\"background-color:rgb(77,0,75);height:20px;width:20px;margin-bottom:0px;display:inline-block;\"></div></div><div style=\"display:inline-block;padding:10px;\"><div>dark2</div><div style=\"background-color:rgb(27,158,119);height:20px;width:20px;margin-bottom:0px;display:inline-block;\"></div><div style=\"background-color:rgb(217,95,2);height:20px;width:20px;margin-bottom:0px;display:inline-block;\"></div><div style=\"background-color:rgb(117,112,179);height:20px;width:20px;margin-bottom:0px;display:inline-block;\"></div><div style=\"background-color:rgb(231,41,138);height:20px;width:20px;margin-bottom:0px;display:inline-block;\"></div><div style=\"background-color:rgb(102,166,30);height:20px;width:20px;margin-bottom:0px;display:inline-block;\"></div><div style=\"background-color:rgb(230,171,2);height:20px;width:20px;margin-bottom:0px;display:inline-block;\"></div><div style=\"background-color:rgb(166,118,29);height:20px;width:20px;margin-bottom:0px;display:inline-block;\"></div><div style=\"background-color:rgb(102,102,102);height:20px;width:20px;margin-bottom:0px;display:inline-block;\"></div></div><div style=\"display:inline-block;padding:10px;\"><div>dflt</div><div style=\"background-color:rgb(255, 153, 51);height:20px;width:20px;margin-bottom:0px;display:inline-block;\"></div><div style=\"background-color:rgb(55, 128, 191);height:20px;width:20px;margin-bottom:0px;display:inline-block;\"></div><div style=\"background-color:rgb(50, 171, 96);height:20px;width:20px;margin-bottom:0px;display:inline-block;\"></div><div style=\"background-color:rgb(128, 0, 128);height:20px;width:20px;margin-bottom:0px;display:inline-block;\"></div><div style=\"background-color:rgb(219, 64, 82);height:20px;width:20px;margin-bottom:0px;display:inline-block;\"></div><div style=\"background-color:rgb(0, 128, 128);height:20px;width:20px;margin-bottom:0px;display:inline-block;\"></div><div style=\"background-color:rgb(255, 255, 51);height:20px;width:20px;margin-bottom:0px;display:inline-block;\"></div><div style=\"background-color:rgb(128, 128, 0);height:20px;width:20px;margin-bottom:0px;display:inline-block;\"></div><div style=\"background-color:rgb(251, 128, 114);height:20px;width:20px;margin-bottom:0px;display:inline-block;\"></div><div style=\"background-color:rgb(128, 177, 211);height:20px;width:20px;margin-bottom:0px;display:inline-block;\"></div></div><div style=\"display:inline-block;padding:10px;\"><div>ggplot</div><div style=\"background-color:rgb(226, 74, 51);height:20px;width:20px;margin-bottom:0px;display:inline-block;\"></div><div style=\"background-color:rgb(62, 111, 176);height:20px;width:20px;margin-bottom:0px;display:inline-block;\"></div><div style=\"background-color:rgb(132, 118, 202);height:20px;width:20px;margin-bottom:0px;display:inline-block;\"></div><div style=\"background-color:rgb(101, 101, 101);height:20px;width:20px;margin-bottom:0px;display:inline-block;\"></div><div style=\"background-color:rgb(251, 193, 94);height:20px;width:20px;margin-bottom:0px;display:inline-block;\"></div><div style=\"background-color:rgb(142, 186, 66);height:20px;width:20px;margin-bottom:0px;display:inline-block;\"></div><div style=\"background-color:rgb(255, 181, 184);height:20px;width:20px;margin-bottom:0px;display:inline-block;\"></div></div><div style=\"display:inline-block;padding:10px;\"><div>gnbu</div><div style=\"background-color:rgb(247,252,240);height:20px;width:20px;margin-bottom:0px;display:inline-block;\"></div><div style=\"background-color:rgb(224,243,219);height:20px;width:20px;margin-bottom:0px;display:inline-block;\"></div><div style=\"background-color:rgb(204,235,197);height:20px;width:20px;margin-bottom:0px;display:inline-block;\"></div><div style=\"background-color:rgb(168,221,181);height:20px;width:20px;margin-bottom:0px;display:inline-block;\"></div><div style=\"background-color:rgb(123,204,196);height:20px;width:20px;margin-bottom:0px;display:inline-block;\"></div><div style=\"background-color:rgb(78,179,211);height:20px;width:20px;margin-bottom:0px;display:inline-block;\"></div><div style=\"background-color:rgb(43,140,190);height:20px;width:20px;margin-bottom:0px;display:inline-block;\"></div><div style=\"background-color:rgb(8,104,172);height:20px;width:20px;margin-bottom:0px;display:inline-block;\"></div><div style=\"background-color:rgb(8,64,129);height:20px;width:20px;margin-bottom:0px;display:inline-block;\"></div></div><div style=\"display:inline-block;padding:10px;\"><div>greens</div><div style=\"background-color:rgb(247,252,245);height:20px;width:20px;margin-bottom:0px;display:inline-block;\"></div><div style=\"background-color:rgb(229,245,224);height:20px;width:20px;margin-bottom:0px;display:inline-block;\"></div><div style=\"background-color:rgb(199,233,192);height:20px;width:20px;margin-bottom:0px;display:inline-block;\"></div><div style=\"background-color:rgb(161,217,155);height:20px;width:20px;margin-bottom:0px;display:inline-block;\"></div><div style=\"background-color:rgb(116,196,118);height:20px;width:20px;margin-bottom:0px;display:inline-block;\"></div><div style=\"background-color:rgb(65,171,93);height:20px;width:20px;margin-bottom:0px;display:inline-block;\"></div><div style=\"background-color:rgb(35,139,69);height:20px;width:20px;margin-bottom:0px;display:inline-block;\"></div><div style=\"background-color:rgb(0,109,44);height:20px;width:20px;margin-bottom:0px;display:inline-block;\"></div><div style=\"background-color:rgb(0,68,27);height:20px;width:20px;margin-bottom:0px;display:inline-block;\"></div></div><div style=\"display:inline-block;padding:10px;\"><div>greys</div><div style=\"background-color:rgb(255,255,255);height:20px;width:20px;margin-bottom:0px;display:inline-block;\"></div><div style=\"background-color:rgb(240,240,240);height:20px;width:20px;margin-bottom:0px;display:inline-block;\"></div><div style=\"background-color:rgb(217,217,217);height:20px;width:20px;margin-bottom:0px;display:inline-block;\"></div><div style=\"background-color:rgb(189,189,189);height:20px;width:20px;margin-bottom:0px;display:inline-block;\"></div><div style=\"background-color:rgb(150,150,150);height:20px;width:20px;margin-bottom:0px;display:inline-block;\"></div><div style=\"background-color:rgb(115,115,115);height:20px;width:20px;margin-bottom:0px;display:inline-block;\"></div><div style=\"background-color:rgb(82,82,82);height:20px;width:20px;margin-bottom:0px;display:inline-block;\"></div><div style=\"background-color:rgb(37,37,37);height:20px;width:20px;margin-bottom:0px;display:inline-block;\"></div><div style=\"background-color:rgb(0,0,0);height:20px;width:20px;margin-bottom:0px;display:inline-block;\"></div></div><div style=\"display:inline-block;padding:10px;\"><div>henanigans</div><div style=\"background-color:rgb(182, 236, 243);height:20px;width:20px;margin-bottom:0px;display:inline-block;\"></div><div style=\"background-color:rgb(222, 149, 142);height:20px;width:20px;margin-bottom:0px;display:inline-block;\"></div><div style=\"background-color:rgb(160, 209, 123);height:20px;width:20px;margin-bottom:0px;display:inline-block;\"></div><div style=\"background-color:rgb(147, 182, 230);height:20px;width:20px;margin-bottom:0px;display:inline-block;\"></div><div style=\"background-color:rgb(235, 180, 131);height:20px;width:20px;margin-bottom:0px;display:inline-block;\"></div><div style=\"background-color:rgb(172, 146, 222);height:20px;width:20px;margin-bottom:0px;display:inline-block;\"></div><div style=\"background-color:rgb(233, 234, 190);height:20px;width:20px;margin-bottom:0px;display:inline-block;\"></div><div style=\"background-color:rgb(244, 244, 244);height:20px;width:20px;margin-bottom:0px;display:inline-block;\"></div><div style=\"background-color:rgb(126, 196, 207);height:20px;width:20px;margin-bottom:0px;display:inline-block;\"></div><div style=\"background-color:rgb(247, 126, 112);height:20px;width:20px;margin-bottom:0px;display:inline-block;\"></div><div style=\"background-color:rgb(139, 209, 85);height:20px;width:20px;margin-bottom:0px;display:inline-block;\"></div><div style=\"background-color:rgb(95, 149, 222);height:20px;width:20px;margin-bottom:0px;display:inline-block;\"></div></div><div style=\"display:inline-block;padding:10px;\"><div>oranges</div><div style=\"background-color:rgb(255,245,235);height:20px;width:20px;margin-bottom:0px;display:inline-block;\"></div><div style=\"background-color:rgb(254,230,206);height:20px;width:20px;margin-bottom:0px;display:inline-block;\"></div><div style=\"background-color:rgb(253,208,162);height:20px;width:20px;margin-bottom:0px;display:inline-block;\"></div><div style=\"background-color:rgb(253,174,107);height:20px;width:20px;margin-bottom:0px;display:inline-block;\"></div><div style=\"background-color:rgb(253,141,60);height:20px;width:20px;margin-bottom:0px;display:inline-block;\"></div><div style=\"background-color:rgb(241,105,19);height:20px;width:20px;margin-bottom:0px;display:inline-block;\"></div><div style=\"background-color:rgb(217,72,1);height:20px;width:20px;margin-bottom:0px;display:inline-block;\"></div><div style=\"background-color:rgb(166,54,3);height:20px;width:20px;margin-bottom:0px;display:inline-block;\"></div><div style=\"background-color:rgb(127,39,4);height:20px;width:20px;margin-bottom:0px;display:inline-block;\"></div></div><div style=\"display:inline-block;padding:10px;\"><div>original</div><div style=\"background-color:rgb(255, 153, 51);height:20px;width:20px;margin-bottom:0px;display:inline-block;\"></div><div style=\"background-color:rgb(55, 128, 191);height:20px;width:20px;margin-bottom:0px;display:inline-block;\"></div><div style=\"background-color:rgb(50, 171, 96);height:20px;width:20px;margin-bottom:0px;display:inline-block;\"></div><div style=\"background-color:rgb(128, 0, 128);height:20px;width:20px;margin-bottom:0px;display:inline-block;\"></div><div style=\"background-color:rgb(219, 64, 82);height:20px;width:20px;margin-bottom:0px;display:inline-block;\"></div><div style=\"background-color:rgb(0, 128, 128);height:20px;width:20px;margin-bottom:0px;display:inline-block;\"></div><div style=\"background-color:rgb(255, 255, 51);height:20px;width:20px;margin-bottom:0px;display:inline-block;\"></div><div style=\"background-color:rgb(128, 128, 0);height:20px;width:20px;margin-bottom:0px;display:inline-block;\"></div><div style=\"background-color:rgb(251, 128, 114);height:20px;width:20px;margin-bottom:0px;display:inline-block;\"></div><div style=\"background-color:rgb(128, 177, 211);height:20px;width:20px;margin-bottom:0px;display:inline-block;\"></div></div><div style=\"display:inline-block;padding:10px;\"><div>orrd</div><div style=\"background-color:rgb(255,247,236);height:20px;width:20px;margin-bottom:0px;display:inline-block;\"></div><div style=\"background-color:rgb(254,232,200);height:20px;width:20px;margin-bottom:0px;display:inline-block;\"></div><div style=\"background-color:rgb(253,212,158);height:20px;width:20px;margin-bottom:0px;display:inline-block;\"></div><div style=\"background-color:rgb(253,187,132);height:20px;width:20px;margin-bottom:0px;display:inline-block;\"></div><div style=\"background-color:rgb(252,141,89);height:20px;width:20px;margin-bottom:0px;display:inline-block;\"></div><div style=\"background-color:rgb(239,101,72);height:20px;width:20px;margin-bottom:0px;display:inline-block;\"></div><div style=\"background-color:rgb(215,48,31);height:20px;width:20px;margin-bottom:0px;display:inline-block;\"></div><div style=\"background-color:rgb(179,0,0);height:20px;width:20px;margin-bottom:0px;display:inline-block;\"></div><div style=\"background-color:rgb(127,0,0);height:20px;width:20px;margin-bottom:0px;display:inline-block;\"></div></div><div style=\"display:inline-block;padding:10px;\"><div>paired</div><div style=\"background-color:rgb(166,206,227);height:20px;width:20px;margin-bottom:0px;display:inline-block;\"></div><div style=\"background-color:rgb(31,120,180);height:20px;width:20px;margin-bottom:0px;display:inline-block;\"></div><div style=\"background-color:rgb(178,223,138);height:20px;width:20px;margin-bottom:0px;display:inline-block;\"></div><div style=\"background-color:rgb(51,160,44);height:20px;width:20px;margin-bottom:0px;display:inline-block;\"></div><div style=\"background-color:rgb(251,154,153);height:20px;width:20px;margin-bottom:0px;display:inline-block;\"></div><div style=\"background-color:rgb(227,26,28);height:20px;width:20px;margin-bottom:0px;display:inline-block;\"></div><div style=\"background-color:rgb(253,191,111);height:20px;width:20px;margin-bottom:0px;display:inline-block;\"></div><div style=\"background-color:rgb(255,127,0);height:20px;width:20px;margin-bottom:0px;display:inline-block;\"></div><div style=\"background-color:rgb(202,178,214);height:20px;width:20px;margin-bottom:0px;display:inline-block;\"></div><div style=\"background-color:rgb(106,61,154);height:20px;width:20px;margin-bottom:0px;display:inline-block;\"></div><div style=\"background-color:rgb(255,255,153);height:20px;width:20px;margin-bottom:0px;display:inline-block;\"></div><div style=\"background-color:rgb(177,89,40);height:20px;width:20px;margin-bottom:0px;display:inline-block;\"></div></div><div style=\"display:inline-block;padding:10px;\"><div>pastel1</div><div style=\"background-color:rgb(251,180,174);height:20px;width:20px;margin-bottom:0px;display:inline-block;\"></div><div style=\"background-color:rgb(179,205,227);height:20px;width:20px;margin-bottom:0px;display:inline-block;\"></div><div style=\"background-color:rgb(204,235,197);height:20px;width:20px;margin-bottom:0px;display:inline-block;\"></div><div style=\"background-color:rgb(222,203,228);height:20px;width:20px;margin-bottom:0px;display:inline-block;\"></div><div style=\"background-color:rgb(254,217,166);height:20px;width:20px;margin-bottom:0px;display:inline-block;\"></div><div style=\"background-color:rgb(255,255,204);height:20px;width:20px;margin-bottom:0px;display:inline-block;\"></div><div style=\"background-color:rgb(229,216,189);height:20px;width:20px;margin-bottom:0px;display:inline-block;\"></div><div style=\"background-color:rgb(253,218,236);height:20px;width:20px;margin-bottom:0px;display:inline-block;\"></div><div style=\"background-color:rgb(242,242,242);height:20px;width:20px;margin-bottom:0px;display:inline-block;\"></div></div><div style=\"display:inline-block;padding:10px;\"><div>pastel2</div><div style=\"background-color:rgb(179,226,205);height:20px;width:20px;margin-bottom:0px;display:inline-block;\"></div><div style=\"background-color:rgb(253,205,172);height:20px;width:20px;margin-bottom:0px;display:inline-block;\"></div><div style=\"background-color:rgb(203,213,232);height:20px;width:20px;margin-bottom:0px;display:inline-block;\"></div><div style=\"background-color:rgb(244,202,228);height:20px;width:20px;margin-bottom:0px;display:inline-block;\"></div><div style=\"background-color:rgb(230,245,201);height:20px;width:20px;margin-bottom:0px;display:inline-block;\"></div><div style=\"background-color:rgb(255,242,174);height:20px;width:20px;margin-bottom:0px;display:inline-block;\"></div><div style=\"background-color:rgb(241,226,204);height:20px;width:20px;margin-bottom:0px;display:inline-block;\"></div><div style=\"background-color:rgb(204,204,204);height:20px;width:20px;margin-bottom:0px;display:inline-block;\"></div></div><div style=\"display:inline-block;padding:10px;\"><div>piyg</div><div style=\"background-color:rgb(142,1,82);height:20px;width:20px;margin-bottom:0px;display:inline-block;\"></div><div style=\"background-color:rgb(197,27,125);height:20px;width:20px;margin-bottom:0px;display:inline-block;\"></div><div style=\"background-color:rgb(222,119,174);height:20px;width:20px;margin-bottom:0px;display:inline-block;\"></div><div style=\"background-color:rgb(241,182,218);height:20px;width:20px;margin-bottom:0px;display:inline-block;\"></div><div style=\"background-color:rgb(253,224,239);height:20px;width:20px;margin-bottom:0px;display:inline-block;\"></div><div style=\"background-color:rgb(247,247,247);height:20px;width:20px;margin-bottom:0px;display:inline-block;\"></div><div style=\"background-color:rgb(230,245,208);height:20px;width:20px;margin-bottom:0px;display:inline-block;\"></div><div style=\"background-color:rgb(184,225,134);height:20px;width:20px;margin-bottom:0px;display:inline-block;\"></div><div style=\"background-color:rgb(127,188,65);height:20px;width:20px;margin-bottom:0px;display:inline-block;\"></div><div style=\"background-color:rgb(77,146,33);height:20px;width:20px;margin-bottom:0px;display:inline-block;\"></div><div style=\"background-color:rgb(39,100,25);height:20px;width:20px;margin-bottom:0px;display:inline-block;\"></div></div><div style=\"display:inline-block;padding:10px;\"><div>plotly</div><div style=\"background-color:rgb(31, 119, 180);height:20px;width:20px;margin-bottom:0px;display:inline-block;\"></div><div style=\"background-color:rgb(255, 127, 14);height:20px;width:20px;margin-bottom:0px;display:inline-block;\"></div><div style=\"background-color:rgb(44, 160, 44);height:20px;width:20px;margin-bottom:0px;display:inline-block;\"></div><div style=\"background-color:rgb(214, 39, 40);height:20px;width:20px;margin-bottom:0px;display:inline-block;\"></div><div style=\"background-color:rgb(148, 103, 189);height:20px;width:20px;margin-bottom:0px;display:inline-block;\"></div><div style=\"background-color:rgb(140, 86, 75);height:20px;width:20px;margin-bottom:0px;display:inline-block;\"></div><div style=\"background-color:rgb(227, 119, 194);height:20px;width:20px;margin-bottom:0px;display:inline-block;\"></div><div style=\"background-color:rgb(127, 127, 127);height:20px;width:20px;margin-bottom:0px;display:inline-block;\"></div><div style=\"background-color:rgb(188, 189, 34);height:20px;width:20px;margin-bottom:0px;display:inline-block;\"></div><div style=\"background-color:rgb(23, 190, 207);height:20px;width:20px;margin-bottom:0px;display:inline-block;\"></div></div><div style=\"display:inline-block;padding:10px;\"><div>polar</div><div style=\"background-color:rgb(0, 128, 240);height:20px;width:20px;margin-bottom:0px;display:inline-block;\"></div><div style=\"background-color:rgb(238, 118, 0);height:20px;width:20px;margin-bottom:0px;display:inline-block;\"></div><div style=\"background-color:rgb(48, 144, 84);height:20px;width:20px;margin-bottom:0px;display:inline-block;\"></div><div style=\"background-color:rgb(98, 98, 222);height:20px;width:20px;margin-bottom:0px;display:inline-block;\"></div><div style=\"background-color:rgb(217, 66, 85);height:20px;width:20px;margin-bottom:0px;display:inline-block;\"></div><div style=\"background-color:rgb(173, 252, 252);height:20px;width:20px;margin-bottom:0px;display:inline-block;\"></div><div style=\"background-color:rgb(70, 160, 240);height:20px;width:20px;margin-bottom:0px;display:inline-block;\"></div></div><div style=\"display:inline-block;padding:10px;\"><div>prgn</div><div style=\"background-color:rgb(64,0,75);height:20px;width:20px;margin-bottom:0px;display:inline-block;\"></div><div style=\"background-color:rgb(118,42,131);height:20px;width:20px;margin-bottom:0px;display:inline-block;\"></div><div style=\"background-color:rgb(153,112,171);height:20px;width:20px;margin-bottom:0px;display:inline-block;\"></div><div style=\"background-color:rgb(194,165,207);height:20px;width:20px;margin-bottom:0px;display:inline-block;\"></div><div style=\"background-color:rgb(231,212,232);height:20px;width:20px;margin-bottom:0px;display:inline-block;\"></div><div style=\"background-color:rgb(247,247,247);height:20px;width:20px;margin-bottom:0px;display:inline-block;\"></div><div style=\"background-color:rgb(217,240,211);height:20px;width:20px;margin-bottom:0px;display:inline-block;\"></div><div style=\"background-color:rgb(166,219,160);height:20px;width:20px;margin-bottom:0px;display:inline-block;\"></div><div style=\"background-color:rgb(90,174,97);height:20px;width:20px;margin-bottom:0px;display:inline-block;\"></div><div style=\"background-color:rgb(27,120,55);height:20px;width:20px;margin-bottom:0px;display:inline-block;\"></div><div style=\"background-color:rgb(0,68,27);height:20px;width:20px;margin-bottom:0px;display:inline-block;\"></div></div><div style=\"display:inline-block;padding:10px;\"><div>pubu</div><div style=\"background-color:rgb(255,247,251);height:20px;width:20px;margin-bottom:0px;display:inline-block;\"></div><div style=\"background-color:rgb(236,231,242);height:20px;width:20px;margin-bottom:0px;display:inline-block;\"></div><div style=\"background-color:rgb(208,209,230);height:20px;width:20px;margin-bottom:0px;display:inline-block;\"></div><div style=\"background-color:rgb(166,189,219);height:20px;width:20px;margin-bottom:0px;display:inline-block;\"></div><div style=\"background-color:rgb(116,169,207);height:20px;width:20px;margin-bottom:0px;display:inline-block;\"></div><div style=\"background-color:rgb(54,144,192);height:20px;width:20px;margin-bottom:0px;display:inline-block;\"></div><div style=\"background-color:rgb(5,112,176);height:20px;width:20px;margin-bottom:0px;display:inline-block;\"></div><div style=\"background-color:rgb(4,90,141);height:20px;width:20px;margin-bottom:0px;display:inline-block;\"></div><div style=\"background-color:rgb(2,56,88);height:20px;width:20px;margin-bottom:0px;display:inline-block;\"></div></div><div style=\"display:inline-block;padding:10px;\"><div>pubugn</div><div style=\"background-color:rgb(255,247,251);height:20px;width:20px;margin-bottom:0px;display:inline-block;\"></div><div style=\"background-color:rgb(236,226,240);height:20px;width:20px;margin-bottom:0px;display:inline-block;\"></div><div style=\"background-color:rgb(208,209,230);height:20px;width:20px;margin-bottom:0px;display:inline-block;\"></div><div style=\"background-color:rgb(166,189,219);height:20px;width:20px;margin-bottom:0px;display:inline-block;\"></div><div style=\"background-color:rgb(103,169,207);height:20px;width:20px;margin-bottom:0px;display:inline-block;\"></div><div style=\"background-color:rgb(54,144,192);height:20px;width:20px;margin-bottom:0px;display:inline-block;\"></div><div style=\"background-color:rgb(2,129,138);height:20px;width:20px;margin-bottom:0px;display:inline-block;\"></div><div style=\"background-color:rgb(1,108,89);height:20px;width:20px;margin-bottom:0px;display:inline-block;\"></div><div style=\"background-color:rgb(1,70,54);height:20px;width:20px;margin-bottom:0px;display:inline-block;\"></div></div><div style=\"display:inline-block;padding:10px;\"><div>puor</div><div style=\"background-color:rgb(127,59,8);height:20px;width:20px;margin-bottom:0px;display:inline-block;\"></div><div style=\"background-color:rgb(179,88,6);height:20px;width:20px;margin-bottom:0px;display:inline-block;\"></div><div style=\"background-color:rgb(224,130,20);height:20px;width:20px;margin-bottom:0px;display:inline-block;\"></div><div style=\"background-color:rgb(253,184,99);height:20px;width:20px;margin-bottom:0px;display:inline-block;\"></div><div style=\"background-color:rgb(254,224,182);height:20px;width:20px;margin-bottom:0px;display:inline-block;\"></div><div style=\"background-color:rgb(247,247,247);height:20px;width:20px;margin-bottom:0px;display:inline-block;\"></div><div style=\"background-color:rgb(216,218,235);height:20px;width:20px;margin-bottom:0px;display:inline-block;\"></div><div style=\"background-color:rgb(178,171,210);height:20px;width:20px;margin-bottom:0px;display:inline-block;\"></div><div style=\"background-color:rgb(128,115,172);height:20px;width:20px;margin-bottom:0px;display:inline-block;\"></div><div style=\"background-color:rgb(84,39,136);height:20px;width:20px;margin-bottom:0px;display:inline-block;\"></div><div style=\"background-color:rgb(45,0,75);height:20px;width:20px;margin-bottom:0px;display:inline-block;\"></div></div><div style=\"display:inline-block;padding:10px;\"><div>purd</div><div style=\"background-color:rgb(247,244,249);height:20px;width:20px;margin-bottom:0px;display:inline-block;\"></div><div style=\"background-color:rgb(231,225,239);height:20px;width:20px;margin-bottom:0px;display:inline-block;\"></div><div style=\"background-color:rgb(212,185,218);height:20px;width:20px;margin-bottom:0px;display:inline-block;\"></div><div style=\"background-color:rgb(201,148,199);height:20px;width:20px;margin-bottom:0px;display:inline-block;\"></div><div style=\"background-color:rgb(223,101,176);height:20px;width:20px;margin-bottom:0px;display:inline-block;\"></div><div style=\"background-color:rgb(231,41,138);height:20px;width:20px;margin-bottom:0px;display:inline-block;\"></div><div style=\"background-color:rgb(206,18,86);height:20px;width:20px;margin-bottom:0px;display:inline-block;\"></div><div style=\"background-color:rgb(152,0,67);height:20px;width:20px;margin-bottom:0px;display:inline-block;\"></div><div style=\"background-color:rgb(103,0,31);height:20px;width:20px;margin-bottom:0px;display:inline-block;\"></div></div><div style=\"display:inline-block;padding:10px;\"><div>purples</div><div style=\"background-color:rgb(252,251,253);height:20px;width:20px;margin-bottom:0px;display:inline-block;\"></div><div style=\"background-color:rgb(239,237,245);height:20px;width:20px;margin-bottom:0px;display:inline-block;\"></div><div style=\"background-color:rgb(218,218,235);height:20px;width:20px;margin-bottom:0px;display:inline-block;\"></div><div style=\"background-color:rgb(188,189,220);height:20px;width:20px;margin-bottom:0px;display:inline-block;\"></div><div style=\"background-color:rgb(158,154,200);height:20px;width:20px;margin-bottom:0px;display:inline-block;\"></div><div style=\"background-color:rgb(128,125,186);height:20px;width:20px;margin-bottom:0px;display:inline-block;\"></div><div style=\"background-color:rgb(106,81,163);height:20px;width:20px;margin-bottom:0px;display:inline-block;\"></div><div style=\"background-color:rgb(84,39,143);height:20px;width:20px;margin-bottom:0px;display:inline-block;\"></div><div style=\"background-color:rgb(63,0,125);height:20px;width:20px;margin-bottom:0px;display:inline-block;\"></div></div><div style=\"display:inline-block;padding:10px;\"><div>rdbu</div><div style=\"background-color:rgb(103,0,31);height:20px;width:20px;margin-bottom:0px;display:inline-block;\"></div><div style=\"background-color:rgb(178,24,43);height:20px;width:20px;margin-bottom:0px;display:inline-block;\"></div><div style=\"background-color:rgb(214,96,77);height:20px;width:20px;margin-bottom:0px;display:inline-block;\"></div><div style=\"background-color:rgb(244,165,130);height:20px;width:20px;margin-bottom:0px;display:inline-block;\"></div><div style=\"background-color:rgb(253,219,199);height:20px;width:20px;margin-bottom:0px;display:inline-block;\"></div><div style=\"background-color:rgb(247,247,247);height:20px;width:20px;margin-bottom:0px;display:inline-block;\"></div><div style=\"background-color:rgb(209,229,240);height:20px;width:20px;margin-bottom:0px;display:inline-block;\"></div><div style=\"background-color:rgb(146,197,222);height:20px;width:20px;margin-bottom:0px;display:inline-block;\"></div><div style=\"background-color:rgb(67,147,195);height:20px;width:20px;margin-bottom:0px;display:inline-block;\"></div><div style=\"background-color:rgb(33,102,172);height:20px;width:20px;margin-bottom:0px;display:inline-block;\"></div><div style=\"background-color:rgb(5,48,97);height:20px;width:20px;margin-bottom:0px;display:inline-block;\"></div></div><div style=\"display:inline-block;padding:10px;\"><div>rdgy</div><div style=\"background-color:rgb(103,0,31);height:20px;width:20px;margin-bottom:0px;display:inline-block;\"></div><div style=\"background-color:rgb(178,24,43);height:20px;width:20px;margin-bottom:0px;display:inline-block;\"></div><div style=\"background-color:rgb(214,96,77);height:20px;width:20px;margin-bottom:0px;display:inline-block;\"></div><div style=\"background-color:rgb(244,165,130);height:20px;width:20px;margin-bottom:0px;display:inline-block;\"></div><div style=\"background-color:rgb(253,219,199);height:20px;width:20px;margin-bottom:0px;display:inline-block;\"></div><div style=\"background-color:rgb(255,255,255);height:20px;width:20px;margin-bottom:0px;display:inline-block;\"></div><div style=\"background-color:rgb(224,224,224);height:20px;width:20px;margin-bottom:0px;display:inline-block;\"></div><div style=\"background-color:rgb(186,186,186);height:20px;width:20px;margin-bottom:0px;display:inline-block;\"></div><div style=\"background-color:rgb(135,135,135);height:20px;width:20px;margin-bottom:0px;display:inline-block;\"></div><div style=\"background-color:rgb(77,77,77);height:20px;width:20px;margin-bottom:0px;display:inline-block;\"></div><div style=\"background-color:rgb(26,26,26);height:20px;width:20px;margin-bottom:0px;display:inline-block;\"></div></div><div style=\"display:inline-block;padding:10px;\"><div>rdpu</div><div style=\"background-color:rgb(255,247,243);height:20px;width:20px;margin-bottom:0px;display:inline-block;\"></div><div style=\"background-color:rgb(253,224,221);height:20px;width:20px;margin-bottom:0px;display:inline-block;\"></div><div style=\"background-color:rgb(252,197,192);height:20px;width:20px;margin-bottom:0px;display:inline-block;\"></div><div style=\"background-color:rgb(250,159,181);height:20px;width:20px;margin-bottom:0px;display:inline-block;\"></div><div style=\"background-color:rgb(247,104,161);height:20px;width:20px;margin-bottom:0px;display:inline-block;\"></div><div style=\"background-color:rgb(221,52,151);height:20px;width:20px;margin-bottom:0px;display:inline-block;\"></div><div style=\"background-color:rgb(174,1,126);height:20px;width:20px;margin-bottom:0px;display:inline-block;\"></div><div style=\"background-color:rgb(122,1,119);height:20px;width:20px;margin-bottom:0px;display:inline-block;\"></div><div style=\"background-color:rgb(73,0,106);height:20px;width:20px;margin-bottom:0px;display:inline-block;\"></div></div><div style=\"display:inline-block;padding:10px;\"><div>rdylbu</div><div style=\"background-color:rgb(165,0,38);height:20px;width:20px;margin-bottom:0px;display:inline-block;\"></div><div style=\"background-color:rgb(215,48,39);height:20px;width:20px;margin-bottom:0px;display:inline-block;\"></div><div style=\"background-color:rgb(244,109,67);height:20px;width:20px;margin-bottom:0px;display:inline-block;\"></div><div style=\"background-color:rgb(253,174,97);height:20px;width:20px;margin-bottom:0px;display:inline-block;\"></div><div style=\"background-color:rgb(254,224,144);height:20px;width:20px;margin-bottom:0px;display:inline-block;\"></div><div style=\"background-color:rgb(255,255,191);height:20px;width:20px;margin-bottom:0px;display:inline-block;\"></div><div style=\"background-color:rgb(224,243,248);height:20px;width:20px;margin-bottom:0px;display:inline-block;\"></div><div style=\"background-color:rgb(171,217,233);height:20px;width:20px;margin-bottom:0px;display:inline-block;\"></div><div style=\"background-color:rgb(116,173,209);height:20px;width:20px;margin-bottom:0px;display:inline-block;\"></div><div style=\"background-color:rgb(69,117,180);height:20px;width:20px;margin-bottom:0px;display:inline-block;\"></div><div style=\"background-color:rgb(49,54,149);height:20px;width:20px;margin-bottom:0px;display:inline-block;\"></div></div><div style=\"display:inline-block;padding:10px;\"><div>rdylgn</div><div style=\"background-color:rgb(165,0,38);height:20px;width:20px;margin-bottom:0px;display:inline-block;\"></div><div style=\"background-color:rgb(215,48,39);height:20px;width:20px;margin-bottom:0px;display:inline-block;\"></div><div style=\"background-color:rgb(244,109,67);height:20px;width:20px;margin-bottom:0px;display:inline-block;\"></div><div style=\"background-color:rgb(253,174,97);height:20px;width:20px;margin-bottom:0px;display:inline-block;\"></div><div style=\"background-color:rgb(254,224,139);height:20px;width:20px;margin-bottom:0px;display:inline-block;\"></div><div style=\"background-color:rgb(255,255,191);height:20px;width:20px;margin-bottom:0px;display:inline-block;\"></div><div style=\"background-color:rgb(217,239,139);height:20px;width:20px;margin-bottom:0px;display:inline-block;\"></div><div style=\"background-color:rgb(166,217,106);height:20px;width:20px;margin-bottom:0px;display:inline-block;\"></div><div style=\"background-color:rgb(102,189,99);height:20px;width:20px;margin-bottom:0px;display:inline-block;\"></div><div style=\"background-color:rgb(26,152,80);height:20px;width:20px;margin-bottom:0px;display:inline-block;\"></div><div style=\"background-color:rgb(0,104,55);height:20px;width:20px;margin-bottom:0px;display:inline-block;\"></div></div><div style=\"display:inline-block;padding:10px;\"><div>reds</div><div style=\"background-color:rgb(255,245,240);height:20px;width:20px;margin-bottom:0px;display:inline-block;\"></div><div style=\"background-color:rgb(254,224,210);height:20px;width:20px;margin-bottom:0px;display:inline-block;\"></div><div style=\"background-color:rgb(252,187,161);height:20px;width:20px;margin-bottom:0px;display:inline-block;\"></div><div style=\"background-color:rgb(252,146,114);height:20px;width:20px;margin-bottom:0px;display:inline-block;\"></div><div style=\"background-color:rgb(251,106,74);height:20px;width:20px;margin-bottom:0px;display:inline-block;\"></div><div style=\"background-color:rgb(239,59,44);height:20px;width:20px;margin-bottom:0px;display:inline-block;\"></div><div style=\"background-color:rgb(203,24,29);height:20px;width:20px;margin-bottom:0px;display:inline-block;\"></div><div style=\"background-color:rgb(165,15,21);height:20px;width:20px;margin-bottom:0px;display:inline-block;\"></div><div style=\"background-color:rgb(103,0,13);height:20px;width:20px;margin-bottom:0px;display:inline-block;\"></div></div><div style=\"display:inline-block;padding:10px;\"><div>set1</div><div style=\"background-color:rgb(228,26,28);height:20px;width:20px;margin-bottom:0px;display:inline-block;\"></div><div style=\"background-color:rgb(55,126,184);height:20px;width:20px;margin-bottom:0px;display:inline-block;\"></div><div style=\"background-color:rgb(77,175,74);height:20px;width:20px;margin-bottom:0px;display:inline-block;\"></div><div style=\"background-color:rgb(152,78,163);height:20px;width:20px;margin-bottom:0px;display:inline-block;\"></div><div style=\"background-color:rgb(255,127,0);height:20px;width:20px;margin-bottom:0px;display:inline-block;\"></div><div style=\"background-color:rgb(255,255,51);height:20px;width:20px;margin-bottom:0px;display:inline-block;\"></div><div style=\"background-color:rgb(166,86,40);height:20px;width:20px;margin-bottom:0px;display:inline-block;\"></div><div style=\"background-color:rgb(247,129,191);height:20px;width:20px;margin-bottom:0px;display:inline-block;\"></div><div style=\"background-color:rgb(153,153,153);height:20px;width:20px;margin-bottom:0px;display:inline-block;\"></div></div><div style=\"display:inline-block;padding:10px;\"><div>set2</div><div style=\"background-color:rgb(102,194,165);height:20px;width:20px;margin-bottom:0px;display:inline-block;\"></div><div style=\"background-color:rgb(252,141,98);height:20px;width:20px;margin-bottom:0px;display:inline-block;\"></div><div style=\"background-color:rgb(141,160,203);height:20px;width:20px;margin-bottom:0px;display:inline-block;\"></div><div style=\"background-color:rgb(231,138,195);height:20px;width:20px;margin-bottom:0px;display:inline-block;\"></div><div style=\"background-color:rgb(166,216,84);height:20px;width:20px;margin-bottom:0px;display:inline-block;\"></div><div style=\"background-color:rgb(255,217,47);height:20px;width:20px;margin-bottom:0px;display:inline-block;\"></div><div style=\"background-color:rgb(229,196,148);height:20px;width:20px;margin-bottom:0px;display:inline-block;\"></div><div style=\"background-color:rgb(179,179,179);height:20px;width:20px;margin-bottom:0px;display:inline-block;\"></div></div><div style=\"display:inline-block;padding:10px;\"><div>set3</div><div style=\"background-color:rgb(141,211,199);height:20px;width:20px;margin-bottom:0px;display:inline-block;\"></div><div style=\"background-color:rgb(255,255,179);height:20px;width:20px;margin-bottom:0px;display:inline-block;\"></div><div style=\"background-color:rgb(190,186,218);height:20px;width:20px;margin-bottom:0px;display:inline-block;\"></div><div style=\"background-color:rgb(251,128,114);height:20px;width:20px;margin-bottom:0px;display:inline-block;\"></div><div style=\"background-color:rgb(128,177,211);height:20px;width:20px;margin-bottom:0px;display:inline-block;\"></div><div style=\"background-color:rgb(253,180,98);height:20px;width:20px;margin-bottom:0px;display:inline-block;\"></div><div style=\"background-color:rgb(179,222,105);height:20px;width:20px;margin-bottom:0px;display:inline-block;\"></div><div style=\"background-color:rgb(252,205,229);height:20px;width:20px;margin-bottom:0px;display:inline-block;\"></div><div style=\"background-color:rgb(217,217,217);height:20px;width:20px;margin-bottom:0px;display:inline-block;\"></div><div style=\"background-color:rgb(188,128,189);height:20px;width:20px;margin-bottom:0px;display:inline-block;\"></div><div style=\"background-color:rgb(204,235,197);height:20px;width:20px;margin-bottom:0px;display:inline-block;\"></div><div style=\"background-color:rgb(255,237,111);height:20px;width:20px;margin-bottom:0px;display:inline-block;\"></div></div><div style=\"display:inline-block;padding:10px;\"><div>spectral</div><div style=\"background-color:rgb(158,1,66);height:20px;width:20px;margin-bottom:0px;display:inline-block;\"></div><div style=\"background-color:rgb(213,62,79);height:20px;width:20px;margin-bottom:0px;display:inline-block;\"></div><div style=\"background-color:rgb(244,109,67);height:20px;width:20px;margin-bottom:0px;display:inline-block;\"></div><div style=\"background-color:rgb(253,174,97);height:20px;width:20px;margin-bottom:0px;display:inline-block;\"></div><div style=\"background-color:rgb(254,224,139);height:20px;width:20px;margin-bottom:0px;display:inline-block;\"></div><div style=\"background-color:rgb(255,255,191);height:20px;width:20px;margin-bottom:0px;display:inline-block;\"></div><div style=\"background-color:rgb(230,245,152);height:20px;width:20px;margin-bottom:0px;display:inline-block;\"></div><div style=\"background-color:rgb(171,221,164);height:20px;width:20px;margin-bottom:0px;display:inline-block;\"></div><div style=\"background-color:rgb(102,194,165);height:20px;width:20px;margin-bottom:0px;display:inline-block;\"></div><div style=\"background-color:rgb(50,136,189);height:20px;width:20px;margin-bottom:0px;display:inline-block;\"></div><div style=\"background-color:rgb(94,79,162);height:20px;width:20px;margin-bottom:0px;display:inline-block;\"></div></div><div style=\"display:inline-block;padding:10px;\"><div>ylgn</div><div style=\"background-color:rgb(255,255,229);height:20px;width:20px;margin-bottom:0px;display:inline-block;\"></div><div style=\"background-color:rgb(247,252,185);height:20px;width:20px;margin-bottom:0px;display:inline-block;\"></div><div style=\"background-color:rgb(217,240,163);height:20px;width:20px;margin-bottom:0px;display:inline-block;\"></div><div style=\"background-color:rgb(173,221,142);height:20px;width:20px;margin-bottom:0px;display:inline-block;\"></div><div style=\"background-color:rgb(120,198,121);height:20px;width:20px;margin-bottom:0px;display:inline-block;\"></div><div style=\"background-color:rgb(65,171,93);height:20px;width:20px;margin-bottom:0px;display:inline-block;\"></div><div style=\"background-color:rgb(35,132,67);height:20px;width:20px;margin-bottom:0px;display:inline-block;\"></div><div style=\"background-color:rgb(0,104,55);height:20px;width:20px;margin-bottom:0px;display:inline-block;\"></div><div style=\"background-color:rgb(0,69,41);height:20px;width:20px;margin-bottom:0px;display:inline-block;\"></div></div><div style=\"display:inline-block;padding:10px;\"><div>ylgnbu</div><div style=\"background-color:rgb(255,255,217);height:20px;width:20px;margin-bottom:0px;display:inline-block;\"></div><div style=\"background-color:rgb(237,248,177);height:20px;width:20px;margin-bottom:0px;display:inline-block;\"></div><div style=\"background-color:rgb(199,233,180);height:20px;width:20px;margin-bottom:0px;display:inline-block;\"></div><div style=\"background-color:rgb(127,205,187);height:20px;width:20px;margin-bottom:0px;display:inline-block;\"></div><div style=\"background-color:rgb(65,182,196);height:20px;width:20px;margin-bottom:0px;display:inline-block;\"></div><div style=\"background-color:rgb(29,145,192);height:20px;width:20px;margin-bottom:0px;display:inline-block;\"></div><div style=\"background-color:rgb(34,94,168);height:20px;width:20px;margin-bottom:0px;display:inline-block;\"></div><div style=\"background-color:rgb(37,52,148);height:20px;width:20px;margin-bottom:0px;display:inline-block;\"></div><div style=\"background-color:rgb(8,29,88);height:20px;width:20px;margin-bottom:0px;display:inline-block;\"></div></div><div style=\"display:inline-block;padding:10px;\"><div>ylorbr</div><div style=\"background-color:rgb(255,255,229);height:20px;width:20px;margin-bottom:0px;display:inline-block;\"></div><div style=\"background-color:rgb(255,247,188);height:20px;width:20px;margin-bottom:0px;display:inline-block;\"></div><div style=\"background-color:rgb(254,227,145);height:20px;width:20px;margin-bottom:0px;display:inline-block;\"></div><div style=\"background-color:rgb(254,196,79);height:20px;width:20px;margin-bottom:0px;display:inline-block;\"></div><div style=\"background-color:rgb(254,153,41);height:20px;width:20px;margin-bottom:0px;display:inline-block;\"></div><div style=\"background-color:rgb(236,112,20);height:20px;width:20px;margin-bottom:0px;display:inline-block;\"></div><div style=\"background-color:rgb(204,76,2);height:20px;width:20px;margin-bottom:0px;display:inline-block;\"></div><div style=\"background-color:rgb(153,52,4);height:20px;width:20px;margin-bottom:0px;display:inline-block;\"></div><div style=\"background-color:rgb(102,37,6);height:20px;width:20px;margin-bottom:0px;display:inline-block;\"></div></div><div style=\"display:inline-block;padding:10px;\"><div>ylorrd</div><div style=\"background-color:rgb(255,255,204);height:20px;width:20px;margin-bottom:0px;display:inline-block;\"></div><div style=\"background-color:rgb(255,237,160);height:20px;width:20px;margin-bottom:0px;display:inline-block;\"></div><div style=\"background-color:rgb(254,217,118);height:20px;width:20px;margin-bottom:0px;display:inline-block;\"></div><div style=\"background-color:rgb(254,178,76);height:20px;width:20px;margin-bottom:0px;display:inline-block;\"></div><div style=\"background-color:rgb(253,141,60);height:20px;width:20px;margin-bottom:0px;display:inline-block;\"></div><div style=\"background-color:rgb(252,78,42);height:20px;width:20px;margin-bottom:0px;display:inline-block;\"></div><div style=\"background-color:rgb(227,26,28);height:20px;width:20px;margin-bottom:0px;display:inline-block;\"></div><div style=\"background-color:rgb(189,0,38);height:20px;width:20px;margin-bottom:0px;display:inline-block;\"></div><div style=\"background-color:rgb(128,0,38);height:20px;width:20px;margin-bottom:0px;display:inline-block;\"></div></div>"
      ],
      "text/plain": [
       "<IPython.core.display.HTML object>"
      ]
     },
     "metadata": {},
     "output_type": "display_data"
    }
   ],
   "source": [
    "cf.colors.scales()"
   ]
  },
  {
   "cell_type": "code",
   "execution_count": 94,
   "id": "de7923ce",
   "metadata": {},
   "outputs": [
    {
     "data": {
      "text/plain": [
       "['ggplot', 'pearl', 'solar', 'space', 'white', 'polar', 'henanigans']"
      ]
     },
     "execution_count": 94,
     "metadata": {},
     "output_type": "execute_result"
    }
   ],
   "source": [
    "cf.getThemes()"
   ]
  },
  {
   "cell_type": "code",
   "execution_count": 23,
   "id": "f82057ed",
   "metadata": {},
   "outputs": [
    {
     "data": {
      "application/vnd.plotly.v1+json": {
       "config": {
        "linkText": "Export to plot.ly",
        "plotlyServerURL": "https://plot.ly",
        "showLink": true
       },
       "data": [
        {
         "line": {
          "color": "rgba(255, 153, 51, 1.0)",
          "dash": "solid",
          "shape": "linear",
          "width": 2
         },
         "mode": "lines",
         "name": "ADH",
         "text": "",
         "type": "scatter",
         "x": [
          "2021-02-01",
          "2021-02-02",
          "2021-02-03",
          "2021-02-04",
          "2021-02-07",
          "2021-02-08",
          "2021-02-09",
          "2021-02-10",
          "2021-02-11",
          "2021-02-14",
          "2021-02-15",
          "2021-02-16",
          "2021-02-17",
          "2021-02-18",
          "2021-02-21",
          "2021-02-22",
          "2021-02-23",
          "2021-02-24",
          "2021-02-25",
          "2021-02-28",
          "2021-03-01",
          "2021-03-02",
          "2021-03-03",
          "2021-03-04",
          "2021-03-07",
          "2021-03-08",
          "2021-03-09",
          "2021-03-10",
          "2021-03-11",
          "2021-03-14",
          "2021-03-15",
          "2021-03-16",
          "2021-03-17",
          "2021-03-18",
          "2021-03-21",
          "2021-03-22",
          "2021-03-23",
          "2021-03-24",
          "2021-03-25",
          "2021-03-28",
          "2021-03-29",
          "2021-03-30",
          "2021-03-31",
          "2021-04-01",
          "2021-04-04",
          "2021-04-05",
          "2021-04-06",
          "2021-04-07",
          "2021-04-08",
          "2021-04-11",
          "2021-04-12",
          "2021-04-13",
          "2021-04-14",
          "2021-04-15",
          "2021-04-18",
          "2021-04-19",
          "2021-04-20",
          "2021-04-21",
          "2021-04-22",
          "2021-04-25",
          "2021-04-26",
          "2021-04-27",
          "2021-04-28",
          "2021-04-29",
          "2021-05-02",
          "2021-05-03",
          "2021-05-04",
          "2021-05-05",
          "2021-05-06",
          "2021-05-09",
          "2021-05-10",
          "2021-05-16",
          "2021-05-17",
          "2021-05-18",
          "2021-05-19",
          "2021-05-20",
          "2021-05-23",
          "2021-05-24",
          "2021-05-25",
          "2021-05-26",
          "2021-05-27",
          "2021-05-30",
          "2021-05-31",
          "2021-06-01",
          "2021-06-02",
          "2021-06-03",
          "2021-06-06",
          "2021-06-07",
          "2021-06-08",
          "2021-06-09",
          "2021-06-10",
          "2021-06-13",
          "2021-06-14",
          "2021-06-15",
          "2021-06-16",
          "2021-06-17",
          "2021-06-20",
          "2021-06-21",
          "2021-06-22",
          "2021-06-23",
          "2021-06-24",
          "2021-06-27",
          "2021-06-28",
          "2021-06-29",
          "2021-06-30",
          "2021-07-01",
          "2021-07-04",
          "2021-07-05",
          "2021-07-06",
          "2021-07-07",
          "2021-07-08",
          "2021-07-11",
          "2021-07-12",
          "2021-07-13",
          "2021-07-14",
          "2021-07-15",
          "2021-07-18",
          "2021-07-25",
          "2021-07-26",
          "2021-07-27",
          "2021-07-28",
          "2021-07-29",
          "2021-08-01"
         ],
         "y": [
          "",
          "",
          "",
          "",
          "",
          "",
          "",
          "",
          "",
          "",
          "",
          "",
          "",
          "",
          "",
          "",
          "",
          "",
          "",
          "",
          "",
          "",
          "",
          "",
          "",
          "",
          "",
          "",
          "",
          "",
          "",
          "",
          "",
          "",
          "",
          "",
          "",
          "",
          "",
          "",
          "",
          "",
          "",
          "",
          "",
          "",
          "",
          "",
          "",
          "",
          "",
          "",
          "",
          "",
          "",
          "",
          "",
          "",
          "",
          "",
          "",
          "",
          "",
          "",
          "",
          "",
          "",
          "",
          "",
          "",
          "",
          "",
          "",
          "",
          "",
          "",
          "",
          "",
          "",
          "",
          "",
          "",
          "",
          "",
          "",
          "",
          "",
          "",
          "",
          "",
          "",
          "",
          "",
          "",
          "",
          "",
          "",
          "",
          "",
          "",
          "",
          15,
          16.9,
          16.9,
          16.96,
          17.46,
          18.88,
          20.98,
          20.76,
          20.6,
          20.66,
          22.5,
          22.88,
          22.58,
          23.6,
          24.2,
          24.62,
          25.5,
          25.7,
          26.48,
          28.72,
          29.1,
          29.22
         ]
        },
        {
         "line": {
          "color": "rgba(55, 128, 191, 1.0)",
          "dash": "solid",
          "shape": "linear",
          "width": 2
         },
         "mode": "lines",
         "name": "IHC",
         "text": "",
         "type": "scatter",
         "x": [
          "2021-02-01",
          "2021-02-02",
          "2021-02-03",
          "2021-02-04",
          "2021-02-07",
          "2021-02-08",
          "2021-02-09",
          "2021-02-10",
          "2021-02-11",
          "2021-02-14",
          "2021-02-15",
          "2021-02-16",
          "2021-02-17",
          "2021-02-18",
          "2021-02-21",
          "2021-02-22",
          "2021-02-23",
          "2021-02-24",
          "2021-02-25",
          "2021-02-28",
          "2021-03-01",
          "2021-03-02",
          "2021-03-03",
          "2021-03-04",
          "2021-03-07",
          "2021-03-08",
          "2021-03-09",
          "2021-03-10",
          "2021-03-11",
          "2021-03-14",
          "2021-03-15",
          "2021-03-16",
          "2021-03-17",
          "2021-03-18",
          "2021-03-21",
          "2021-03-22",
          "2021-03-23",
          "2021-03-24",
          "2021-03-25",
          "2021-03-28",
          "2021-03-29",
          "2021-03-30",
          "2021-03-31",
          "2021-04-01",
          "2021-04-04",
          "2021-04-05",
          "2021-04-06",
          "2021-04-07",
          "2021-04-08",
          "2021-04-11",
          "2021-04-12",
          "2021-04-13",
          "2021-04-14",
          "2021-04-15",
          "2021-04-18",
          "2021-04-19",
          "2021-04-20",
          "2021-04-21",
          "2021-04-22",
          "2021-04-25",
          "2021-04-26",
          "2021-04-27",
          "2021-04-28",
          "2021-04-29",
          "2021-05-02",
          "2021-05-03",
          "2021-05-04",
          "2021-05-05",
          "2021-05-06",
          "2021-05-09",
          "2021-05-10",
          "2021-05-16",
          "2021-05-17",
          "2021-05-18",
          "2021-05-19",
          "2021-05-20",
          "2021-05-23",
          "2021-05-24",
          "2021-05-25",
          "2021-05-26",
          "2021-05-27",
          "2021-05-30",
          "2021-05-31",
          "2021-06-01",
          "2021-06-02",
          "2021-06-03",
          "2021-06-06",
          "2021-06-07",
          "2021-06-08",
          "2021-06-09",
          "2021-06-10",
          "2021-06-13",
          "2021-06-14",
          "2021-06-15",
          "2021-06-16",
          "2021-06-17",
          "2021-06-20",
          "2021-06-21",
          "2021-06-22",
          "2021-06-23",
          "2021-06-24",
          "2021-06-27",
          "2021-06-28",
          "2021-06-29",
          "2021-06-30",
          "2021-07-01",
          "2021-07-04",
          "2021-07-05",
          "2021-07-06",
          "2021-07-07",
          "2021-07-08",
          "2021-07-11",
          "2021-07-12",
          "2021-07-13",
          "2021-07-14",
          "2021-07-15",
          "2021-07-18",
          "2021-07-25",
          "2021-07-26",
          "2021-07-27",
          "2021-07-28",
          "2021-07-29",
          "2021-08-01"
         ],
         "y": [
          46,
          46.04,
          46.06,
          46.08,
          46.1,
          46.5,
          46.5,
          46.5,
          46.5,
          46.5,
          46.5,
          46.5,
          46.5,
          46.8,
          46.8,
          46.8,
          46.8,
          46.8,
          46.9,
          46.9,
          46.9,
          47.5,
          48,
          48,
          48,
          48,
          48,
          49,
          49,
          49,
          49,
          49.5,
          49.5,
          50.05,
          50,
          50,
          50.6,
          50.75,
          52,
          59.55,
          61.5,
          63.1,
          63.8,
          64.8,
          66.4,
          74.9,
          84.5,
          86.15,
          87.5,
          87.2,
          86.85,
          86.5,
          86.5,
          90,
          90.2,
          89.5,
          92.9,
          91.5,
          91.5,
          91,
          91,
          91,
          91,
          90.7,
          90.9,
          91,
          91,
          91,
          94,
          97.4,
          97.5,
          95,
          95.5,
          95.4,
          94,
          94,
          94.2,
          94,
          94,
          94.5,
          94.2,
          95,
          95,
          95.1,
          95.5,
          95.95,
          96.2,
          96.75,
          96.25,
          97,
          97.4,
          96.6,
          97,
          97.2,
          96.6,
          96.3,
          96.4,
          96.35,
          97.1,
          97.15,
          96.35,
          110.8,
          114.6,
          115,
          119,
          123,
          124.5,
          125,
          126,
          126.3,
          126.3,
          126.3,
          126.3,
          126.5,
          128.9,
          128,
          128.1,
          128.1,
          131.8,
          131,
          132,
          132.6,
          131.9
         ]
        },
        {
         "line": {
          "color": "rgba(50, 171, 96, 1.0)",
          "dash": "solid",
          "shape": "linear",
          "width": 2
         },
         "mode": "lines",
         "name": "ETISALAT",
         "text": "",
         "type": "scatter",
         "x": [
          "2021-02-01",
          "2021-02-02",
          "2021-02-03",
          "2021-02-04",
          "2021-02-07",
          "2021-02-08",
          "2021-02-09",
          "2021-02-10",
          "2021-02-11",
          "2021-02-14",
          "2021-02-15",
          "2021-02-16",
          "2021-02-17",
          "2021-02-18",
          "2021-02-21",
          "2021-02-22",
          "2021-02-23",
          "2021-02-24",
          "2021-02-25",
          "2021-02-28",
          "2021-03-01",
          "2021-03-02",
          "2021-03-03",
          "2021-03-04",
          "2021-03-07",
          "2021-03-08",
          "2021-03-09",
          "2021-03-10",
          "2021-03-11",
          "2021-03-14",
          "2021-03-15",
          "2021-03-16",
          "2021-03-17",
          "2021-03-18",
          "2021-03-21",
          "2021-03-22",
          "2021-03-23",
          "2021-03-24",
          "2021-03-25",
          "2021-03-28",
          "2021-03-29",
          "2021-03-30",
          "2021-03-31",
          "2021-04-01",
          "2021-04-04",
          "2021-04-05",
          "2021-04-06",
          "2021-04-07",
          "2021-04-08",
          "2021-04-11",
          "2021-04-12",
          "2021-04-13",
          "2021-04-14",
          "2021-04-15",
          "2021-04-18",
          "2021-04-19",
          "2021-04-20",
          "2021-04-21",
          "2021-04-22",
          "2021-04-25",
          "2021-04-26",
          "2021-04-27",
          "2021-04-28",
          "2021-04-29",
          "2021-05-02",
          "2021-05-03",
          "2021-05-04",
          "2021-05-05",
          "2021-05-06",
          "2021-05-09",
          "2021-05-10",
          "2021-05-16",
          "2021-05-17",
          "2021-05-18",
          "2021-05-19",
          "2021-05-20",
          "2021-05-23",
          "2021-05-24",
          "2021-05-25",
          "2021-05-26",
          "2021-05-27",
          "2021-05-30",
          "2021-05-31",
          "2021-06-01",
          "2021-06-02",
          "2021-06-03",
          "2021-06-06",
          "2021-06-07",
          "2021-06-08",
          "2021-06-09",
          "2021-06-10",
          "2021-06-13",
          "2021-06-14",
          "2021-06-15",
          "2021-06-16",
          "2021-06-17",
          "2021-06-20",
          "2021-06-21",
          "2021-06-22",
          "2021-06-23",
          "2021-06-24",
          "2021-06-27",
          "2021-06-28",
          "2021-06-29",
          "2021-06-30",
          "2021-07-01",
          "2021-07-04",
          "2021-07-05",
          "2021-07-06",
          "2021-07-07",
          "2021-07-08",
          "2021-07-11",
          "2021-07-12",
          "2021-07-13",
          "2021-07-14",
          "2021-07-15",
          "2021-07-18",
          "2021-07-25",
          "2021-07-26",
          "2021-07-27",
          "2021-07-28",
          "2021-07-29",
          "2021-08-01"
         ],
         "y": [
          19.88,
          19.98,
          19.8,
          19.82,
          19.88,
          19.82,
          19.9,
          19.8,
          19.88,
          19.92,
          19.9,
          19.9,
          19.74,
          19.74,
          19.9,
          19.76,
          19.94,
          19.88,
          19.9,
          20.34,
          20.36,
          20.32,
          20.36,
          20.16,
          20.16,
          20.3,
          20.32,
          20.48,
          20.54,
          20.56,
          20.64,
          20.94,
          21.14,
          20.9,
          20.92,
          21,
          21,
          21.38,
          20.8,
          20.5,
          21,
          21.6,
          21.64,
          22.06,
          22.1,
          22,
          21.94,
          21.6,
          21.6,
          21.76,
          21.9,
          21.78,
          21.78,
          21.9,
          21.92,
          21.64,
          21.72,
          21.24,
          21.36,
          21.58,
          21.72,
          21.44,
          21.3,
          21.18,
          21.38,
          21.5,
          21.4,
          21.3,
          21.46,
          21.56,
          21.56,
          21.88,
          21.88,
          22.14,
          21.96,
          22.04,
          22.04,
          22,
          22.16,
          21.92,
          21.64,
          21.8,
          21.66,
          21.88,
          21.92,
          21.74,
          21.9,
          22,
          22.1,
          22.12,
          22.04,
          22.14,
          22.2,
          22.2,
          22.14,
          22.18,
          22.06,
          22.18,
          22.22,
          22.1,
          22.2,
          22.22,
          22.2,
          22.14,
          22,
          22.2,
          22.26,
          22.28,
          22.2,
          22.08,
          22.24,
          22.04,
          22.3,
          22.58,
          22.5,
          22.48,
          22.3,
          22.46,
          22.7,
          22.7,
          22.8,
          22.8,
          24.06
         ]
        },
        {
         "line": {
          "color": "rgba(128, 0, 128, 1.0)",
          "dash": "solid",
          "shape": "linear",
          "width": 2
         },
         "mode": "lines",
         "name": "FAB",
         "text": "",
         "type": "scatter",
         "x": [
          "2021-02-01",
          "2021-02-02",
          "2021-02-03",
          "2021-02-04",
          "2021-02-07",
          "2021-02-08",
          "2021-02-09",
          "2021-02-10",
          "2021-02-11",
          "2021-02-14",
          "2021-02-15",
          "2021-02-16",
          "2021-02-17",
          "2021-02-18",
          "2021-02-21",
          "2021-02-22",
          "2021-02-23",
          "2021-02-24",
          "2021-02-25",
          "2021-02-28",
          "2021-03-01",
          "2021-03-02",
          "2021-03-03",
          "2021-03-04",
          "2021-03-07",
          "2021-03-08",
          "2021-03-09",
          "2021-03-10",
          "2021-03-11",
          "2021-03-14",
          "2021-03-15",
          "2021-03-16",
          "2021-03-17",
          "2021-03-18",
          "2021-03-21",
          "2021-03-22",
          "2021-03-23",
          "2021-03-24",
          "2021-03-25",
          "2021-03-28",
          "2021-03-29",
          "2021-03-30",
          "2021-03-31",
          "2021-04-01",
          "2021-04-04",
          "2021-04-05",
          "2021-04-06",
          "2021-04-07",
          "2021-04-08",
          "2021-04-11",
          "2021-04-12",
          "2021-04-13",
          "2021-04-14",
          "2021-04-15",
          "2021-04-18",
          "2021-04-19",
          "2021-04-20",
          "2021-04-21",
          "2021-04-22",
          "2021-04-25",
          "2021-04-26",
          "2021-04-27",
          "2021-04-28",
          "2021-04-29",
          "2021-05-02",
          "2021-05-03",
          "2021-05-04",
          "2021-05-05",
          "2021-05-06",
          "2021-05-09",
          "2021-05-10",
          "2021-05-16",
          "2021-05-17",
          "2021-05-18",
          "2021-05-19",
          "2021-05-20",
          "2021-05-23",
          "2021-05-24",
          "2021-05-25",
          "2021-05-26",
          "2021-05-27",
          "2021-05-30",
          "2021-05-31",
          "2021-06-01",
          "2021-06-02",
          "2021-06-03",
          "2021-06-06",
          "2021-06-07",
          "2021-06-08",
          "2021-06-09",
          "2021-06-10",
          "2021-06-13",
          "2021-06-14",
          "2021-06-15",
          "2021-06-16",
          "2021-06-17",
          "2021-06-20",
          "2021-06-21",
          "2021-06-22",
          "2021-06-23",
          "2021-06-24",
          "2021-06-27",
          "2021-06-28",
          "2021-06-29",
          "2021-06-30",
          "2021-07-01",
          "2021-07-04",
          "2021-07-05",
          "2021-07-06",
          "2021-07-07",
          "2021-07-08",
          "2021-07-11",
          "2021-07-12",
          "2021-07-13",
          "2021-07-14",
          "2021-07-15",
          "2021-07-18",
          "2021-07-25",
          "2021-07-26",
          "2021-07-27",
          "2021-07-28",
          "2021-07-29",
          "2021-08-01"
         ],
         "y": [
          14.88,
          15.06,
          14.92,
          14.88,
          14.9,
          14.86,
          14.98,
          15,
          14.98,
          14.9,
          14.8,
          14.94,
          14.9,
          14.9,
          14.96,
          15.06,
          15,
          14.84,
          14.7,
          14.7,
          14.66,
          14.92,
          14.82,
          14.92,
          14.9,
          14.92,
          14.2,
          14.22,
          14.34,
          14.48,
          14.6,
          14.7,
          14.68,
          14.7,
          14.62,
          14.64,
          14.6,
          14.56,
          14.58,
          14.4,
          14.42,
          14.6,
          14.6,
          14.6,
          14.56,
          14.54,
          14.48,
          14.26,
          14.38,
          14.4,
          14.48,
          14.16,
          14.26,
          14.56,
          14.46,
          14.46,
          14.56,
          14.26,
          14.46,
          14.5,
          14.6,
          14.56,
          14.38,
          14.24,
          14.36,
          14.38,
          14.58,
          14.58,
          14.54,
          14.7,
          14.58,
          16.06,
          16.26,
          16.48,
          16.6,
          16.42,
          16.52,
          17,
          16.9,
          16.46,
          16.58,
          16.34,
          16.86,
          16.9,
          16.98,
          16.92,
          16.86,
          16.9,
          16.9,
          16.92,
          16.94,
          16.76,
          16.88,
          16.9,
          16.9,
          16.56,
          16.62,
          16.42,
          16.58,
          16.6,
          16.26,
          16.2,
          16.3,
          16.38,
          16.7,
          16.78,
          16.76,
          16.68,
          16.6,
          16.52,
          16.36,
          16.28,
          16.34,
          16.38,
          16.4,
          16.3,
          16.3,
          16.32,
          16.3,
          16.26,
          16.26,
          16.58,
          16.56
         ]
        },
        {
         "line": {
          "color": "rgba(219, 64, 82, 1.0)",
          "dash": "solid",
          "shape": "linear",
          "width": 2
         },
         "mode": "lines",
         "name": "TAQA",
         "text": "",
         "type": "scatter",
         "x": [
          "2021-02-01",
          "2021-02-02",
          "2021-02-03",
          "2021-02-04",
          "2021-02-07",
          "2021-02-08",
          "2021-02-09",
          "2021-02-10",
          "2021-02-11",
          "2021-02-14",
          "2021-02-15",
          "2021-02-16",
          "2021-02-17",
          "2021-02-18",
          "2021-02-21",
          "2021-02-22",
          "2021-02-23",
          "2021-02-24",
          "2021-02-25",
          "2021-02-28",
          "2021-03-01",
          "2021-03-02",
          "2021-03-03",
          "2021-03-04",
          "2021-03-07",
          "2021-03-08",
          "2021-03-09",
          "2021-03-10",
          "2021-03-11",
          "2021-03-14",
          "2021-03-15",
          "2021-03-16",
          "2021-03-17",
          "2021-03-18",
          "2021-03-21",
          "2021-03-22",
          "2021-03-23",
          "2021-03-24",
          "2021-03-25",
          "2021-03-28",
          "2021-03-29",
          "2021-03-30",
          "2021-03-31",
          "2021-04-01",
          "2021-04-04",
          "2021-04-05",
          "2021-04-06",
          "2021-04-07",
          "2021-04-08",
          "2021-04-11",
          "2021-04-12",
          "2021-04-13",
          "2021-04-14",
          "2021-04-15",
          "2021-04-18",
          "2021-04-19",
          "2021-04-20",
          "2021-04-21",
          "2021-04-22",
          "2021-04-25",
          "2021-04-26",
          "2021-04-27",
          "2021-04-28",
          "2021-04-29",
          "2021-05-02",
          "2021-05-03",
          "2021-05-04",
          "2021-05-05",
          "2021-05-06",
          "2021-05-09",
          "2021-05-10",
          "2021-05-16",
          "2021-05-17",
          "2021-05-18",
          "2021-05-19",
          "2021-05-20",
          "2021-05-23",
          "2021-05-24",
          "2021-05-25",
          "2021-05-26",
          "2021-05-27",
          "2021-05-30",
          "2021-05-31",
          "2021-06-01",
          "2021-06-02",
          "2021-06-03",
          "2021-06-06",
          "2021-06-07",
          "2021-06-08",
          "2021-06-09",
          "2021-06-10",
          "2021-06-13",
          "2021-06-14",
          "2021-06-15",
          "2021-06-16",
          "2021-06-17",
          "2021-06-20",
          "2021-06-21",
          "2021-06-22",
          "2021-06-23",
          "2021-06-24",
          "2021-06-27",
          "2021-06-28",
          "2021-06-29",
          "2021-06-30",
          "2021-07-01",
          "2021-07-04",
          "2021-07-05",
          "2021-07-06",
          "2021-07-07",
          "2021-07-08",
          "2021-07-11",
          "2021-07-12",
          "2021-07-13",
          "2021-07-14",
          "2021-07-15",
          "2021-07-18",
          "2021-07-25",
          "2021-07-26",
          "2021-07-27",
          "2021-07-28",
          "2021-07-29",
          "2021-08-01"
         ],
         "y": [
          1.45,
          1.47,
          1.46,
          1.46,
          1.44,
          1.43,
          1.43,
          1.43,
          1.44,
          1.44,
          1.43,
          1.43,
          1.39,
          1.39,
          1.35,
          1.4,
          1.38,
          1.39,
          1.4,
          1.39,
          1.39,
          1.39,
          1.39,
          1.4,
          1.4,
          1.38,
          1.37,
          1.39,
          1.38,
          1.37,
          1.38,
          1.39,
          1.39,
          1.38,
          1.38,
          1.39,
          1.38,
          1.38,
          1.38,
          1.36,
          1.37,
          1.41,
          1.4,
          1.39,
          1.39,
          1.38,
          1.36,
          1.36,
          1.36,
          1.38,
          1.37,
          1.39,
          1.37,
          1.37,
          1.38,
          1.38,
          1.37,
          1.39,
          1.39,
          1.38,
          1.37,
          1.37,
          1.38,
          1.36,
          1.36,
          1.36,
          1.37,
          1.38,
          1.37,
          1.38,
          1.36,
          1.36,
          1.39,
          1.41,
          1.39,
          1.39,
          1.4,
          1.39,
          1.37,
          1.38,
          1.36,
          1.36,
          1.35,
          1.36,
          1.37,
          1.35,
          1.34,
          1.35,
          1.35,
          1.37,
          1.43,
          1.41,
          1.42,
          1.42,
          1.4,
          1.41,
          1.4,
          1.4,
          1.4,
          1.4,
          1.39,
          1.38,
          1.38,
          1.37,
          1.39,
          1.37,
          1.38,
          1.37,
          1.35,
          1.36,
          1.37,
          1.37,
          1.35,
          1.37,
          1.36,
          1.36,
          1.36,
          1.34,
          1.34,
          1.33,
          1.29,
          1.3,
          1.28
         ]
        }
       ],
       "layout": {
        "legend": {
         "bgcolor": "#FFFFFF",
         "font": {
          "color": "#666666"
         }
        },
        "paper_bgcolor": "#FFFFFF",
        "plot_bgcolor": "#E5E5E5",
        "template": {
         "data": {
          "bar": [
           {
            "error_x": {
             "color": "#2a3f5f"
            },
            "error_y": {
             "color": "#2a3f5f"
            },
            "marker": {
             "line": {
              "color": "#E5ECF6",
              "width": 0.5
             },
             "pattern": {
              "fillmode": "overlay",
              "size": 10,
              "solidity": 0.2
             }
            },
            "type": "bar"
           }
          ],
          "barpolar": [
           {
            "marker": {
             "line": {
              "color": "#E5ECF6",
              "width": 0.5
             },
             "pattern": {
              "fillmode": "overlay",
              "size": 10,
              "solidity": 0.2
             }
            },
            "type": "barpolar"
           }
          ],
          "carpet": [
           {
            "aaxis": {
             "endlinecolor": "#2a3f5f",
             "gridcolor": "white",
             "linecolor": "white",
             "minorgridcolor": "white",
             "startlinecolor": "#2a3f5f"
            },
            "baxis": {
             "endlinecolor": "#2a3f5f",
             "gridcolor": "white",
             "linecolor": "white",
             "minorgridcolor": "white",
             "startlinecolor": "#2a3f5f"
            },
            "type": "carpet"
           }
          ],
          "choropleth": [
           {
            "colorbar": {
             "outlinewidth": 0,
             "ticks": ""
            },
            "type": "choropleth"
           }
          ],
          "contour": [
           {
            "colorbar": {
             "outlinewidth": 0,
             "ticks": ""
            },
            "colorscale": [
             [
              0,
              "#0d0887"
             ],
             [
              0.1111111111111111,
              "#46039f"
             ],
             [
              0.2222222222222222,
              "#7201a8"
             ],
             [
              0.3333333333333333,
              "#9c179e"
             ],
             [
              0.4444444444444444,
              "#bd3786"
             ],
             [
              0.5555555555555556,
              "#d8576b"
             ],
             [
              0.6666666666666666,
              "#ed7953"
             ],
             [
              0.7777777777777778,
              "#fb9f3a"
             ],
             [
              0.8888888888888888,
              "#fdca26"
             ],
             [
              1,
              "#f0f921"
             ]
            ],
            "type": "contour"
           }
          ],
          "contourcarpet": [
           {
            "colorbar": {
             "outlinewidth": 0,
             "ticks": ""
            },
            "type": "contourcarpet"
           }
          ],
          "heatmap": [
           {
            "colorbar": {
             "outlinewidth": 0,
             "ticks": ""
            },
            "colorscale": [
             [
              0,
              "#0d0887"
             ],
             [
              0.1111111111111111,
              "#46039f"
             ],
             [
              0.2222222222222222,
              "#7201a8"
             ],
             [
              0.3333333333333333,
              "#9c179e"
             ],
             [
              0.4444444444444444,
              "#bd3786"
             ],
             [
              0.5555555555555556,
              "#d8576b"
             ],
             [
              0.6666666666666666,
              "#ed7953"
             ],
             [
              0.7777777777777778,
              "#fb9f3a"
             ],
             [
              0.8888888888888888,
              "#fdca26"
             ],
             [
              1,
              "#f0f921"
             ]
            ],
            "type": "heatmap"
           }
          ],
          "heatmapgl": [
           {
            "colorbar": {
             "outlinewidth": 0,
             "ticks": ""
            },
            "colorscale": [
             [
              0,
              "#0d0887"
             ],
             [
              0.1111111111111111,
              "#46039f"
             ],
             [
              0.2222222222222222,
              "#7201a8"
             ],
             [
              0.3333333333333333,
              "#9c179e"
             ],
             [
              0.4444444444444444,
              "#bd3786"
             ],
             [
              0.5555555555555556,
              "#d8576b"
             ],
             [
              0.6666666666666666,
              "#ed7953"
             ],
             [
              0.7777777777777778,
              "#fb9f3a"
             ],
             [
              0.8888888888888888,
              "#fdca26"
             ],
             [
              1,
              "#f0f921"
             ]
            ],
            "type": "heatmapgl"
           }
          ],
          "histogram": [
           {
            "marker": {
             "pattern": {
              "fillmode": "overlay",
              "size": 10,
              "solidity": 0.2
             }
            },
            "type": "histogram"
           }
          ],
          "histogram2d": [
           {
            "colorbar": {
             "outlinewidth": 0,
             "ticks": ""
            },
            "colorscale": [
             [
              0,
              "#0d0887"
             ],
             [
              0.1111111111111111,
              "#46039f"
             ],
             [
              0.2222222222222222,
              "#7201a8"
             ],
             [
              0.3333333333333333,
              "#9c179e"
             ],
             [
              0.4444444444444444,
              "#bd3786"
             ],
             [
              0.5555555555555556,
              "#d8576b"
             ],
             [
              0.6666666666666666,
              "#ed7953"
             ],
             [
              0.7777777777777778,
              "#fb9f3a"
             ],
             [
              0.8888888888888888,
              "#fdca26"
             ],
             [
              1,
              "#f0f921"
             ]
            ],
            "type": "histogram2d"
           }
          ],
          "histogram2dcontour": [
           {
            "colorbar": {
             "outlinewidth": 0,
             "ticks": ""
            },
            "colorscale": [
             [
              0,
              "#0d0887"
             ],
             [
              0.1111111111111111,
              "#46039f"
             ],
             [
              0.2222222222222222,
              "#7201a8"
             ],
             [
              0.3333333333333333,
              "#9c179e"
             ],
             [
              0.4444444444444444,
              "#bd3786"
             ],
             [
              0.5555555555555556,
              "#d8576b"
             ],
             [
              0.6666666666666666,
              "#ed7953"
             ],
             [
              0.7777777777777778,
              "#fb9f3a"
             ],
             [
              0.8888888888888888,
              "#fdca26"
             ],
             [
              1,
              "#f0f921"
             ]
            ],
            "type": "histogram2dcontour"
           }
          ],
          "mesh3d": [
           {
            "colorbar": {
             "outlinewidth": 0,
             "ticks": ""
            },
            "type": "mesh3d"
           }
          ],
          "parcoords": [
           {
            "line": {
             "colorbar": {
              "outlinewidth": 0,
              "ticks": ""
             }
            },
            "type": "parcoords"
           }
          ],
          "pie": [
           {
            "automargin": true,
            "type": "pie"
           }
          ],
          "scatter": [
           {
            "marker": {
             "colorbar": {
              "outlinewidth": 0,
              "ticks": ""
             }
            },
            "type": "scatter"
           }
          ],
          "scatter3d": [
           {
            "line": {
             "colorbar": {
              "outlinewidth": 0,
              "ticks": ""
             }
            },
            "marker": {
             "colorbar": {
              "outlinewidth": 0,
              "ticks": ""
             }
            },
            "type": "scatter3d"
           }
          ],
          "scattercarpet": [
           {
            "marker": {
             "colorbar": {
              "outlinewidth": 0,
              "ticks": ""
             }
            },
            "type": "scattercarpet"
           }
          ],
          "scattergeo": [
           {
            "marker": {
             "colorbar": {
              "outlinewidth": 0,
              "ticks": ""
             }
            },
            "type": "scattergeo"
           }
          ],
          "scattergl": [
           {
            "marker": {
             "colorbar": {
              "outlinewidth": 0,
              "ticks": ""
             }
            },
            "type": "scattergl"
           }
          ],
          "scattermapbox": [
           {
            "marker": {
             "colorbar": {
              "outlinewidth": 0,
              "ticks": ""
             }
            },
            "type": "scattermapbox"
           }
          ],
          "scatterpolar": [
           {
            "marker": {
             "colorbar": {
              "outlinewidth": 0,
              "ticks": ""
             }
            },
            "type": "scatterpolar"
           }
          ],
          "scatterpolargl": [
           {
            "marker": {
             "colorbar": {
              "outlinewidth": 0,
              "ticks": ""
             }
            },
            "type": "scatterpolargl"
           }
          ],
          "scatterternary": [
           {
            "marker": {
             "colorbar": {
              "outlinewidth": 0,
              "ticks": ""
             }
            },
            "type": "scatterternary"
           }
          ],
          "surface": [
           {
            "colorbar": {
             "outlinewidth": 0,
             "ticks": ""
            },
            "colorscale": [
             [
              0,
              "#0d0887"
             ],
             [
              0.1111111111111111,
              "#46039f"
             ],
             [
              0.2222222222222222,
              "#7201a8"
             ],
             [
              0.3333333333333333,
              "#9c179e"
             ],
             [
              0.4444444444444444,
              "#bd3786"
             ],
             [
              0.5555555555555556,
              "#d8576b"
             ],
             [
              0.6666666666666666,
              "#ed7953"
             ],
             [
              0.7777777777777778,
              "#fb9f3a"
             ],
             [
              0.8888888888888888,
              "#fdca26"
             ],
             [
              1,
              "#f0f921"
             ]
            ],
            "type": "surface"
           }
          ],
          "table": [
           {
            "cells": {
             "fill": {
              "color": "#EBF0F8"
             },
             "line": {
              "color": "white"
             }
            },
            "header": {
             "fill": {
              "color": "#C8D4E3"
             },
             "line": {
              "color": "white"
             }
            },
            "type": "table"
           }
          ]
         },
         "layout": {
          "annotationdefaults": {
           "arrowcolor": "#2a3f5f",
           "arrowhead": 0,
           "arrowwidth": 1
          },
          "autotypenumbers": "strict",
          "coloraxis": {
           "colorbar": {
            "outlinewidth": 0,
            "ticks": ""
           }
          },
          "colorscale": {
           "diverging": [
            [
             0,
             "#8e0152"
            ],
            [
             0.1,
             "#c51b7d"
            ],
            [
             0.2,
             "#de77ae"
            ],
            [
             0.3,
             "#f1b6da"
            ],
            [
             0.4,
             "#fde0ef"
            ],
            [
             0.5,
             "#f7f7f7"
            ],
            [
             0.6,
             "#e6f5d0"
            ],
            [
             0.7,
             "#b8e186"
            ],
            [
             0.8,
             "#7fbc41"
            ],
            [
             0.9,
             "#4d9221"
            ],
            [
             1,
             "#276419"
            ]
           ],
           "sequential": [
            [
             0,
             "#0d0887"
            ],
            [
             0.1111111111111111,
             "#46039f"
            ],
            [
             0.2222222222222222,
             "#7201a8"
            ],
            [
             0.3333333333333333,
             "#9c179e"
            ],
            [
             0.4444444444444444,
             "#bd3786"
            ],
            [
             0.5555555555555556,
             "#d8576b"
            ],
            [
             0.6666666666666666,
             "#ed7953"
            ],
            [
             0.7777777777777778,
             "#fb9f3a"
            ],
            [
             0.8888888888888888,
             "#fdca26"
            ],
            [
             1,
             "#f0f921"
            ]
           ],
           "sequentialminus": [
            [
             0,
             "#0d0887"
            ],
            [
             0.1111111111111111,
             "#46039f"
            ],
            [
             0.2222222222222222,
             "#7201a8"
            ],
            [
             0.3333333333333333,
             "#9c179e"
            ],
            [
             0.4444444444444444,
             "#bd3786"
            ],
            [
             0.5555555555555556,
             "#d8576b"
            ],
            [
             0.6666666666666666,
             "#ed7953"
            ],
            [
             0.7777777777777778,
             "#fb9f3a"
            ],
            [
             0.8888888888888888,
             "#fdca26"
            ],
            [
             1,
             "#f0f921"
            ]
           ]
          },
          "colorway": [
           "#636efa",
           "#EF553B",
           "#00cc96",
           "#ab63fa",
           "#FFA15A",
           "#19d3f3",
           "#FF6692",
           "#B6E880",
           "#FF97FF",
           "#FECB52"
          ],
          "font": {
           "color": "#2a3f5f"
          },
          "geo": {
           "bgcolor": "white",
           "lakecolor": "white",
           "landcolor": "#E5ECF6",
           "showlakes": true,
           "showland": true,
           "subunitcolor": "white"
          },
          "hoverlabel": {
           "align": "left"
          },
          "hovermode": "closest",
          "mapbox": {
           "style": "light"
          },
          "paper_bgcolor": "white",
          "plot_bgcolor": "#E5ECF6",
          "polar": {
           "angularaxis": {
            "gridcolor": "white",
            "linecolor": "white",
            "ticks": ""
           },
           "bgcolor": "#E5ECF6",
           "radialaxis": {
            "gridcolor": "white",
            "linecolor": "white",
            "ticks": ""
           }
          },
          "scene": {
           "xaxis": {
            "backgroundcolor": "#E5ECF6",
            "gridcolor": "white",
            "gridwidth": 2,
            "linecolor": "white",
            "showbackground": true,
            "ticks": "",
            "zerolinecolor": "white"
           },
           "yaxis": {
            "backgroundcolor": "#E5ECF6",
            "gridcolor": "white",
            "gridwidth": 2,
            "linecolor": "white",
            "showbackground": true,
            "ticks": "",
            "zerolinecolor": "white"
           },
           "zaxis": {
            "backgroundcolor": "#E5ECF6",
            "gridcolor": "white",
            "gridwidth": 2,
            "linecolor": "white",
            "showbackground": true,
            "ticks": "",
            "zerolinecolor": "white"
           }
          },
          "shapedefaults": {
           "line": {
            "color": "#2a3f5f"
           }
          },
          "ternary": {
           "aaxis": {
            "gridcolor": "white",
            "linecolor": "white",
            "ticks": ""
           },
           "baxis": {
            "gridcolor": "white",
            "linecolor": "white",
            "ticks": ""
           },
           "bgcolor": "#E5ECF6",
           "caxis": {
            "gridcolor": "white",
            "linecolor": "white",
            "ticks": ""
           }
          },
          "title": {
           "x": 0.05
          },
          "xaxis": {
           "automargin": true,
           "gridcolor": "white",
           "linecolor": "white",
           "ticks": "",
           "title": {
            "standoff": 15
           },
           "zerolinecolor": "white",
           "zerolinewidth": 2
          },
          "yaxis": {
           "automargin": true,
           "gridcolor": "white",
           "linecolor": "white",
           "ticks": "",
           "title": {
            "standoff": 15
           },
           "zerolinecolor": "white",
           "zerolinewidth": 2
          }
         }
        },
        "title": {
         "font": {
          "color": "#151516"
         }
        },
        "xaxis": {
         "gridcolor": "#F6F6F6",
         "showgrid": true,
         "tickfont": {
          "color": "#666666"
         },
         "title": {
          "font": {
           "color": "#666666"
          },
          "text": ""
         },
         "zerolinecolor": "#F6F6F6"
        },
        "yaxis": {
         "gridcolor": "#F6F6F6",
         "showgrid": true,
         "tickfont": {
          "color": "#666666"
         },
         "title": {
          "font": {
           "color": "#666666"
          },
          "text": ""
         },
         "zerolinecolor": "#F6F6F6"
        }
       }
      },
      "text/html": [
       "<div>                            <div id=\"88f307bb-6967-4839-b0c1-7cbcdc3bdcb2\" class=\"plotly-graph-div\" style=\"height:525px; width:100%;\"></div>            <script type=\"text/javascript\">                require([\"plotly\"], function(Plotly) {                    window.PLOTLYENV=window.PLOTLYENV || {};\n",
       "                    window.PLOTLYENV.BASE_URL='https://plot.ly';                                    if (document.getElementById(\"88f307bb-6967-4839-b0c1-7cbcdc3bdcb2\")) {                    Plotly.newPlot(                        \"88f307bb-6967-4839-b0c1-7cbcdc3bdcb2\",                        [{\"line\":{\"color\":\"rgba(255, 153, 51, 1.0)\",\"dash\":\"solid\",\"shape\":\"linear\",\"width\":2},\"mode\":\"lines\",\"name\":\"ADH\",\"text\":\"\",\"type\":\"scatter\",\"x\":[\"2021-02-01\",\"2021-02-02\",\"2021-02-03\",\"2021-02-04\",\"2021-02-07\",\"2021-02-08\",\"2021-02-09\",\"2021-02-10\",\"2021-02-11\",\"2021-02-14\",\"2021-02-15\",\"2021-02-16\",\"2021-02-17\",\"2021-02-18\",\"2021-02-21\",\"2021-02-22\",\"2021-02-23\",\"2021-02-24\",\"2021-02-25\",\"2021-02-28\",\"2021-03-01\",\"2021-03-02\",\"2021-03-03\",\"2021-03-04\",\"2021-03-07\",\"2021-03-08\",\"2021-03-09\",\"2021-03-10\",\"2021-03-11\",\"2021-03-14\",\"2021-03-15\",\"2021-03-16\",\"2021-03-17\",\"2021-03-18\",\"2021-03-21\",\"2021-03-22\",\"2021-03-23\",\"2021-03-24\",\"2021-03-25\",\"2021-03-28\",\"2021-03-29\",\"2021-03-30\",\"2021-03-31\",\"2021-04-01\",\"2021-04-04\",\"2021-04-05\",\"2021-04-06\",\"2021-04-07\",\"2021-04-08\",\"2021-04-11\",\"2021-04-12\",\"2021-04-13\",\"2021-04-14\",\"2021-04-15\",\"2021-04-18\",\"2021-04-19\",\"2021-04-20\",\"2021-04-21\",\"2021-04-22\",\"2021-04-25\",\"2021-04-26\",\"2021-04-27\",\"2021-04-28\",\"2021-04-29\",\"2021-05-02\",\"2021-05-03\",\"2021-05-04\",\"2021-05-05\",\"2021-05-06\",\"2021-05-09\",\"2021-05-10\",\"2021-05-16\",\"2021-05-17\",\"2021-05-18\",\"2021-05-19\",\"2021-05-20\",\"2021-05-23\",\"2021-05-24\",\"2021-05-25\",\"2021-05-26\",\"2021-05-27\",\"2021-05-30\",\"2021-05-31\",\"2021-06-01\",\"2021-06-02\",\"2021-06-03\",\"2021-06-06\",\"2021-06-07\",\"2021-06-08\",\"2021-06-09\",\"2021-06-10\",\"2021-06-13\",\"2021-06-14\",\"2021-06-15\",\"2021-06-16\",\"2021-06-17\",\"2021-06-20\",\"2021-06-21\",\"2021-06-22\",\"2021-06-23\",\"2021-06-24\",\"2021-06-27\",\"2021-06-28\",\"2021-06-29\",\"2021-06-30\",\"2021-07-01\",\"2021-07-04\",\"2021-07-05\",\"2021-07-06\",\"2021-07-07\",\"2021-07-08\",\"2021-07-11\",\"2021-07-12\",\"2021-07-13\",\"2021-07-14\",\"2021-07-15\",\"2021-07-18\",\"2021-07-25\",\"2021-07-26\",\"2021-07-27\",\"2021-07-28\",\"2021-07-29\",\"2021-08-01\"],\"y\":[\"\",\"\",\"\",\"\",\"\",\"\",\"\",\"\",\"\",\"\",\"\",\"\",\"\",\"\",\"\",\"\",\"\",\"\",\"\",\"\",\"\",\"\",\"\",\"\",\"\",\"\",\"\",\"\",\"\",\"\",\"\",\"\",\"\",\"\",\"\",\"\",\"\",\"\",\"\",\"\",\"\",\"\",\"\",\"\",\"\",\"\",\"\",\"\",\"\",\"\",\"\",\"\",\"\",\"\",\"\",\"\",\"\",\"\",\"\",\"\",\"\",\"\",\"\",\"\",\"\",\"\",\"\",\"\",\"\",\"\",\"\",\"\",\"\",\"\",\"\",\"\",\"\",\"\",\"\",\"\",\"\",\"\",\"\",\"\",\"\",\"\",\"\",\"\",\"\",\"\",\"\",\"\",\"\",\"\",\"\",\"\",\"\",\"\",\"\",\"\",\"\",15.0,16.9,16.9,16.96,17.46,18.88,20.98,20.76,20.6,20.66,22.5,22.88,22.58,23.6,24.2,24.62,25.5,25.7,26.48,28.72,29.1,29.22]},{\"line\":{\"color\":\"rgba(55, 128, 191, 1.0)\",\"dash\":\"solid\",\"shape\":\"linear\",\"width\":2},\"mode\":\"lines\",\"name\":\"IHC\",\"text\":\"\",\"type\":\"scatter\",\"x\":[\"2021-02-01\",\"2021-02-02\",\"2021-02-03\",\"2021-02-04\",\"2021-02-07\",\"2021-02-08\",\"2021-02-09\",\"2021-02-10\",\"2021-02-11\",\"2021-02-14\",\"2021-02-15\",\"2021-02-16\",\"2021-02-17\",\"2021-02-18\",\"2021-02-21\",\"2021-02-22\",\"2021-02-23\",\"2021-02-24\",\"2021-02-25\",\"2021-02-28\",\"2021-03-01\",\"2021-03-02\",\"2021-03-03\",\"2021-03-04\",\"2021-03-07\",\"2021-03-08\",\"2021-03-09\",\"2021-03-10\",\"2021-03-11\",\"2021-03-14\",\"2021-03-15\",\"2021-03-16\",\"2021-03-17\",\"2021-03-18\",\"2021-03-21\",\"2021-03-22\",\"2021-03-23\",\"2021-03-24\",\"2021-03-25\",\"2021-03-28\",\"2021-03-29\",\"2021-03-30\",\"2021-03-31\",\"2021-04-01\",\"2021-04-04\",\"2021-04-05\",\"2021-04-06\",\"2021-04-07\",\"2021-04-08\",\"2021-04-11\",\"2021-04-12\",\"2021-04-13\",\"2021-04-14\",\"2021-04-15\",\"2021-04-18\",\"2021-04-19\",\"2021-04-20\",\"2021-04-21\",\"2021-04-22\",\"2021-04-25\",\"2021-04-26\",\"2021-04-27\",\"2021-04-28\",\"2021-04-29\",\"2021-05-02\",\"2021-05-03\",\"2021-05-04\",\"2021-05-05\",\"2021-05-06\",\"2021-05-09\",\"2021-05-10\",\"2021-05-16\",\"2021-05-17\",\"2021-05-18\",\"2021-05-19\",\"2021-05-20\",\"2021-05-23\",\"2021-05-24\",\"2021-05-25\",\"2021-05-26\",\"2021-05-27\",\"2021-05-30\",\"2021-05-31\",\"2021-06-01\",\"2021-06-02\",\"2021-06-03\",\"2021-06-06\",\"2021-06-07\",\"2021-06-08\",\"2021-06-09\",\"2021-06-10\",\"2021-06-13\",\"2021-06-14\",\"2021-06-15\",\"2021-06-16\",\"2021-06-17\",\"2021-06-20\",\"2021-06-21\",\"2021-06-22\",\"2021-06-23\",\"2021-06-24\",\"2021-06-27\",\"2021-06-28\",\"2021-06-29\",\"2021-06-30\",\"2021-07-01\",\"2021-07-04\",\"2021-07-05\",\"2021-07-06\",\"2021-07-07\",\"2021-07-08\",\"2021-07-11\",\"2021-07-12\",\"2021-07-13\",\"2021-07-14\",\"2021-07-15\",\"2021-07-18\",\"2021-07-25\",\"2021-07-26\",\"2021-07-27\",\"2021-07-28\",\"2021-07-29\",\"2021-08-01\"],\"y\":[46.0,46.04,46.06,46.08,46.1,46.5,46.5,46.5,46.5,46.5,46.5,46.5,46.5,46.8,46.8,46.8,46.8,46.8,46.9,46.9,46.9,47.5,48.0,48.0,48.0,48.0,48.0,49.0,49.0,49.0,49.0,49.5,49.5,50.05,50.0,50.0,50.6,50.75,52.0,59.55,61.5,63.1,63.8,64.8,66.4,74.9,84.5,86.15,87.5,87.2,86.85,86.5,86.5,90.0,90.2,89.5,92.9,91.5,91.5,91.0,91.0,91.0,91.0,90.7,90.9,91.0,91.0,91.0,94.0,97.4,97.5,95.0,95.5,95.4,94.0,94.0,94.2,94.0,94.0,94.5,94.2,95.0,95.0,95.1,95.5,95.95,96.2,96.75,96.25,97.0,97.4,96.6,97.0,97.2,96.6,96.3,96.4,96.35,97.1,97.15,96.35,110.8,114.6,115.0,119.0,123.0,124.5,125.0,126.0,126.3,126.3,126.3,126.3,126.5,128.9,128.0,128.1,128.1,131.8,131.0,132.0,132.6,131.9]},{\"line\":{\"color\":\"rgba(50, 171, 96, 1.0)\",\"dash\":\"solid\",\"shape\":\"linear\",\"width\":2},\"mode\":\"lines\",\"name\":\"ETISALAT\",\"text\":\"\",\"type\":\"scatter\",\"x\":[\"2021-02-01\",\"2021-02-02\",\"2021-02-03\",\"2021-02-04\",\"2021-02-07\",\"2021-02-08\",\"2021-02-09\",\"2021-02-10\",\"2021-02-11\",\"2021-02-14\",\"2021-02-15\",\"2021-02-16\",\"2021-02-17\",\"2021-02-18\",\"2021-02-21\",\"2021-02-22\",\"2021-02-23\",\"2021-02-24\",\"2021-02-25\",\"2021-02-28\",\"2021-03-01\",\"2021-03-02\",\"2021-03-03\",\"2021-03-04\",\"2021-03-07\",\"2021-03-08\",\"2021-03-09\",\"2021-03-10\",\"2021-03-11\",\"2021-03-14\",\"2021-03-15\",\"2021-03-16\",\"2021-03-17\",\"2021-03-18\",\"2021-03-21\",\"2021-03-22\",\"2021-03-23\",\"2021-03-24\",\"2021-03-25\",\"2021-03-28\",\"2021-03-29\",\"2021-03-30\",\"2021-03-31\",\"2021-04-01\",\"2021-04-04\",\"2021-04-05\",\"2021-04-06\",\"2021-04-07\",\"2021-04-08\",\"2021-04-11\",\"2021-04-12\",\"2021-04-13\",\"2021-04-14\",\"2021-04-15\",\"2021-04-18\",\"2021-04-19\",\"2021-04-20\",\"2021-04-21\",\"2021-04-22\",\"2021-04-25\",\"2021-04-26\",\"2021-04-27\",\"2021-04-28\",\"2021-04-29\",\"2021-05-02\",\"2021-05-03\",\"2021-05-04\",\"2021-05-05\",\"2021-05-06\",\"2021-05-09\",\"2021-05-10\",\"2021-05-16\",\"2021-05-17\",\"2021-05-18\",\"2021-05-19\",\"2021-05-20\",\"2021-05-23\",\"2021-05-24\",\"2021-05-25\",\"2021-05-26\",\"2021-05-27\",\"2021-05-30\",\"2021-05-31\",\"2021-06-01\",\"2021-06-02\",\"2021-06-03\",\"2021-06-06\",\"2021-06-07\",\"2021-06-08\",\"2021-06-09\",\"2021-06-10\",\"2021-06-13\",\"2021-06-14\",\"2021-06-15\",\"2021-06-16\",\"2021-06-17\",\"2021-06-20\",\"2021-06-21\",\"2021-06-22\",\"2021-06-23\",\"2021-06-24\",\"2021-06-27\",\"2021-06-28\",\"2021-06-29\",\"2021-06-30\",\"2021-07-01\",\"2021-07-04\",\"2021-07-05\",\"2021-07-06\",\"2021-07-07\",\"2021-07-08\",\"2021-07-11\",\"2021-07-12\",\"2021-07-13\",\"2021-07-14\",\"2021-07-15\",\"2021-07-18\",\"2021-07-25\",\"2021-07-26\",\"2021-07-27\",\"2021-07-28\",\"2021-07-29\",\"2021-08-01\"],\"y\":[19.88,19.98,19.8,19.82,19.88,19.82,19.9,19.8,19.88,19.92,19.9,19.9,19.74,19.74,19.9,19.76,19.94,19.88,19.9,20.34,20.36,20.32,20.36,20.16,20.16,20.3,20.32,20.48,20.54,20.56,20.64,20.94,21.14,20.9,20.92,21.0,21.0,21.38,20.8,20.5,21.0,21.6,21.64,22.06,22.1,22.0,21.94,21.6,21.6,21.76,21.9,21.78,21.78,21.9,21.92,21.64,21.72,21.24,21.36,21.58,21.72,21.44,21.3,21.18,21.38,21.5,21.4,21.3,21.46,21.56,21.56,21.88,21.88,22.14,21.96,22.04,22.04,22.0,22.16,21.92,21.64,21.8,21.66,21.88,21.92,21.74,21.9,22.0,22.1,22.12,22.04,22.14,22.2,22.2,22.14,22.18,22.06,22.18,22.22,22.1,22.2,22.22,22.2,22.14,22.0,22.2,22.26,22.28,22.2,22.08,22.24,22.04,22.3,22.58,22.5,22.48,22.3,22.46,22.7,22.7,22.8,22.8,24.06]},{\"line\":{\"color\":\"rgba(128, 0, 128, 1.0)\",\"dash\":\"solid\",\"shape\":\"linear\",\"width\":2},\"mode\":\"lines\",\"name\":\"FAB\",\"text\":\"\",\"type\":\"scatter\",\"x\":[\"2021-02-01\",\"2021-02-02\",\"2021-02-03\",\"2021-02-04\",\"2021-02-07\",\"2021-02-08\",\"2021-02-09\",\"2021-02-10\",\"2021-02-11\",\"2021-02-14\",\"2021-02-15\",\"2021-02-16\",\"2021-02-17\",\"2021-02-18\",\"2021-02-21\",\"2021-02-22\",\"2021-02-23\",\"2021-02-24\",\"2021-02-25\",\"2021-02-28\",\"2021-03-01\",\"2021-03-02\",\"2021-03-03\",\"2021-03-04\",\"2021-03-07\",\"2021-03-08\",\"2021-03-09\",\"2021-03-10\",\"2021-03-11\",\"2021-03-14\",\"2021-03-15\",\"2021-03-16\",\"2021-03-17\",\"2021-03-18\",\"2021-03-21\",\"2021-03-22\",\"2021-03-23\",\"2021-03-24\",\"2021-03-25\",\"2021-03-28\",\"2021-03-29\",\"2021-03-30\",\"2021-03-31\",\"2021-04-01\",\"2021-04-04\",\"2021-04-05\",\"2021-04-06\",\"2021-04-07\",\"2021-04-08\",\"2021-04-11\",\"2021-04-12\",\"2021-04-13\",\"2021-04-14\",\"2021-04-15\",\"2021-04-18\",\"2021-04-19\",\"2021-04-20\",\"2021-04-21\",\"2021-04-22\",\"2021-04-25\",\"2021-04-26\",\"2021-04-27\",\"2021-04-28\",\"2021-04-29\",\"2021-05-02\",\"2021-05-03\",\"2021-05-04\",\"2021-05-05\",\"2021-05-06\",\"2021-05-09\",\"2021-05-10\",\"2021-05-16\",\"2021-05-17\",\"2021-05-18\",\"2021-05-19\",\"2021-05-20\",\"2021-05-23\",\"2021-05-24\",\"2021-05-25\",\"2021-05-26\",\"2021-05-27\",\"2021-05-30\",\"2021-05-31\",\"2021-06-01\",\"2021-06-02\",\"2021-06-03\",\"2021-06-06\",\"2021-06-07\",\"2021-06-08\",\"2021-06-09\",\"2021-06-10\",\"2021-06-13\",\"2021-06-14\",\"2021-06-15\",\"2021-06-16\",\"2021-06-17\",\"2021-06-20\",\"2021-06-21\",\"2021-06-22\",\"2021-06-23\",\"2021-06-24\",\"2021-06-27\",\"2021-06-28\",\"2021-06-29\",\"2021-06-30\",\"2021-07-01\",\"2021-07-04\",\"2021-07-05\",\"2021-07-06\",\"2021-07-07\",\"2021-07-08\",\"2021-07-11\",\"2021-07-12\",\"2021-07-13\",\"2021-07-14\",\"2021-07-15\",\"2021-07-18\",\"2021-07-25\",\"2021-07-26\",\"2021-07-27\",\"2021-07-28\",\"2021-07-29\",\"2021-08-01\"],\"y\":[14.88,15.06,14.92,14.88,14.9,14.86,14.98,15.0,14.98,14.9,14.8,14.94,14.9,14.9,14.96,15.06,15.0,14.84,14.7,14.7,14.66,14.92,14.82,14.92,14.9,14.92,14.2,14.22,14.34,14.48,14.6,14.7,14.68,14.7,14.62,14.64,14.6,14.56,14.58,14.4,14.42,14.6,14.6,14.6,14.56,14.54,14.48,14.26,14.38,14.4,14.48,14.16,14.26,14.56,14.46,14.46,14.56,14.26,14.46,14.5,14.6,14.56,14.38,14.24,14.36,14.38,14.58,14.58,14.54,14.7,14.58,16.06,16.26,16.48,16.6,16.42,16.52,17.0,16.9,16.46,16.58,16.34,16.86,16.9,16.98,16.92,16.86,16.9,16.9,16.92,16.94,16.76,16.88,16.9,16.9,16.56,16.62,16.42,16.58,16.6,16.26,16.2,16.3,16.38,16.7,16.78,16.76,16.68,16.6,16.52,16.36,16.28,16.34,16.38,16.4,16.3,16.3,16.32,16.3,16.26,16.26,16.58,16.56]},{\"line\":{\"color\":\"rgba(219, 64, 82, 1.0)\",\"dash\":\"solid\",\"shape\":\"linear\",\"width\":2},\"mode\":\"lines\",\"name\":\"TAQA\",\"text\":\"\",\"type\":\"scatter\",\"x\":[\"2021-02-01\",\"2021-02-02\",\"2021-02-03\",\"2021-02-04\",\"2021-02-07\",\"2021-02-08\",\"2021-02-09\",\"2021-02-10\",\"2021-02-11\",\"2021-02-14\",\"2021-02-15\",\"2021-02-16\",\"2021-02-17\",\"2021-02-18\",\"2021-02-21\",\"2021-02-22\",\"2021-02-23\",\"2021-02-24\",\"2021-02-25\",\"2021-02-28\",\"2021-03-01\",\"2021-03-02\",\"2021-03-03\",\"2021-03-04\",\"2021-03-07\",\"2021-03-08\",\"2021-03-09\",\"2021-03-10\",\"2021-03-11\",\"2021-03-14\",\"2021-03-15\",\"2021-03-16\",\"2021-03-17\",\"2021-03-18\",\"2021-03-21\",\"2021-03-22\",\"2021-03-23\",\"2021-03-24\",\"2021-03-25\",\"2021-03-28\",\"2021-03-29\",\"2021-03-30\",\"2021-03-31\",\"2021-04-01\",\"2021-04-04\",\"2021-04-05\",\"2021-04-06\",\"2021-04-07\",\"2021-04-08\",\"2021-04-11\",\"2021-04-12\",\"2021-04-13\",\"2021-04-14\",\"2021-04-15\",\"2021-04-18\",\"2021-04-19\",\"2021-04-20\",\"2021-04-21\",\"2021-04-22\",\"2021-04-25\",\"2021-04-26\",\"2021-04-27\",\"2021-04-28\",\"2021-04-29\",\"2021-05-02\",\"2021-05-03\",\"2021-05-04\",\"2021-05-05\",\"2021-05-06\",\"2021-05-09\",\"2021-05-10\",\"2021-05-16\",\"2021-05-17\",\"2021-05-18\",\"2021-05-19\",\"2021-05-20\",\"2021-05-23\",\"2021-05-24\",\"2021-05-25\",\"2021-05-26\",\"2021-05-27\",\"2021-05-30\",\"2021-05-31\",\"2021-06-01\",\"2021-06-02\",\"2021-06-03\",\"2021-06-06\",\"2021-06-07\",\"2021-06-08\",\"2021-06-09\",\"2021-06-10\",\"2021-06-13\",\"2021-06-14\",\"2021-06-15\",\"2021-06-16\",\"2021-06-17\",\"2021-06-20\",\"2021-06-21\",\"2021-06-22\",\"2021-06-23\",\"2021-06-24\",\"2021-06-27\",\"2021-06-28\",\"2021-06-29\",\"2021-06-30\",\"2021-07-01\",\"2021-07-04\",\"2021-07-05\",\"2021-07-06\",\"2021-07-07\",\"2021-07-08\",\"2021-07-11\",\"2021-07-12\",\"2021-07-13\",\"2021-07-14\",\"2021-07-15\",\"2021-07-18\",\"2021-07-25\",\"2021-07-26\",\"2021-07-27\",\"2021-07-28\",\"2021-07-29\",\"2021-08-01\"],\"y\":[1.45,1.47,1.46,1.46,1.44,1.43,1.43,1.43,1.44,1.44,1.43,1.43,1.39,1.39,1.35,1.4,1.38,1.39,1.4,1.39,1.39,1.39,1.39,1.4,1.4,1.38,1.37,1.39,1.38,1.37,1.38,1.39,1.39,1.38,1.38,1.39,1.38,1.38,1.38,1.36,1.37,1.41,1.4,1.39,1.39,1.38,1.36,1.36,1.36,1.38,1.37,1.39,1.37,1.37,1.38,1.38,1.37,1.39,1.39,1.38,1.37,1.37,1.38,1.36,1.36,1.36,1.37,1.38,1.37,1.38,1.36,1.36,1.39,1.41,1.39,1.39,1.4,1.39,1.37,1.38,1.36,1.36,1.35,1.36,1.37,1.35,1.34,1.35,1.35,1.37,1.43,1.41,1.42,1.42,1.4,1.41,1.4,1.4,1.4,1.4,1.39,1.38,1.38,1.37,1.39,1.37,1.38,1.37,1.35,1.36,1.37,1.37,1.35,1.37,1.36,1.36,1.36,1.34,1.34,1.33,1.29,1.3,1.28]}],                        {\"legend\":{\"bgcolor\":\"#FFFFFF\",\"font\":{\"color\":\"#666666\"}},\"paper_bgcolor\":\"#FFFFFF\",\"plot_bgcolor\":\"#E5E5E5\",\"template\":{\"data\":{\"bar\":[{\"error_x\":{\"color\":\"#2a3f5f\"},\"error_y\":{\"color\":\"#2a3f5f\"},\"marker\":{\"line\":{\"color\":\"#E5ECF6\",\"width\":0.5},\"pattern\":{\"fillmode\":\"overlay\",\"size\":10,\"solidity\":0.2}},\"type\":\"bar\"}],\"barpolar\":[{\"marker\":{\"line\":{\"color\":\"#E5ECF6\",\"width\":0.5},\"pattern\":{\"fillmode\":\"overlay\",\"size\":10,\"solidity\":0.2}},\"type\":\"barpolar\"}],\"carpet\":[{\"aaxis\":{\"endlinecolor\":\"#2a3f5f\",\"gridcolor\":\"white\",\"linecolor\":\"white\",\"minorgridcolor\":\"white\",\"startlinecolor\":\"#2a3f5f\"},\"baxis\":{\"endlinecolor\":\"#2a3f5f\",\"gridcolor\":\"white\",\"linecolor\":\"white\",\"minorgridcolor\":\"white\",\"startlinecolor\":\"#2a3f5f\"},\"type\":\"carpet\"}],\"choropleth\":[{\"colorbar\":{\"outlinewidth\":0,\"ticks\":\"\"},\"type\":\"choropleth\"}],\"contour\":[{\"colorbar\":{\"outlinewidth\":0,\"ticks\":\"\"},\"colorscale\":[[0.0,\"#0d0887\"],[0.1111111111111111,\"#46039f\"],[0.2222222222222222,\"#7201a8\"],[0.3333333333333333,\"#9c179e\"],[0.4444444444444444,\"#bd3786\"],[0.5555555555555556,\"#d8576b\"],[0.6666666666666666,\"#ed7953\"],[0.7777777777777778,\"#fb9f3a\"],[0.8888888888888888,\"#fdca26\"],[1.0,\"#f0f921\"]],\"type\":\"contour\"}],\"contourcarpet\":[{\"colorbar\":{\"outlinewidth\":0,\"ticks\":\"\"},\"type\":\"contourcarpet\"}],\"heatmap\":[{\"colorbar\":{\"outlinewidth\":0,\"ticks\":\"\"},\"colorscale\":[[0.0,\"#0d0887\"],[0.1111111111111111,\"#46039f\"],[0.2222222222222222,\"#7201a8\"],[0.3333333333333333,\"#9c179e\"],[0.4444444444444444,\"#bd3786\"],[0.5555555555555556,\"#d8576b\"],[0.6666666666666666,\"#ed7953\"],[0.7777777777777778,\"#fb9f3a\"],[0.8888888888888888,\"#fdca26\"],[1.0,\"#f0f921\"]],\"type\":\"heatmap\"}],\"heatmapgl\":[{\"colorbar\":{\"outlinewidth\":0,\"ticks\":\"\"},\"colorscale\":[[0.0,\"#0d0887\"],[0.1111111111111111,\"#46039f\"],[0.2222222222222222,\"#7201a8\"],[0.3333333333333333,\"#9c179e\"],[0.4444444444444444,\"#bd3786\"],[0.5555555555555556,\"#d8576b\"],[0.6666666666666666,\"#ed7953\"],[0.7777777777777778,\"#fb9f3a\"],[0.8888888888888888,\"#fdca26\"],[1.0,\"#f0f921\"]],\"type\":\"heatmapgl\"}],\"histogram\":[{\"marker\":{\"pattern\":{\"fillmode\":\"overlay\",\"size\":10,\"solidity\":0.2}},\"type\":\"histogram\"}],\"histogram2d\":[{\"colorbar\":{\"outlinewidth\":0,\"ticks\":\"\"},\"colorscale\":[[0.0,\"#0d0887\"],[0.1111111111111111,\"#46039f\"],[0.2222222222222222,\"#7201a8\"],[0.3333333333333333,\"#9c179e\"],[0.4444444444444444,\"#bd3786\"],[0.5555555555555556,\"#d8576b\"],[0.6666666666666666,\"#ed7953\"],[0.7777777777777778,\"#fb9f3a\"],[0.8888888888888888,\"#fdca26\"],[1.0,\"#f0f921\"]],\"type\":\"histogram2d\"}],\"histogram2dcontour\":[{\"colorbar\":{\"outlinewidth\":0,\"ticks\":\"\"},\"colorscale\":[[0.0,\"#0d0887\"],[0.1111111111111111,\"#46039f\"],[0.2222222222222222,\"#7201a8\"],[0.3333333333333333,\"#9c179e\"],[0.4444444444444444,\"#bd3786\"],[0.5555555555555556,\"#d8576b\"],[0.6666666666666666,\"#ed7953\"],[0.7777777777777778,\"#fb9f3a\"],[0.8888888888888888,\"#fdca26\"],[1.0,\"#f0f921\"]],\"type\":\"histogram2dcontour\"}],\"mesh3d\":[{\"colorbar\":{\"outlinewidth\":0,\"ticks\":\"\"},\"type\":\"mesh3d\"}],\"parcoords\":[{\"line\":{\"colorbar\":{\"outlinewidth\":0,\"ticks\":\"\"}},\"type\":\"parcoords\"}],\"pie\":[{\"automargin\":true,\"type\":\"pie\"}],\"scatter\":[{\"marker\":{\"colorbar\":{\"outlinewidth\":0,\"ticks\":\"\"}},\"type\":\"scatter\"}],\"scatter3d\":[{\"line\":{\"colorbar\":{\"outlinewidth\":0,\"ticks\":\"\"}},\"marker\":{\"colorbar\":{\"outlinewidth\":0,\"ticks\":\"\"}},\"type\":\"scatter3d\"}],\"scattercarpet\":[{\"marker\":{\"colorbar\":{\"outlinewidth\":0,\"ticks\":\"\"}},\"type\":\"scattercarpet\"}],\"scattergeo\":[{\"marker\":{\"colorbar\":{\"outlinewidth\":0,\"ticks\":\"\"}},\"type\":\"scattergeo\"}],\"scattergl\":[{\"marker\":{\"colorbar\":{\"outlinewidth\":0,\"ticks\":\"\"}},\"type\":\"scattergl\"}],\"scattermapbox\":[{\"marker\":{\"colorbar\":{\"outlinewidth\":0,\"ticks\":\"\"}},\"type\":\"scattermapbox\"}],\"scatterpolar\":[{\"marker\":{\"colorbar\":{\"outlinewidth\":0,\"ticks\":\"\"}},\"type\":\"scatterpolar\"}],\"scatterpolargl\":[{\"marker\":{\"colorbar\":{\"outlinewidth\":0,\"ticks\":\"\"}},\"type\":\"scatterpolargl\"}],\"scatterternary\":[{\"marker\":{\"colorbar\":{\"outlinewidth\":0,\"ticks\":\"\"}},\"type\":\"scatterternary\"}],\"surface\":[{\"colorbar\":{\"outlinewidth\":0,\"ticks\":\"\"},\"colorscale\":[[0.0,\"#0d0887\"],[0.1111111111111111,\"#46039f\"],[0.2222222222222222,\"#7201a8\"],[0.3333333333333333,\"#9c179e\"],[0.4444444444444444,\"#bd3786\"],[0.5555555555555556,\"#d8576b\"],[0.6666666666666666,\"#ed7953\"],[0.7777777777777778,\"#fb9f3a\"],[0.8888888888888888,\"#fdca26\"],[1.0,\"#f0f921\"]],\"type\":\"surface\"}],\"table\":[{\"cells\":{\"fill\":{\"color\":\"#EBF0F8\"},\"line\":{\"color\":\"white\"}},\"header\":{\"fill\":{\"color\":\"#C8D4E3\"},\"line\":{\"color\":\"white\"}},\"type\":\"table\"}]},\"layout\":{\"annotationdefaults\":{\"arrowcolor\":\"#2a3f5f\",\"arrowhead\":0,\"arrowwidth\":1},\"autotypenumbers\":\"strict\",\"coloraxis\":{\"colorbar\":{\"outlinewidth\":0,\"ticks\":\"\"}},\"colorscale\":{\"diverging\":[[0,\"#8e0152\"],[0.1,\"#c51b7d\"],[0.2,\"#de77ae\"],[0.3,\"#f1b6da\"],[0.4,\"#fde0ef\"],[0.5,\"#f7f7f7\"],[0.6,\"#e6f5d0\"],[0.7,\"#b8e186\"],[0.8,\"#7fbc41\"],[0.9,\"#4d9221\"],[1,\"#276419\"]],\"sequential\":[[0.0,\"#0d0887\"],[0.1111111111111111,\"#46039f\"],[0.2222222222222222,\"#7201a8\"],[0.3333333333333333,\"#9c179e\"],[0.4444444444444444,\"#bd3786\"],[0.5555555555555556,\"#d8576b\"],[0.6666666666666666,\"#ed7953\"],[0.7777777777777778,\"#fb9f3a\"],[0.8888888888888888,\"#fdca26\"],[1.0,\"#f0f921\"]],\"sequentialminus\":[[0.0,\"#0d0887\"],[0.1111111111111111,\"#46039f\"],[0.2222222222222222,\"#7201a8\"],[0.3333333333333333,\"#9c179e\"],[0.4444444444444444,\"#bd3786\"],[0.5555555555555556,\"#d8576b\"],[0.6666666666666666,\"#ed7953\"],[0.7777777777777778,\"#fb9f3a\"],[0.8888888888888888,\"#fdca26\"],[1.0,\"#f0f921\"]]},\"colorway\":[\"#636efa\",\"#EF553B\",\"#00cc96\",\"#ab63fa\",\"#FFA15A\",\"#19d3f3\",\"#FF6692\",\"#B6E880\",\"#FF97FF\",\"#FECB52\"],\"font\":{\"color\":\"#2a3f5f\"},\"geo\":{\"bgcolor\":\"white\",\"lakecolor\":\"white\",\"landcolor\":\"#E5ECF6\",\"showlakes\":true,\"showland\":true,\"subunitcolor\":\"white\"},\"hoverlabel\":{\"align\":\"left\"},\"hovermode\":\"closest\",\"mapbox\":{\"style\":\"light\"},\"paper_bgcolor\":\"white\",\"plot_bgcolor\":\"#E5ECF6\",\"polar\":{\"angularaxis\":{\"gridcolor\":\"white\",\"linecolor\":\"white\",\"ticks\":\"\"},\"bgcolor\":\"#E5ECF6\",\"radialaxis\":{\"gridcolor\":\"white\",\"linecolor\":\"white\",\"ticks\":\"\"}},\"scene\":{\"xaxis\":{\"backgroundcolor\":\"#E5ECF6\",\"gridcolor\":\"white\",\"gridwidth\":2,\"linecolor\":\"white\",\"showbackground\":true,\"ticks\":\"\",\"zerolinecolor\":\"white\"},\"yaxis\":{\"backgroundcolor\":\"#E5ECF6\",\"gridcolor\":\"white\",\"gridwidth\":2,\"linecolor\":\"white\",\"showbackground\":true,\"ticks\":\"\",\"zerolinecolor\":\"white\"},\"zaxis\":{\"backgroundcolor\":\"#E5ECF6\",\"gridcolor\":\"white\",\"gridwidth\":2,\"linecolor\":\"white\",\"showbackground\":true,\"ticks\":\"\",\"zerolinecolor\":\"white\"}},\"shapedefaults\":{\"line\":{\"color\":\"#2a3f5f\"}},\"ternary\":{\"aaxis\":{\"gridcolor\":\"white\",\"linecolor\":\"white\",\"ticks\":\"\"},\"baxis\":{\"gridcolor\":\"white\",\"linecolor\":\"white\",\"ticks\":\"\"},\"bgcolor\":\"#E5ECF6\",\"caxis\":{\"gridcolor\":\"white\",\"linecolor\":\"white\",\"ticks\":\"\"}},\"title\":{\"x\":0.05},\"xaxis\":{\"automargin\":true,\"gridcolor\":\"white\",\"linecolor\":\"white\",\"ticks\":\"\",\"title\":{\"standoff\":15},\"zerolinecolor\":\"white\",\"zerolinewidth\":2},\"yaxis\":{\"automargin\":true,\"gridcolor\":\"white\",\"linecolor\":\"white\",\"ticks\":\"\",\"title\":{\"standoff\":15},\"zerolinecolor\":\"white\",\"zerolinewidth\":2}}},\"title\":{\"font\":{\"color\":\"#151516\"}},\"xaxis\":{\"gridcolor\":\"#F6F6F6\",\"showgrid\":true,\"tickfont\":{\"color\":\"#666666\"},\"title\":{\"font\":{\"color\":\"#666666\"},\"text\":\"\"},\"zerolinecolor\":\"#F6F6F6\"},\"yaxis\":{\"gridcolor\":\"#F6F6F6\",\"showgrid\":true,\"tickfont\":{\"color\":\"#666666\"},\"title\":{\"font\":{\"color\":\"#666666\"},\"text\":\"\"},\"zerolinecolor\":\"#F6F6F6\"}},                        {\"showLink\": true, \"linkText\": \"Export to plot.ly\", \"plotlyServerURL\": \"https://plot.ly\", \"responsive\": true}                    ).then(function(){\n",
       "                            \n",
       "var gd = document.getElementById('88f307bb-6967-4839-b0c1-7cbcdc3bdcb2');\n",
       "var x = new MutationObserver(function (mutations, observer) {{\n",
       "        var display = window.getComputedStyle(gd).display;\n",
       "        if (!display || display === 'none') {{\n",
       "            console.log([gd, 'removed!']);\n",
       "            Plotly.purge(gd);\n",
       "            observer.disconnect();\n",
       "        }}\n",
       "}});\n",
       "\n",
       "// Listen for the removal of the full notebook cells\n",
       "var notebookContainer = gd.closest('#notebook-container');\n",
       "if (notebookContainer) {{\n",
       "    x.observe(notebookContainer, {childList: true});\n",
       "}}\n",
       "\n",
       "// Listen for the clearing of the current output cell\n",
       "var outputEl = gd.closest('.output');\n",
       "if (outputEl) {{\n",
       "    x.observe(outputEl, {childList: true});\n",
       "}}\n",
       "\n",
       "                        })                };                });            </script>        </div>"
      ]
     },
     "metadata": {},
     "output_type": "display_data"
    }
   ],
   "source": [
    "ALL.iplot(x='Date', y=['ADH','IHC','ETISALAT','FAB','TAQA'], theme='ggplot', colorscale='dflt', width=2)"
   ]
  }
 ],
 "metadata": {
  "kernelspec": {
   "display_name": "Python 3",
   "language": "python",
   "name": "python3"
  },
  "language_info": {
   "codemirror_mode": {
    "name": "ipython",
    "version": 3
   },
   "file_extension": ".py",
   "mimetype": "text/x-python",
   "name": "python",
   "nbconvert_exporter": "python",
   "pygments_lexer": "ipython3",
   "version": "3.8.8"
  }
 },
 "nbformat": 4,
 "nbformat_minor": 5
}
